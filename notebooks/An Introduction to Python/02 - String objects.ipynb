{
 "cells": [
  {
   "cell_type": "markdown",
   "id": "ca0ccc3065",
   "metadata": {},
   "source": [
    " # String objects\n",
    "\n",
    " ## Creating string objects"
   ]
  },
  {
   "cell_type": "code",
   "execution_count": 1,
   "id": "3e85bde8a0",
   "metadata": {},
   "outputs": [
    {
     "name": "stdout",
     "output_type": "stream",
     "text": [
      "hello world\n",
      "<class 'str'>\n"
     ]
    }
   ],
   "source": [
    "s = \"hello world\"\n",
    "print(s)\n",
    "print(type(s))"
   ]
  },
  {
   "cell_type": "markdown",
   "id": "57da036c29",
   "metadata": {},
   "source": [
    " ## Converting objects to strings\n",
    "\n",
    " numbers can be converted to strings using the str() function, for example:"
   ]
  },
  {
   "cell_type": "code",
   "execution_count": 2,
   "id": "d3dd1acdaa",
   "metadata": {},
   "outputs": [
    {
     "name": "stdout",
     "output_type": "stream",
     "text": [
      "1\n",
      "<class 'str'>\n",
      "1.0\n",
      "<class 'str'>\n"
     ]
    }
   ],
   "source": [
    "print(str(1))\n",
    "print(type(str(1)))\n",
    "print(str(1.0))\n",
    "print(type(str(1.0)))"
   ]
  },
  {
   "cell_type": "markdown",
   "id": "cc4d8177f9",
   "metadata": {},
   "source": [
    "\n",
    " ## String slicing\n",
    "\n",
    " Strings can be sliced using the [start:end] syntax, for example:"
   ]
  },
  {
   "cell_type": "code",
   "execution_count": 3,
   "id": "450c9bfc48",
   "metadata": {},
   "outputs": [
    {
     "name": "stdout",
     "output_type": "stream",
     "text": [
      "hello\n",
      "hello\n",
      "world\n",
      "d\n",
      "hello wor\n",
      "worl\n"
     ]
    }
   ],
   "source": [
    "print(s[0:5])  # hello\n",
    "print(s[:5])  # hello\n",
    "print(s[6:])  # world\n",
    "print(s[-1])  # d\n",
    "print(s[:-2])  # hello wor\n",
    "print(s[-5:-1])  # worl"
   ]
  },
  {
   "cell_type": "markdown",
   "id": "c25d71a7fb",
   "metadata": {},
   "source": [
    "\n",
    "A `::` can be used to specify a step value. E.g. `s[::2]` means, \"every second character\".\n",
    "Negative step values can be used to reverse the string: `s[::-1]`"
   ]
  },
  {
   "cell_type": "code",
   "execution_count": 4,
   "id": "b6f455df73",
   "metadata": {},
   "outputs": [
    {
     "name": "stdout",
     "output_type": "stream",
     "text": [
      "hlowrd\n",
      "el ol\n",
      "dlrow olleh\n",
      "row olleh\n"
     ]
    }
   ],
   "source": [
    "print(s[::2])  # hlowrd, i.e. every second character\n",
    "print(s[1::2])  # el ol, i.e. every second character starting from the index 1 (second character)\n",
    "print(s[::-1])  # dlrow olleh, i.e. the reversed string\n",
    "print(s[-3::-1])  # row olleh, i.e. the reversed string starting from the third-to-last character"
   ]
  },
  {
   "cell_type": "markdown",
   "id": "e5368d1ee5",
   "metadata": {},
   "source": [
    " ## Concatenating strings\n",
    "\n",
    " strings can be concatenated, for example:"
   ]
  },
  {
   "cell_type": "code",
   "execution_count": 5,
   "id": "dd3d5addcd",
   "metadata": {},
   "outputs": [
    {
     "name": "stdout",
     "output_type": "stream",
     "text": [
      "hello world!\n"
     ]
    }
   ],
   "source": [
    "s2 = \"!\"\n",
    "print(s + s2)"
   ]
  },
  {
   "cell_type": "markdown",
   "id": "bf4524c386",
   "metadata": {},
   "source": [
    " we can also include numbers stored in objects in strings, for example:"
   ]
  },
  {
   "cell_type": "code",
   "execution_count": 6,
   "id": "72ba5a21b5",
   "metadata": {},
   "outputs": [
    {
     "name": "stdout",
     "output_type": "stream",
     "text": [
      "x is equal to 3\n"
     ]
    }
   ],
   "source": [
    "x = 3\n",
    "print(\"x is equal to \" + str(x))"
   ]
  },
  {
   "cell_type": "markdown",
   "id": "0212c48766",
   "metadata": {},
   "source": [
    " ## String formatting\n",
    "\n",
    " It is more elegant to use string formatting in such cases, for example:"
   ]
  },
  {
   "cell_type": "code",
   "execution_count": 7,
   "id": "ce2eeaece9",
   "metadata": {},
   "outputs": [
    {
     "name": "stdout",
     "output_type": "stream",
     "text": [
      "x is equal to 3\n"
     ]
    }
   ],
   "source": [
    "print(f\"x is equal to {x}\")"
   ]
  },
  {
   "cell_type": "markdown",
   "id": "583fca2011",
   "metadata": {},
   "source": [
    " Floats can be formatted using the f-string method, for example:"
   ]
  },
  {
   "cell_type": "code",
   "execution_count": 8,
   "id": "29e54bfb9d",
   "metadata": {},
   "outputs": [
    {
     "name": "stdout",
     "output_type": "stream",
     "text": [
      "y is equal to 3.14\n"
     ]
    }
   ],
   "source": [
    "y = 3.14159265359\n",
    "print(f\"y is equal to {y:.2f}\")"
   ]
  },
  {
   "cell_type": "markdown",
   "id": "065aac743e",
   "metadata": {},
   "source": [
    " ## Exercise: Manipulate and format strings\n",
    "\n",
    " ### Tasks:\n",
    "\n",
    " 1. Create a variable called jedi_name with your favorite Jedi's name.\n",
    "\n",
    " 2. Create a variable called sith_name with your favorite Sith's name.\n",
    "\n",
    " 3. Concatenate jedi_name and sith_name with \" vs. \" in between and print the result.\n",
    "\n",
    " 4. Use an f-string to print a message that includes the jedi_name and sith_name in a Star Wars duel context.\n",
    "\n",
    " 5. BONUS: use the capitalize() method to capitalize the first letter of jedi_name and sith_name before concatenating them.\n",
    "\n",
    " 6. BONUS: calculate the length of the *sith_name* and print it on the screen.\n",
    "\n",
    " 7. BONUS: print the ratio of the length of *sith_name* to the length of *jedi_name* on the screen, rounded to 2 decimal places."
   ]
  },
  {
   "cell_type": "markdown",
   "id": "c90a3b5293",
   "metadata": {},
   "source": [
    " ### Solution:"
   ]
  },
  {
   "cell_type": "code",
   "execution_count": 9,
   "id": "9f64157408",
   "metadata": {},
   "outputs": [
    {
     "name": "stdout",
     "output_type": "stream",
     "text": [
      "Luke Skywalker vs. Darth Vader\n",
      "Luke Skywalker vs. Darth Vader in a Star Wars duel!\n",
      "Luke skywalker vs. Darth vader\n",
      "11\n",
      "0.79\n",
      "0.79\n"
     ]
    }
   ],
   "source": [
    "# 1. Create a variable called jedi_name with your favorite Jedi's name.\n",
    "jedi_name = \"Luke Skywalker\"\n",
    "\n",
    "# 2. Create a variable called sith_name with your favorite Sith's name.\n",
    "sith_name = \"Darth Vader\"\n",
    "\n",
    "# 3. Concatenate jedi_name and sith_name with \" vs. \" in between and print the result.\n",
    "print(jedi_name + \" vs. \" + sith_name)\n",
    "\n",
    "# 4. Use an f-string to print a message that includes the jedi_name and sith_name in a Star Wars duel context.\n",
    "print(f\"{jedi_name} vs. {sith_name} in a Star Wars duel!\")\n",
    "\n",
    "# 5. BONUS: use the capitalize() method to capitalize the first letter of jedi_name and sith_name before concatenating them.\n",
    "print(jedi_name.capitalize() + \" vs. \" + sith_name.capitalize())\n",
    "\n",
    "# 6. BONUS: calculate the length of the *sith_name* and print it on the screen.\n",
    "print(len(sith_name))\n",
    "\n",
    "# 7. BONUS: print the ratio of the length of *sith_name* to the length of *jedi_name* on the screen, rounded to 2 decimal places.\n",
    "print(round(len(sith_name) / len(jedi_name), 2))\n",
    "\n",
    "# using f-string for the rounding\n",
    "print(f\"{len(sith_name) / len(jedi_name):.2f}\")"
   ]
  },
  {
   "cell_type": "markdown",
   "id": "1b379321a7",
   "metadata": {},
   "source": [
    " ## Creating very long strings\n",
    "\n",
    " Very long strings can be created using triple quotes, for example:"
   ]
  },
  {
   "cell_type": "code",
   "execution_count": 10,
   "id": "0ca3334443",
   "metadata": {},
   "outputs": [
    {
     "name": "stdout",
     "output_type": "stream",
     "text": [
      "This is a very long string\n",
      "that spans multiple lines\n",
      "and can be used to create\n",
      "documentation\n"
     ]
    }
   ],
   "source": [
    "s3 = \"\"\"This is a very long string\n",
    "that spans multiple lines\n",
    "and can be used to create\n",
    "documentation\"\"\"\n",
    "print(s3)"
   ]
  },
  {
   "cell_type": "markdown",
   "id": "ce0eb1ab8c",
   "metadata": {},
   "source": [
    " Alternatively, you can use the parenthesis (), for example:"
   ]
  },
  {
   "cell_type": "code",
   "execution_count": 11,
   "id": "905a9d8b1c",
   "metadata": {},
   "outputs": [
    {
     "name": "stdout",
     "output_type": "stream",
     "text": [
      "This is a very long string that spans multiple lines and can be used to create documentation\n"
     ]
    }
   ],
   "source": [
    "s3 = \"This is a very long string that spans multiple lines and can be used to create documentation\"\n",
    "print(s3)"
   ]
  },
  {
   "cell_type": "markdown",
   "id": "a03e284a1e",
   "metadata": {},
   "source": [
    " ## Working with file paths\n",
    "\n",
    " File paths are often stored in strings, for example:"
   ]
  },
  {
   "cell_type": "code",
   "execution_count": 12,
   "id": "2b1256d982",
   "metadata": {},
   "outputs": [
    {
     "name": "stdout",
     "output_type": "stream",
     "text": [
      "C:/Users/Thomas/Documents/Python Scripts\n"
     ]
    }
   ],
   "source": [
    "path = \"C:/Users/Thomas/Documents/Python Scripts\"\n",
    "print(path)"
   ]
  },
  {
   "cell_type": "markdown",
   "id": "36367bad1a",
   "metadata": {},
   "source": [
    " However, some operating systems (like Windows) use backslashes (\\) instead of forward slashes (/) to separate folders in a file path. This can cause problems when using strings to store file paths. One solution is to use raw strings, for example:"
   ]
  },
  {
   "cell_type": "code",
   "execution_count": 13,
   "id": "f1ece4473b",
   "metadata": {},
   "outputs": [
    {
     "name": "stdout",
     "output_type": "stream",
     "text": [
      "C:\\Users\\Thomas\\Documents\\Python Scripts\n"
     ]
    }
   ],
   "source": [
    "path = r\"C:\\Users\\Thomas\\Documents\\Python Scripts\"\n",
    "print(path)"
   ]
  },
  {
   "cell_type": "markdown",
   "id": "18a2bc464c",
   "metadata": {},
   "source": [
    " alternatively, you can use double backslashes"
   ]
  },
  {
   "cell_type": "code",
   "execution_count": 14,
   "id": "8da0b7f386",
   "metadata": {},
   "outputs": [
    {
     "name": "stdout",
     "output_type": "stream",
     "text": [
      "C:\\Users\\Thomas\\Documents\\Python Scripts\n"
     ]
    }
   ],
   "source": [
    "path = \"C:\\\\Users\\\\Thomas\\\\Documents\\\\Python Scripts\"\n",
    "print(path)"
   ]
  },
  {
   "cell_type": "markdown",
   "id": "7a930817c5",
   "metadata": {},
   "source": [
    " ## Special characters / escape characters\n",
    "\n",
    " Backslashes are usually used to 'escape' special characters. The term 'escape' means that the character following the backslash is treated as a special character, for example:"
   ]
  },
  {
   "cell_type": "code",
   "execution_count": 15,
   "id": "f6889e27ac",
   "metadata": {},
   "outputs": [
    {
     "name": "stdout",
     "output_type": "stream",
     "text": [
      "hello\n",
      "world\n",
      "hello\tworld\n",
      "hello\\world\n"
     ]
    }
   ],
   "source": [
    "print(\"hello\\nworld\")\n",
    "print(\"hello\\tworld\")\n",
    "print(\"hello\\\\world\")"
   ]
  },
  {
   "cell_type": "markdown",
   "id": "c27217fd9a",
   "metadata": {},
   "source": [
    " ## String methods and chaining\n",
    "\n",
    " Generally, most objects have methods that can be used to perform operations on the object. Methods are called using the dot notation. Strings also have specialized methods, for example:"
   ]
  },
  {
   "cell_type": "code",
   "execution_count": 16,
   "id": "0106486697",
   "metadata": {},
   "outputs": [
    {
     "name": "stdout",
     "output_type": "stream",
     "text": [
      "HELLO WORLD\n",
      "Hello world\n",
      "heLLo worLd\n",
      "['hello', 'world']\n"
     ]
    }
   ],
   "source": [
    "s = \"hello world\"\n",
    "print(s.upper())\n",
    "print(s.capitalize())\n",
    "print(s.replace(\"l\", \"L\"))\n",
    "print(s.split(\" \"))"
   ]
  },
  {
   "cell_type": "markdown",
   "id": "f7f57cb8fa",
   "metadata": {},
   "source": [
    " Methods can be chained, for example:"
   ]
  },
  {
   "cell_type": "code",
   "execution_count": 17,
   "id": "3e15ab21ef",
   "metadata": {},
   "outputs": [
    {
     "name": "stdout",
     "output_type": "stream",
     "text": [
      "['HeLLo', 'worLd']\n"
     ]
    }
   ],
   "source": [
    "print(s.upper().capitalize().replace(\"l\", \"L\").split(\" \"))"
   ]
  },
  {
   "cell_type": "markdown",
   "id": "b3e6398337",
   "metadata": {},
   "source": [
    " ## Breaking long lines of code\n",
    "\n",
    " Long lines of code can be broken into multiple lines using parentheses, for example:"
   ]
  },
  {
   "cell_type": "code",
   "execution_count": 18,
   "id": "d8e395e36a",
   "metadata": {},
   "outputs": [
    {
     "name": "stdout",
     "output_type": "stream",
     "text": [
      "['HeLLo', 'worLd']\n"
     ]
    }
   ],
   "source": [
    "# fmt: off\n",
    "s4 = (\n",
    "    s.upper()\n",
    "    .capitalize()\n",
    "    .replace(\"l\", \"L\")\n",
    "    .split(\" \")\n",
    ")\n",
    "print(s4)\n",
    "# fmt: on"
   ]
  },
  {
   "cell_type": "code",
   "execution_count": 19,
   "id": "51e3fe31b6",
   "metadata": {},
   "outputs": [
    {
     "name": "stdout",
     "output_type": "stream",
     "text": [
      "['HeLLo', 'worLd']\n"
     ]
    }
   ],
   "source": [
    "s4 = s.upper().capitalize().replace(\"l\", \"L\").split(\" \")\n",
    "print(s4)"
   ]
  },
  {
   "cell_type": "markdown",
   "id": "467999d7e8",
   "metadata": {},
   "source": [
    " <blockquote><b>&#x1F517; Data Preparation &amp; Analysis</b>\n",
    "\n",
    " * very often, data is stored as string in *DataFrames* objects\n",
    "\n",
    " * string methods can then be used to clean text data (e.g. remove special characters, or trailing white space)\n",
    "\n",
    " * for example, harmonize the spelling by enforcing lowercase (Munich vs. munich)\n",
    "\n",
    " * in other cases, string methods can be used to extract information from strings (e.g. extract the domain from an email address)\n",
    "\n",
    " * if numbers are provided with a comma as a decimal separator, the comma can be replaced with a dot to convert the string to a float\n",
    "\n",
    " * similarly, if numbers are provided with a unit (e.g. 1000 kWh), the unit can be removed to convert the string to a float\n",
    "\n",
    " * many functions and methods accept strings as arguments\n",
    "\n",
    " </blockquote>"
   ]
  },
  {
   "cell_type": "markdown",
   "id": "7bb05a0d43",
   "metadata": {},
   "source": [
    " ## Exercice: string methods and methods chaining\n",
    "\n",
    " ### Tasks:\n",
    "\n",
    " 1. create a variable called *s* with the value \"Python is great\" and print it on the screen\n",
    "\n",
    " 2. use the upper() method to convert *s* to uppercase and print it on the screen\n",
    "\n",
    " 3. use the capitalize() method to capitalize *s* and print it on the screen\n",
    "\n",
    " 4. use the replace() method to replace \"great\" with \"awesome\" in *s* and print it on the screen\n",
    "\n",
    " 5. first use replace() to replace \"great\" with \"awesome\" and then use upper() to convert *s* to uppercase and print it on the screen\n",
    "\n",
    " 6. BONUS: use the split() method to split *s* into a list of words and print it on the screen\n",
    "\n",
    " 7. BONUS: use the join() method to join the list of words into a single string separated by a comma and print it on the screen\n",
    "\n",
    " 8. BONUS: remove any leading or trailing whitespaces from the string \" Python is great \" and print it on the screen"
   ]
  },
  {
   "cell_type": "markdown",
   "id": "c90a3b5293-1",
   "metadata": {},
   "source": [
    " ### Solution:"
   ]
  },
  {
   "cell_type": "code",
   "execution_count": 20,
   "id": "5dc7d6ce2c",
   "metadata": {},
   "outputs": [
    {
     "name": "stdout",
     "output_type": "stream",
     "text": [
      "Python is great\n",
      "PYTHON IS GREAT\n",
      "Python is great\n",
      "Python is awesome\n",
      "PYTHON IS AWESOME\n",
      "['Python', 'is', 'great']\n",
      "Python, is, great\n",
      "Python is great\n"
     ]
    }
   ],
   "source": [
    "# 1. create a variable called *s* with the value \"Python is great\" and print it on the screen\n",
    "s = \"Python is great\"\n",
    "print(s)\n",
    "\n",
    "# 2. use the upper() method to convert *s* to uppercase and print it on the screen\n",
    "print(s.upper())\n",
    "\n",
    "# 3. use the capitalize() method to capitalize *s* and print it on the screen\n",
    "print(s.capitalize())\n",
    "\n",
    "# 4. use the replace() method to replace \"great\" with \"awesome\" in *s* and print it on the screen\n",
    "print(s.replace(\"great\", \"awesome\"))\n",
    "\n",
    "# 5. first use replace() to replace \"great\" with \"awesome\" and then use upper() to convert *s* to uppercase and print it on the screen\n",
    "print(s.replace(\"great\", \"awesome\").upper())\n",
    "\n",
    "# 6. BONUS: use the split() method to split *s* into a list of words and print it on the screen\n",
    "print(s.split())\n",
    "\n",
    "# 7. BONUS: use the join() method to join the list of words into a single string separated by a comma and print it on the screen\n",
    "print(\", \".join(s.split()))\n",
    "\n",
    "# 8. BONUS: remove any leading or trailing whitespaces from the string \" Python is great \" and print it on the screen\n",
    "print(\" Python is great \".strip())"
   ]
  }
 ],
 "metadata": {
  "jupytext": {
   "text_representation": {
    "extension": ".py",
    "format_name": "percent",
    "format_version": "1.3",
    "jupytext_version": "1.17.2"
   }
  },
  "kernelspec": {
   "display_name": ".venv",
   "language": "python",
   "name": "python3"
  },
  "language_info": {
   "codemirror_mode": {
    "name": "ipython",
    "version": 3
   },
   "file_extension": ".py",
   "mimetype": "text/x-python",
   "name": "python",
   "nbconvert_exporter": "python",
   "pygments_lexer": "ipython3",
   "version": "3.13.6"
  }
 },
 "nbformat": 4,
 "nbformat_minor": 5
}
