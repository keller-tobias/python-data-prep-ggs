{
 "cells": [
  {
   "cell_type": "markdown",
   "id": "c3f3d241cf",
   "metadata": {},
   "source": [
    " # Collections\n",
    "\n",
    " Collections are used to store multiple objects. There are three main types of collections in Python: lists, tuples, and dictionaries.\n",
    "\n",
    " ## Lists\n",
    "\n",
    " ### Creating lists\n",
    "\n",
    " Lists are used to store multiple objects, for example:"
   ]
  },
  {
   "cell_type": "code",
   "execution_count": 1,
   "id": "0747ef4f92",
   "metadata": {},
   "outputs": [
    {
     "name": "stdout",
     "output_type": "stream",
     "text": [
      "['Luke Skywalker', 'Darth Vader', 'Yoda', 'Obi-Wan Kenobi']\n",
      "<class 'list'>\n"
     ]
    }
   ],
   "source": [
    "characters = [\"Luke Skywalker\", \"Darth Vader\", \"Yoda\", \"Obi-Wan Kenobi\"]\n",
    "print(characters)\n",
    "print(type(characters))"
   ]
  },
  {
   "cell_type": "markdown",
   "id": "59c664d5d6",
   "metadata": {},
   "source": [
    " ### Accessing individual list items\n",
    "\n",
    " Lists can be accessed using their index, for example:"
   ]
  },
  {
   "cell_type": "code",
   "execution_count": 2,
   "id": "723fcb15e2",
   "metadata": {},
   "outputs": [
    {
     "name": "stdout",
     "output_type": "stream",
     "text": [
      "Luke Skywalker\n",
      "Darth Vader\n",
      "Yoda\n"
     ]
    }
   ],
   "source": [
    "print(characters[0])  # first element\n",
    "print(characters[1])  # second element\n",
    "print(characters[2])  # third element"
   ]
  },
  {
   "cell_type": "code",
   "execution_count": 3,
   "id": "4004c5204d",
   "metadata": {},
   "outputs": [
    {
     "name": "stdout",
     "output_type": "stream",
     "text": [
      "Obi-Wan Kenobi\n",
      "Yoda\n"
     ]
    }
   ],
   "source": [
    "# negative indices refer to the position relative to the end\n",
    "print(characters[-1])  # last element\n",
    "print(characters[-2])  # second to last element"
   ]
  },
  {
   "cell_type": "markdown",
   "id": "dd5a3f4887",
   "metadata": {},
   "source": [
    " ### Accessing multiple list items (slicing)\n",
    "\n",
    " Accessing multiple items in a list is called slicing. Slicing is done using the colon (:), for example:"
   ]
  },
  {
   "cell_type": "code",
   "execution_count": 4,
   "id": "d75cab0373",
   "metadata": {},
   "outputs": [
    {
     "name": "stdout",
     "output_type": "stream",
     "text": [
      "['Luke Skywalker', 'Darth Vader']\n",
      "['Luke Skywalker', 'Darth Vader']\n",
      "['Yoda', 'Obi-Wan Kenobi']\n",
      "['Yoda', 'Obi-Wan Kenobi']\n",
      "['Luke Skywalker', 'Darth Vader']\n"
     ]
    }
   ],
   "source": [
    "print(characters[0:2])\n",
    "print(characters[:2])\n",
    "print(characters[2:])\n",
    "print(characters[-2:])\n",
    "print(characters[:-2])"
   ]
  },
  {
   "cell_type": "markdown",
   "id": "2c6d550ab3",
   "metadata": {},
   "source": [
    "\n",
    " Like with strings, `::` can be used to specify a step value. E.g. `characters[::2]` means, \"every second item in the list\"."
   ]
  },
  {
   "cell_type": "code",
   "execution_count": 5,
   "id": "0ce2895d10",
   "metadata": {},
   "outputs": [
    {
     "name": "stdout",
     "output_type": "stream",
     "text": [
      "['Luke Skywalker', 'Yoda']\n",
      "['Darth Vader', 'Obi-Wan Kenobi']\n"
     ]
    }
   ],
   "source": [
    "print(characters[::2])  # every second item in the list\n",
    "print(characters[1::2])  # every second item in the list starting from the second item"
   ]
  },
  {
   "cell_type": "markdown",
   "id": "c545cb806c",
   "metadata": {},
   "source": [
    " ### Modifying individual list items"
   ]
  },
  {
   "cell_type": "code",
   "execution_count": 6,
   "id": "ab4e73608f",
   "metadata": {},
   "outputs": [
    {
     "name": "stdout",
     "output_type": "stream",
     "text": [
      "['Boba Fett', 'Darth Vader', 'Yoda', 'Obi-Wan Kenobi']\n"
     ]
    }
   ],
   "source": [
    "characters[0] = \"Boba Fett\"\n",
    "print(characters)"
   ]
  },
  {
   "cell_type": "markdown",
   "id": "744951be68",
   "metadata": {},
   "source": [
    " ### Adding and removing individual items:"
   ]
  },
  {
   "cell_type": "code",
   "execution_count": 7,
   "id": "5838b94160",
   "metadata": {},
   "outputs": [
    {
     "name": "stdout",
     "output_type": "stream",
     "text": [
      "['Boba Fett', 'Darth Vader', 'Yoda', 'Obi-Wan Kenobi', 'Jaja Bings']\n"
     ]
    }
   ],
   "source": [
    "# Adding an item\n",
    "characters.append(\"Jaja Bings\")\n",
    "print(characters)"
   ]
  },
  {
   "cell_type": "code",
   "execution_count": 8,
   "id": "0489806cbe",
   "metadata": {},
   "outputs": [
    {
     "name": "stdout",
     "output_type": "stream",
     "text": [
      "['Boba Fett', 'Darth Vader', 'Yoda', 'Obi-Wan Kenobi']\n"
     ]
    }
   ],
   "source": [
    "# Removing an item\n",
    "characters.remove(\"Jaja Bings\")\n",
    "print(characters)"
   ]
  },
  {
   "cell_type": "markdown",
   "id": "70f78b9ae7",
   "metadata": {},
   "source": [
    " ### Adding another list (i.e. concatenating lists):"
   ]
  },
  {
   "cell_type": "code",
   "execution_count": 9,
   "id": "488c6700bd",
   "metadata": {},
   "outputs": [
    {
     "name": "stdout",
     "output_type": "stream",
     "text": [
      "['Boba Fett', 'Darth Vader', 'Yoda', 'Obi-Wan Kenobi', 'Palpatine', 'Kylo']\n",
      "['Boba Fett', 'Darth Vader', 'Yoda', 'Obi-Wan Kenobi', 'Palpatine', 'Kylo', 'Ackbar', 'Organa']\n",
      "['Boba Fett', 'Darth Vader', 'Yoda', 'Obi-Wan Kenobi', 'Palpatine', 'Kylo', 'Ackbar', 'Organa', ['Palpatine', 'Kylo']]\n"
     ]
    }
   ],
   "source": [
    "# using the + operator\n",
    "characters = characters + [\"Palpatine\", \"Kylo\"]\n",
    "print(characters)\n",
    "# using the extend() method\n",
    "characters.extend([\"Ackbar\", \"Organa\"])\n",
    "print(characters)\n",
    "# careful with the append() method, when appending a list, it will be added as a single (nested) element\n",
    "characters.append([\"Palpatine\", \"Kylo\"])\n",
    "print(characters)"
   ]
  },
  {
   "cell_type": "markdown",
   "id": "9cc707387f",
   "metadata": {},
   "source": [
    " ### Conveniently generating lists\n",
    "\n",
    " #### Repeated elements\n",
    "\n",
    " Lists of repeated elements can be easily created using the multiplication operator (*), for example:"
   ]
  },
  {
   "cell_type": "code",
   "execution_count": 10,
   "id": "fc0fedd924",
   "metadata": {},
   "outputs": [
    {
     "name": "stdout",
     "output_type": "stream",
     "text": [
      "[0, 0, 0, 0, 0]\n",
      "['Product A', 'Product A', 'Product A', 'Product B', 'Product B']\n"
     ]
    }
   ],
   "source": [
    "zeros = [0] * 5\n",
    "print(zeros)\n",
    "product_categories = [\"Product A\"] * 3 + [\"Product B\"] * 2\n",
    "print(product_categories)"
   ]
  },
  {
   "cell_type": "markdown",
   "id": "9173e9e073",
   "metadata": {},
   "source": [
    " #### Numeric ranges\n",
    "\n",
    " Lists of numeric ranges can be easily created using the `range()` function, for example:"
   ]
  },
  {
   "cell_type": "code",
   "execution_count": 11,
   "id": "9d2eb05896",
   "metadata": {},
   "outputs": [
    {
     "name": "stdout",
     "output_type": "stream",
     "text": [
      "[1, 2, 3, 4, 5]\n"
     ]
    }
   ],
   "source": [
    "numbers = list(range(1, 6))\n",
    "print(numbers)"
   ]
  },
  {
   "cell_type": "markdown",
   "id": "a261fc90bd",
   "metadata": {},
   "source": [
    " ### Lists of mixed types\n",
    "\n",
    " Lists can contain objects of different types, for example:"
   ]
  },
  {
   "cell_type": "code",
   "execution_count": 12,
   "id": "2a1d82ad42",
   "metadata": {},
   "outputs": [
    {
     "name": "stdout",
     "output_type": "stream",
     "text": [
      "[1, 'hello', 3.0]\n",
      "<class 'list'>\n"
     ]
    }
   ],
   "source": [
    "another_list = [1, \"hello\", 3.0]\n",
    "print(another_list)\n",
    "print(type(another_list))"
   ]
  },
  {
   "cell_type": "markdown",
   "id": "7152564f60",
   "metadata": {},
   "source": [
    " ### Strings are also lists\n",
    "\n",
    " Strings can be treated as lists of characters, and therefore can be sliced and accessed in the same way, for example:"
   ]
  },
  {
   "cell_type": "code",
   "execution_count": 13,
   "id": "4fb28927ae",
   "metadata": {},
   "outputs": [
    {
     "name": "stdout",
     "output_type": "stream",
     "text": [
      "h\n",
      "hello\n",
      "hello\n"
     ]
    }
   ],
   "source": [
    "s = \"hello world\"\n",
    "print(s[0])\n",
    "print(s[0:5])\n",
    "print(s[:5])"
   ]
  },
  {
   "cell_type": "markdown",
   "id": "a6a41121f4",
   "metadata": {},
   "source": [
    " ### Nested lists"
   ]
  },
  {
   "cell_type": "code",
   "execution_count": 14,
   "id": "c3e351bbf1",
   "metadata": {},
   "outputs": [
    {
     "name": "stdout",
     "output_type": "stream",
     "text": [
      "[[1, 2, 3], [4, 5, 6]]\n",
      "[1, 2, 3]\n",
      "[4, 5, 6]\n",
      "1\n",
      "2\n"
     ]
    }
   ],
   "source": [
    "nested_list = [[1, 2, 3], [4, 5, 6]]\n",
    "print(nested_list)\n",
    "print(nested_list[0])\n",
    "print(nested_list[1])\n",
    "print(nested_list[0][0])\n",
    "print(nested_list[0][1])"
   ]
  },
  {
   "cell_type": "markdown",
   "id": "b5b42f53a8",
   "metadata": {},
   "source": [
    " ### Sorting lists\n",
    "\n",
    " Lists can be sorted or reversed, for example:"
   ]
  },
  {
   "cell_type": "code",
   "execution_count": 15,
   "id": "9e0f962e7b",
   "metadata": {},
   "outputs": [
    {
     "name": "stdout",
     "output_type": "stream",
     "text": [
      "[1, 2, 3, 4, 5, 6, 7]\n",
      "[7, 6, 5, 4, 3, 2, 1]\n"
     ]
    }
   ],
   "source": [
    "numbers = [5, 7, 2, 1, 3, 4, 6]\n",
    "numbers.sort()\n",
    "print(numbers)\n",
    "numbers.reverse()\n",
    "print(numbers)"
   ]
  },
  {
   "cell_type": "markdown",
   "id": "7a10e3da6f",
   "metadata": {},
   "source": [
    " ### The len() function\n",
    "\n",
    " The len() function can be used to get the length of a list, tuple, string, or dict, for example:"
   ]
  },
  {
   "cell_type": "code",
   "execution_count": 16,
   "id": "c93e2c459a",
   "metadata": {},
   "outputs": [
    {
     "name": "stdout",
     "output_type": "stream",
     "text": [
      "3\n",
      "5\n"
     ]
    }
   ],
   "source": [
    "print(len([1, 2, 3]))\n",
    "print(len(\"hello\"))"
   ]
  },
  {
   "cell_type": "markdown",
   "id": "57d5fb7c82",
   "metadata": {},
   "source": [
    " <blockquote><b>&#x1F517; Data Preparation &amp; Analysis</b>\n",
    "\n",
    " * lists are omnipresent in data preparation and analysis: they are used to store data or results of data analysis, etc.\n",
    "\n",
    " * in fact, columns of *pandas* DataFrames are (special kinds of) lists of numbers, strings etc.\n",
    "\n",
    " * when reading data from a directory, lists are used to collect and select the file paths\n",
    "\n",
    " * in machine learning, lists are used to store the results of cross-validation, hyperparameter tuning, etc.\n",
    "\n",
    " </blockquote>"
   ]
  },
  {
   "cell_type": "markdown",
   "id": "457f20d5af",
   "metadata": {},
   "source": [
    " ### Exercice: Lists\n",
    "\n",
    " #### Tasks:\n",
    "\n",
    " 1. create a variable called *numbers* with the value [1,2,3,4,5] and print it on the screen\n",
    "\n",
    " 2. add the values [6,7,8] to *numbers* and print it on the screen\n",
    "\n",
    " 3. add the value 9 to *numbers* and print it on the screen\n",
    "\n",
    " 4. add the values [10,11,12] to *numbers* and print it on the screen\n",
    "\n",
    " 5. remove the value 1 from *numbers* and print it on the screen\n",
    "\n",
    " 6. sort *numbers* and print it on the screen\n",
    "\n",
    " 7. BONUS: use the reverse() method to reverse *numbers* and print it on the screen\n",
    "\n",
    " 8. BONUS: use the index() method to find the index of the value 5 in *numbers* and print it on the screen\n",
    "\n",
    " 9. BONUS: use the count() method to count the number of times the value 5 appears in *numbers* and print it on the screen\n",
    "\n",
    " 10. print the number of words in \"May the Force be with you\" on the screen"
   ]
  },
  {
   "cell_type": "markdown",
   "id": "570e1dbbf3",
   "metadata": {},
   "source": [
    " #### Solution:"
   ]
  },
  {
   "cell_type": "code",
   "execution_count": 17,
   "id": "f1101055af",
   "metadata": {},
   "outputs": [
    {
     "name": "stdout",
     "output_type": "stream",
     "text": [
      "[1, 2, 3, 4, 5]\n",
      "[1, 2, 3, 4, 5, 6, 7, 8]\n",
      "[1, 2, 3, 4, 5, 6, 7, 8, 9]\n",
      "[1, 2, 3, 4, 5, 6, 7, 8, 9, 10, 11, 12]\n",
      "[2, 3, 4, 5, 6, 7, 8, 9, 10, 11, 12]\n",
      "[2, 3, 4, 5, 6, 7, 8, 9, 10, 11, 12]\n",
      "[12, 11, 10, 9, 8, 7, 6, 5, 4, 3, 2]\n",
      "7\n",
      "1\n",
      "6\n"
     ]
    }
   ],
   "source": [
    "# 1. create a variable called *numbers* with the value [1,2,3,4,5] and print it on the screen\n",
    "numbers = [1, 2, 3, 4, 5]\n",
    "print(numbers)\n",
    "\n",
    "# 2. add the values [6,7,8] to *numbers* and print it on the screen\n",
    "numbers = numbers + [6, 7, 8]\n",
    "print(numbers)\n",
    "\n",
    "# 3. add the value 9 to *numbers* and print it on the screen\n",
    "numbers.append(9)\n",
    "print(numbers)\n",
    "\n",
    "# 4. add the values [10,11,12] to *numbers* and print it on the screen\n",
    "numbers.extend([10, 11, 12])\n",
    "print(numbers)\n",
    "\n",
    "# 5. remove the value 1 from *numbers* and print it on the screen\n",
    "numbers.remove(1)\n",
    "print(numbers)\n",
    "\n",
    "# 6. sort *numbers* and print it on the screen\n",
    "numbers.sort()\n",
    "print(numbers)\n",
    "\n",
    "# 7. BONUS: reverse *numbers* and print it on the screen\n",
    "numbers.reverse()\n",
    "print(numbers)\n",
    "\n",
    "# 8. BONUS: find the index of the value 5 in *numbers* and print it on the screen\n",
    "print(numbers.index(5))\n",
    "\n",
    "# 9. BONUS: count the number of times the value 5 appears in *numbers* and print it on the screen\n",
    "print(numbers.count(5))\n",
    "\n",
    "# 10. print the number of words in \"May the Force be with you\" on the screen\n",
    "print(len(\"May the Force be with you\".split()))"
   ]
  },
  {
   "cell_type": "markdown",
   "id": "2d1d05e7a2",
   "metadata": {},
   "source": [
    " ## Tuples\n",
    "\n",
    " Tuples are similar to lists but are immutable. This means that once a tuple is created, it cannot\n",
    "\n",
    " be modified\n",
    "\n",
    "\n",
    "\n",
    " ### Creating tuples\n",
    "\n",
    " Tuples are created using parentheses (), for example:"
   ]
  },
  {
   "cell_type": "code",
   "execution_count": 18,
   "id": "159344a078",
   "metadata": {},
   "outputs": [
    {
     "name": "stdout",
     "output_type": "stream",
     "text": [
      "(1, 2, 3)\n",
      "<class 'tuple'>\n"
     ]
    }
   ],
   "source": [
    "t = (1, 2, 3)\n",
    "print(t)\n",
    "print(type(t))"
   ]
  },
  {
   "cell_type": "markdown",
   "id": "4abe21ab19",
   "metadata": {},
   "source": [
    " ### Accessing and slicing tuples\n",
    "\n",
    " Tuples can be accessed and sliced in the same way as lists, for example:"
   ]
  },
  {
   "cell_type": "code",
   "execution_count": 19,
   "id": "b4e1ab2d32",
   "metadata": {},
   "outputs": [
    {
     "name": "stdout",
     "output_type": "stream",
     "text": [
      "1\n",
      "(1, 2)\n"
     ]
    }
   ],
   "source": [
    "print(t[0])\n",
    "print(t[0:2])"
   ]
  },
  {
   "cell_type": "markdown",
   "id": "2f898f599a",
   "metadata": {},
   "source": [
    " ### Immutability of tuples\n",
    "\n",
    " But contrary to lists, tuples cannot be modified, for example:"
   ]
  },
  {
   "cell_type": "code",
   "execution_count": 20,
   "id": "d02695d2c6",
   "metadata": {},
   "outputs": [],
   "source": [
    "# t[0] = 4 # this will raise an error"
   ]
  },
  {
   "cell_type": "markdown",
   "id": "1b3802ace2",
   "metadata": {},
   "source": [
    " <blockquote><b>&#x1F517; Data Preparation &amp; Analysis</b>\n",
    "\n",
    " * in most cases, you will not require tuples for data preparation and analysis and will use lists instead\n",
    "\n",
    " * however, many common packages in Python return tuples, e.g. the *os.path.split()* function returns a tuple\n",
    "\n",
    " * furthermore, scikit-learn, a popular machine learning library, often expects tuples as input, and returns tuples as output\n",
    "\n",
    " </blockquote>"
   ]
  },
  {
   "cell_type": "markdown",
   "id": "25ec0636a5",
   "metadata": {},
   "source": [
    " ## Dictionaries\n",
    "\n",
    " Dictionaries are used to store key-value pairs\n",
    "\n",
    "\n",
    " ### Creating dictionaries\n",
    "\n",
    " Dictionaries are created using curly braces {}, for example:"
   ]
  },
  {
   "cell_type": "code",
   "execution_count": 21,
   "id": "b3919f8cc4",
   "metadata": {},
   "outputs": [
    {
     "name": "stdout",
     "output_type": "stream",
     "text": [
      "{'name': 'R2-D2', 'type': 'Astromech', 'creator': 'Anakin Skywalker'}\n",
      "<class 'dict'>\n"
     ]
    }
   ],
   "source": [
    "droid = {\"name\": \"R2-D2\", \"type\": \"Astromech\", \"creator\": \"Anakin Skywalker\"}\n",
    "print(droid)\n",
    "print(type(droid))"
   ]
  },
  {
   "cell_type": "markdown",
   "id": "8cf7b787dc",
   "metadata": {},
   "source": [
    " ### Accessing dictionary items\n",
    "\n",
    " Dicts can be accessed using their key, for example:"
   ]
  },
  {
   "cell_type": "code",
   "execution_count": 22,
   "id": "27ecd6dbad",
   "metadata": {},
   "outputs": [
    {
     "name": "stdout",
     "output_type": "stream",
     "text": [
      "R2-D2\n",
      "Astromech\n",
      "Unknown\n"
     ]
    }
   ],
   "source": [
    "print(droid[\"name\"])\n",
    "print(droid.get(\"type\"))\n",
    "# get also allows a default value for missing keys\n",
    "print(droid.get(\"model\", \"Unknown\"))"
   ]
  },
  {
   "cell_type": "markdown",
   "id": "9d1b2bdb68",
   "metadata": {},
   "source": [
    " ### Returning all keys and values"
   ]
  },
  {
   "cell_type": "code",
   "execution_count": 23,
   "id": "d8831a711c",
   "metadata": {},
   "outputs": [
    {
     "name": "stdout",
     "output_type": "stream",
     "text": [
      "dict_keys(['name', 'type', 'creator'])\n",
      "['name', 'type', 'creator']\n",
      "dict_values(['R2-D2', 'Astromech', 'Anakin Skywalker'])\n",
      "['R2-D2', 'Astromech', 'Anakin Skywalker']\n",
      "dict_items([('name', 'R2-D2'), ('type', 'Astromech'), ('creator', 'Anakin Skywalker')])\n"
     ]
    }
   ],
   "source": [
    "print(droid.keys())  # get all keys as a dynamic view (updates if dict changes, set operations work)\n",
    "print(list(droid))  # get a static list of keys\n",
    "print(droid.values())  # returns a list of all values\n",
    "print(list(droid.values()))  # get a static list of values\n",
    "print(droid.items())  # returns a list of tuples of key-value pairs"
   ]
  },
  {
   "cell_type": "markdown",
   "id": "4209747384",
   "metadata": {},
   "source": [
    " Demonstrating the difference between dynamic views and lists"
   ]
  },
  {
   "cell_type": "code",
   "execution_count": 24,
   "id": "1ffef09c38",
   "metadata": {},
   "outputs": [
    {
     "name": "stdout",
     "output_type": "stream",
     "text": [
      "Dynamic view (keys): dict_keys(['name', 'type', 'creator', 'new_key'])\n",
      "Static list (keys): ['name', 'type', 'creator']\n",
      "Dynamic view (values): dict_values(['R2-D2', 'Astromech', 'Anakin Skywalker', 'new_value'])\n",
      "Static list (values): ['R2-D2', 'Astromech', 'Anakin Skywalker']\n"
     ]
    }
   ],
   "source": [
    "values_view = droid.values()\n",
    "keys_view = droid.keys()\n",
    "values_list = list(droid.values())\n",
    "keys_list = list(droid)\n",
    "droid[\"new_key\"] = \"new_value\"\n",
    "print(f\"Dynamic view (keys): {keys_view}\")\n",
    "print(f\"Static list (keys): {keys_list}\")\n",
    "print(f\"Dynamic view (values): {values_view}\")\n",
    "print(f\"Static list (values): {values_list}\")"
   ]
  },
  {
   "cell_type": "markdown",
   "id": "ed3df2dbaa",
   "metadata": {},
   "source": [
    " ### Adding/Updating items"
   ]
  },
  {
   "cell_type": "code",
   "execution_count": 25,
   "id": "94b4f098cc",
   "metadata": {},
   "outputs": [
    {
     "name": "stdout",
     "output_type": "stream",
     "text": [
      "{'name': 'R2-D2', 'type': 'Astromech', 'creator': 'Anakin Skywalker', 'new_key': 'new_value', 'companion': 'C3PO'}\n",
      "{'name': 'R2-D2', 'type': 'Astromech', 'creator': 'Anakin Skywalker', 'new_key': 'new_value', 'companion': 'C-3PO'}\n"
     ]
    }
   ],
   "source": [
    "droid[\"companion\"] = \"C3PO\"  # adding a new key-value pair\n",
    "print(droid)\n",
    "droid[\"companion\"] = \"C-3PO\"  # updating an existing key-value pair\n",
    "print(droid)"
   ]
  },
  {
   "cell_type": "markdown",
   "id": "9e314f8e8f",
   "metadata": {},
   "source": [
    " ### Removing items"
   ]
  },
  {
   "cell_type": "code",
   "execution_count": 26,
   "id": "c975fe7b5b",
   "metadata": {},
   "outputs": [
    {
     "name": "stdout",
     "output_type": "stream",
     "text": [
      "{'name': 'R2-D2', 'type': 'Astromech', 'new_key': 'new_value', 'companion': 'C-3PO'}\n"
     ]
    }
   ],
   "source": [
    "del droid[\"creator\"]\n",
    "print(droid)"
   ]
  },
  {
   "cell_type": "markdown",
   "id": "a6190ebac0",
   "metadata": {},
   "source": [
    " ### Combining ('merging') dictionaries\n",
    "\n",
    " Combinining dictionaries is sometimes referred to as 'merging'. This can be done using the update() method, for example:"
   ]
  },
  {
   "cell_type": "code",
   "execution_count": 27,
   "id": "965a59e31b",
   "metadata": {},
   "outputs": [
    {
     "name": "stdout",
     "output_type": "stream",
     "text": [
      "{'job': 'navigator', 'special_skill': 'slicing'}\n",
      "{'name': 'R2-D2', 'type': 'Astromech', 'new_key': 'new_value', 'companion': 'C-3PO', 'job': 'navigator', 'special_skill': 'slicing'}\n"
     ]
    }
   ],
   "source": [
    "droid_extras = {\"job\": \"navigator\", \"special_skill\": \"slicing\"}\n",
    "print(droid_extras)\n",
    "droid.update(droid_extras)\n",
    "print(droid)\n",
    "\n",
    "# [markdown]\n",
    "#\n",
    "#  Dictionaries can also be merged using the `|` operator, and the `**` unpacking operator:"
   ]
  },
  {
   "cell_type": "code",
   "execution_count": 28,
   "id": "f2e0b42c44",
   "metadata": {},
   "outputs": [
    {
     "name": "stdout",
     "output_type": "stream",
     "text": [
      "{'name': 'R2-D2', 'type': 'Astromech', 'new_key': 'new_value', 'companion': 'C-3PO', 'job': 'navigator', 'special_skill': 'slicing'}\n",
      "{'name': 'R2-D2', 'type': 'Astromech', 'new_key': 'new_value', 'companion': 'C-3PO', 'job': 'navigator', 'special_skill': 'slicing'}\n"
     ]
    }
   ],
   "source": [
    "print(droid | droid_extras)  # using the | operator\n",
    "print({**droid, **droid_extras})  # using the ** unpacking operator"
   ]
  },
  {
   "cell_type": "markdown",
   "id": "0cdf81bd78",
   "metadata": {},
   "source": [
    " ### Nested and mixed dictionaries\n",
    "\n",
    " Dicts can be nested and contain different types of objects, for example:"
   ]
  },
  {
   "cell_type": "code",
   "execution_count": 29,
   "id": "16abb47814",
   "metadata": {},
   "outputs": [
    {
     "name": "stdout",
     "output_type": "stream",
     "text": [
      "{'a': 1, 'b': ['x', 2, 'z'], 'c': {'d': 4, 'e': 5}, 'd': True, 'e': 3.0, 'f': 'abc'}\n",
      "1\n",
      "<class 'int'>\n",
      "['x', 2, 'z']\n",
      "<class 'list'>\n",
      "{'d': 4, 'e': 5}\n",
      "<class 'dict'>\n",
      "True\n",
      "<class 'bool'>\n",
      "3.0\n",
      "<class 'float'>\n",
      "abc\n",
      "<class 'str'>\n"
     ]
    }
   ],
   "source": [
    "mixed_dict = {\n",
    "    \"a\": 1,\n",
    "    \"b\": [\"x\", 2, \"z\"],\n",
    "    \"c\": {\"d\": 4, \"e\": 5},\n",
    "    \"d\": True,\n",
    "    \"e\": 3.0,\n",
    "    \"f\": \"abc\",\n",
    "}\n",
    "print(mixed_dict)\n",
    "print(mixed_dict[\"a\"])\n",
    "print(type(mixed_dict[\"a\"]))\n",
    "print(mixed_dict[\"b\"])\n",
    "print(type(mixed_dict[\"b\"]))\n",
    "print(mixed_dict[\"c\"])\n",
    "print(type(mixed_dict[\"c\"]))\n",
    "print(mixed_dict[\"d\"])\n",
    "print(type(mixed_dict[\"d\"]))\n",
    "print(mixed_dict[\"e\"])\n",
    "print(type(mixed_dict[\"e\"]))\n",
    "print(mixed_dict[\"f\"])\n",
    "print(type(mixed_dict[\"f\"]))"
   ]
  },
  {
   "cell_type": "markdown",
   "id": "12ff007e8f",
   "metadata": {},
   "source": [
    " <blockquote><b>&#x1F517; Data Preparation &amp; Analysis</b>\n",
    "\n",
    " * in pandas *DataFrames*, dictionaries are used to create new columns or to replace existing columns\n",
    "\n",
    " * *DataFrames* are a special kind of dictionary, where the keys are the column names and the values (which are lists) are the columns themselves\n",
    "\n",
    " * dictionaries are also used to store *named* results of data analysis (e.g. results = {\"accuracy\": 0.95, \"precision\": 0.85})\n",
    "\n",
    " </blockquote>"
   ]
  },
  {
   "cell_type": "markdown",
   "id": "0647f22408",
   "metadata": {},
   "source": [
    " ## Sets\n",
    "\n",
    " Sets are used to store unique values\n",
    "\n",
    "\n",
    " ### Creating sets\n",
    "\n",
    " Sets are created using curly braces {}, for example:"
   ]
  },
  {
   "cell_type": "code",
   "execution_count": 30,
   "id": "8e7179268c",
   "metadata": {},
   "outputs": [
    {
     "name": "stdout",
     "output_type": "stream",
     "text": [
      "{'Anakin Skywalker', 'Luke Skywalker', 'Yoda'}\n",
      "<class 'set'>\n"
     ]
    }
   ],
   "source": [
    "jedi = {\"Anakin Skywalker\", \"Luke Skywalker\", \"Yoda\"}\n",
    "print(jedi)\n",
    "print(type(jedi))"
   ]
  },
  {
   "cell_type": "markdown",
   "id": "1c82b4bf07",
   "metadata": {},
   "source": [
    " A main advantage of sets is that they automatically remove duplicates:"
   ]
  },
  {
   "cell_type": "code",
   "execution_count": 31,
   "id": "1f89adf2b8",
   "metadata": {},
   "outputs": [
    {
     "name": "stdout",
     "output_type": "stream",
     "text": [
      "{'Anakin Skywalker', 'Luke Skywalker', 'Yoda'}\n"
     ]
    }
   ],
   "source": [
    "jedi_with_duplicates = {\"Anakin Skywalker\", \"Luke Skywalker\", \"Yoda\", \"Anakin Skywalker\"}\n",
    "print(jedi_with_duplicates)"
   ]
  },
  {
   "cell_type": "markdown",
   "id": "962ecdd48d",
   "metadata": {},
   "source": [
    " ### Set operations\n",
    "\n",
    " Sets are particularly useful for membership testing and identifying differences and overlap between\n",
    " collections"
   ]
  },
  {
   "cell_type": "code",
   "execution_count": 32,
   "id": "9984026087",
   "metadata": {},
   "outputs": [
    {
     "name": "stdout",
     "output_type": "stream",
     "text": [
      "False\n",
      "True\n",
      "{'Anakin Skywalker'}\n",
      "{'Anakin Skywalker'}\n",
      "{'Luke Skywalker', 'Yoda'}\n",
      "{'Luke Skywalker', 'Yoda'}\n",
      "{'Palpatine', 'Ben Solo'}\n",
      "{'Ben Solo', 'Yoda', 'Anakin Skywalker', 'Palpatine', 'Luke Skywalker'}\n",
      "{'Ben Solo', 'Yoda', 'Anakin Skywalker', 'Palpatine', 'Luke Skywalker'}\n"
     ]
    }
   ],
   "source": [
    "sith = {\"Palpatine\", \"Anakin Skywalker\", \"Ben Solo\"}\n",
    "print(\"Palpatine\" in jedi)  # False\n",
    "print(\"Anakin Skywalker\" in sith)  # True\n",
    "print(jedi.intersection(sith))  # members in both sets\n",
    "print(jedi & sith)  # same as intersection, but using the & operator\n",
    "print(jedi.difference(sith))  # jedi that never turned into sith\n",
    "print(jedi - sith)  # same as difference, but using the - operator\n",
    "print(sith - jedi)  # sith that were never jedi\n",
    "print(jedi.union(sith))  # all members of both sets without duplication\n",
    "print(jedi | sith)  # same as union, but using the | operator"
   ]
  },
  {
   "cell_type": "markdown",
   "id": "dd4fbe5c96",
   "metadata": {},
   "source": [
    " <blockquote><b>&#x1F517; Data Preparation &amp; Analysis</b>\n",
    "\n",
    " When working with several datasources set operations can be used to identify unique and/or overlapping column names.\n",
    " </blockquote>"
   ]
  },
  {
   "cell_type": "markdown",
   "id": "92f65b5e6e",
   "metadata": {},
   "source": [
    " ### Adding and removing elements\n",
    "\n",
    " You can add elements to a set using the `add()` method and remove elements using the `remove()` method:"
   ]
  },
  {
   "cell_type": "code",
   "execution_count": 33,
   "id": "d1c5366dcd",
   "metadata": {},
   "outputs": [
    {
     "name": "stdout",
     "output_type": "stream",
     "text": [
      "{'Anakin Skywalker', 'Luke Skywalker', 'Yoda', 'Obi-Wan Kenobi'}\n",
      "{'Anakin Skywalker', 'Luke Skywalker', 'Obi-Wan Kenobi'}\n"
     ]
    }
   ],
   "source": [
    "jedi.add(\"Obi-Wan Kenobi\")\n",
    "print(jedi)\n",
    "\n",
    "jedi.remove(\"Yoda\")\n",
    "print(jedi)"
   ]
  },
  {
   "cell_type": "markdown",
   "id": "4ede075c4f",
   "metadata": {},
   "source": [
    " ## Exercice: Dictionaries and Sets\n",
    "\n",
    " ### Tasks:\n",
    "\n",
    " 1. create a variable called *d* with the value {\"a\":1,\"b\":2,\"c\":3} and print it on the screen\n",
    "\n",
    " 2. modify the value of \"a\" in *d* to 10 and print it on the screen\n",
    "\n",
    " 3. add the key-value pair \"d\":4 to *d* and print it on the screen\n",
    "\n",
    " 4. create a variable called *d2* with the value {\"e\":5,\"f\":6} and print it on the screen\n",
    "\n",
    " 5. use the update() method to add the key-value pairs from *d2* to *d* and print it on the screen\n",
    "\n",
    " 6. print the keys that exist in both *d* and *d2*\n",
    "\n",
    " 7. print the keys that exist only in *d2* but not in *d*\n",
    "\n",
    " 8. Bonus: use the pop() method to remove the key-value pair \"b\":2 from *d* and print it on the screen\n",
    "\n",
    " 9. Bonus: solve task 5 using the ** operator instead of the update() method\n",
    "\n",
    " 10. Bonus: use the clear() method to remove all key-value pairs from *d* and print it on the screen"
   ]
  },
  {
   "cell_type": "markdown",
   "id": "c90a3b5293",
   "metadata": {},
   "source": [
    " ### Solution:"
   ]
  },
  {
   "cell_type": "code",
   "execution_count": 34,
   "id": "d4ea34e681",
   "metadata": {},
   "outputs": [
    {
     "name": "stdout",
     "output_type": "stream",
     "text": [
      "{'a': 1, 'b': 2, 'c': 3}\n",
      "{'a': 10, 'b': 2, 'c': 3}\n",
      "{'a': 10, 'b': 2, 'c': 3, 'd': 4}\n",
      "{'e': 5, 'f': 6}\n",
      "{'a': 10, 'b': 2, 'c': 3, 'd': 4, 'e': 5, 'f': 6}\n",
      "{'e', 'f'}\n",
      "set()\n",
      "2\n",
      "{'a': 10, 'c': 3, 'd': 4, 'e': 5, 'f': 6}\n",
      "{'a': 10, 'c': 3, 'd': 4, 'e': 5, 'f': 6}\n",
      "{}\n"
     ]
    }
   ],
   "source": [
    "# 1. create a variable called *d* with the value {\"a\":1,\"b\":2,\"c\":3} and print it on the screen\n",
    "d = {\"a\": 1, \"b\": 2, \"c\": 3}\n",
    "print(d)\n",
    "\n",
    "# 2. modify the value of \"a\" in *d* to 10 and print it on the screen\n",
    "d[\"a\"] = 10\n",
    "print(d)\n",
    "\n",
    "# 3. add the key-value pair \"d\":4 to *d* and print it on the screen\n",
    "d[\"d\"] = 4\n",
    "print(d)\n",
    "\n",
    "# 4. create a variable called *d2* with the value {\"e\":5,\"f\":6} and print it on the screen\n",
    "d2 = {\"e\": 5, \"f\": 6}\n",
    "print(d2)\n",
    "\n",
    "# 5. use the update() method to add the key-value pairs from *d2* to *d* and print it on the screen\n",
    "d.update(d2)\n",
    "print(d)\n",
    "\n",
    "# 6. print the keys that exist in both *d* and *d2*\n",
    "print(d.keys() & d2.keys())\n",
    "\n",
    "# 7. print the keys that exist only in *d2* but not in *d*\n",
    "print(d2.keys() - d.keys())\n",
    "\n",
    "# 8. Bonus: use the pop() method to remove the key-value pair \"b\":2 from *d* and print it on the screen\n",
    "print(d.pop(\"b\"))\n",
    "print(d)\n",
    "\n",
    "# 9. Bonus: solve task 5 using the ** operator instead of the update() method\n",
    "d3 = {**d, **d2}\n",
    "print(d3)\n",
    "\n",
    "# 10. Bonus: use the clear() method to remove all key-value pairs from *d* and print it on the screen\n",
    "d.clear()\n",
    "print(d)"
   ]
  }
 ],
 "metadata": {
  "jupytext": {
   "text_representation": {
    "extension": ".py",
    "format_name": "percent",
    "format_version": "1.3",
    "jupytext_version": "1.17.2"
   }
  },
  "kernelspec": {
   "display_name": ".venv",
   "language": "python",
   "name": "python3"
  },
  "language_info": {
   "codemirror_mode": {
    "name": "ipython",
    "version": 3
   },
   "file_extension": ".py",
   "mimetype": "text/x-python",
   "name": "python",
   "nbconvert_exporter": "python",
   "pygments_lexer": "ipython3",
   "version": "3.13.6"
  }
 },
 "nbformat": 4,
 "nbformat_minor": 5
}
