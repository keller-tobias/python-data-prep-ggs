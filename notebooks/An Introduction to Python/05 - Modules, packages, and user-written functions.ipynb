{
 "cells": [
  {
   "cell_type": "markdown",
   "id": "8305f76721",
   "metadata": {},
   "source": [
    " # Modules, packages, and user-written functions\n",
    "\n",
    " ## Modules and packages\n",
    "\n",
    " *Modules* are files containing Python code. *Packages* are directories containing modules. Modules and packages are used to import functions and objects from other files, for example:"
   ]
  },
  {
   "cell_type": "code",
   "execution_count": 1,
   "id": "271a024de7",
   "metadata": {},
   "outputs": [
    {
     "name": "stdout",
     "output_type": "stream",
     "text": [
      "3.0\n"
     ]
    }
   ],
   "source": [
    "import numpy\n",
    "\n",
    "print(numpy.mean([1, 2, 3, 4, 5]))"
   ]
  },
  {
   "cell_type": "markdown",
   "id": "1c82c796da",
   "metadata": {},
   "source": [
    " Modules and packages can be imported using an alias, for example:"
   ]
  },
  {
   "cell_type": "code",
   "execution_count": 2,
   "id": "0422b68c3d",
   "metadata": {},
   "outputs": [
    {
     "name": "stdout",
     "output_type": "stream",
     "text": [
      "3.0\n"
     ]
    }
   ],
   "source": [
    "import numpy as np\n",
    "\n",
    "print(np.mean([1, 2, 3, 4, 5]))"
   ]
  },
  {
   "cell_type": "markdown",
   "id": "a4b872399a",
   "metadata": {},
   "source": [
    " Functions and objects can be imported from modules and packages, for example:"
   ]
  },
  {
   "cell_type": "code",
   "execution_count": 3,
   "id": "f55bdbe296",
   "metadata": {},
   "outputs": [
    {
     "name": "stdout",
     "output_type": "stream",
     "text": [
      "3.0\n"
     ]
    }
   ],
   "source": [
    "from numpy import quantile\n",
    "\n",
    "print(quantile([1, 2, 3, 4, 5], 0.5))"
   ]
  },
  {
   "cell_type": "markdown",
   "id": "5896a1e4fa",
   "metadata": {},
   "source": [
    " Functions and objects can be imported from modules and packages using an alias, for example:"
   ]
  },
  {
   "cell_type": "code",
   "execution_count": 4,
   "id": "aaa7ac32c0",
   "metadata": {},
   "outputs": [
    {
     "name": "stdout",
     "output_type": "stream",
     "text": [
      "3.0\n"
     ]
    }
   ],
   "source": [
    "from numpy import quantile as q\n",
    "\n",
    "print(q([1, 2, 3, 4, 5], 0.5))"
   ]
  },
  {
   "cell_type": "markdown",
   "id": "2f8c635db4",
   "metadata": {},
   "source": [
    " ## User-written functions\n",
    "\n",
    " Functions are blocks of reusable code that perform a specific task.\n",
    "\n",
    " ### Defining a function\n",
    "\n",
    " Functions are defined using the *def* keyword, for example:"
   ]
  },
  {
   "cell_type": "code",
   "execution_count": 5,
   "id": "dd779fddd9",
   "metadata": {},
   "outputs": [
    {
     "name": "stdout",
     "output_type": "stream",
     "text": [
      "May the Force be with you, Leia Organa!\n"
     ]
    }
   ],
   "source": [
    "def greet(character):\n",
    "    return f\"May the Force be with you, {character}!\"\n",
    "\n",
    "\n",
    "print(greet(\"Leia Organa\"))"
   ]
  },
  {
   "cell_type": "code",
   "execution_count": 6,
   "id": "b017b549e3",
   "metadata": {},
   "outputs": [
    {
     "name": "stdout",
     "output_type": "stream",
     "text": [
      "4\n",
      "9\n",
      "<class 'int'>\n",
      "<class 'float'>\n"
     ]
    }
   ],
   "source": [
    "# another example\n",
    "def square(x):\n",
    "    return x**2\n",
    "\n",
    "\n",
    "print(square(2))\n",
    "print(square(3))\n",
    "print(type(square(3)))\n",
    "print(type(square(3.0)))"
   ]
  },
  {
   "cell_type": "markdown",
   "id": "d48f0f3179",
   "metadata": {},
   "source": [
    " ### Functions with multiple arguments"
   ]
  },
  {
   "cell_type": "code",
   "execution_count": 7,
   "id": "8e2ecf5a1e",
   "metadata": {},
   "outputs": [
    {
     "name": "stdout",
     "output_type": "stream",
     "text": [
      "16\n"
     ]
    }
   ],
   "source": [
    "def power(x, y):\n",
    "    return x**y\n",
    "\n",
    "\n",
    "print(power(2, 4))"
   ]
  },
  {
   "cell_type": "markdown",
   "id": "1a536b31d1",
   "metadata": {},
   "source": [
    " ### Default arguments"
   ]
  },
  {
   "cell_type": "code",
   "execution_count": 8,
   "id": "e0403bb8d6",
   "metadata": {},
   "outputs": [
    {
     "name": "stdout",
     "output_type": "stream",
     "text": [
      "4\n",
      "8\n"
     ]
    }
   ],
   "source": [
    "def power(x, y=2):\n",
    "    return x**y\n",
    "\n",
    "\n",
    "print(power(2))\n",
    "print(power(2, 3))"
   ]
  },
  {
   "cell_type": "markdown",
   "id": "9043301467",
   "metadata": {},
   "source": [
    " <blockquote><b>&#x1F517; Data Preparation &amp; Analysis</b>\n",
    "\n",
    " * even though there are many functions and methods included in the major libraries, you will often need to write your own functions\n",
    "\n",
    " * in data cleaning, rule-based modifications such as converting units, normalizing data, etc. are often done with custom functions\n",
    "\n",
    " * in machine learning, custom functions are used to define the loss function, the evaluation metric, etc.\n",
    "\n",
    " * whenever several lines of code are to be reused, think about writing a function for it\n",
    "\n",
    " </blockquote>"
   ]
  },
  {
   "cell_type": "markdown",
   "id": "b36bc74edc",
   "metadata": {},
   "source": [
    " ### Exercice: Functions\n",
    "\n",
    " #### Tasks:\n",
    "\n",
    " 1. Define a function *times_100* that multiplies any number by 100\n",
    "\n",
    " 2. For each number in the following list print the result of using that function: [1,2,4,8,16]\n",
    "\n",
    " 3. Define a function *percent_string* that returns a string with a percentage sign given a fraction (e.g. 0.2345 -> \"23.45%\")\n",
    "\n",
    " 4. Use this function for the following numbers: 0.0, 0.2, ... 1.\n",
    "\n",
    " 5. BONUS: make use of *times_100* when you re-define *percent_string*, and test it.\n",
    "\n",
    " 6. BONUS: adapt *percent_string* to round the percentages to 1 decimal (e.g. 0.2345 -> \"23.5%\"), and test it.\n",
    "\n",
    " 7. BONUS: Define and test a function called *no_bings* that removes \"Jaja Bings\" from any list passed as argument"
   ]
  },
  {
   "cell_type": "markdown",
   "id": "570e1dbbf3",
   "metadata": {},
   "source": [
    " #### Solution:"
   ]
  },
  {
   "cell_type": "code",
   "execution_count": 9,
   "id": "412673101d",
   "metadata": {},
   "outputs": [
    {
     "name": "stdout",
     "output_type": "stream",
     "text": [
      "100\n",
      "200\n",
      "400\n",
      "800\n",
      "1600\n",
      "0.00%\n",
      "20.00%\n",
      "40.00%\n",
      "60.00%\n",
      "80.00%\n",
      "100.00%\n",
      "0.00%\n",
      "20.00%\n",
      "40.00%\n",
      "60.00%\n",
      "80.00%\n",
      "100.00%\n",
      "0.0%\n",
      "20.0%\n",
      "40.0%\n",
      "60.0%\n",
      "80.0%\n",
      "100.0%\n",
      "['Luke Skywalker', 'Leia Organa', 'Han Solo']\n"
     ]
    }
   ],
   "source": [
    "# 1. Define a function *times_100* that multiplies any number by 100\n",
    "def times_100(x):\n",
    "    return x * 100\n",
    "\n",
    "\n",
    "# 2. For each number in the following list print the result of using that function: [1,2,4,8,16]\n",
    "numbers = [1, 2, 4, 8, 16]\n",
    "for number in numbers:\n",
    "    print(times_100(number))\n",
    "\n",
    "\n",
    "# 3. Define a function *percent_string* that returns a string with a percentage sign given a fraction (e.g. 0.2345 -> \"23.45%\")\n",
    "def percent_string(x):\n",
    "    return f\"{100 * x:.2f}%\"\n",
    "\n",
    "\n",
    "# 4. Use this function for the following numbers: 0.0, 0.2, ... 1.\n",
    "for i in range(0, 11, 2):\n",
    "    print(percent_string(i / 10))\n",
    "\n",
    "\n",
    "# 5. BONUS: make use of *times_100* when you re-define *percent_string*, and test it.\n",
    "def percent_string(x):\n",
    "    return f\"{times_100(x):.2f}%\"\n",
    "\n",
    "\n",
    "for i in range(0, 11, 2):\n",
    "    print(percent_string(i / 10))\n",
    "\n",
    "\n",
    "# 6. BONUS: adapt *percent_string* to round the percentages to 1 decimal (e.g. 0.2345 -> \"23.5%\"), and test it.\n",
    "def percent_string(x):\n",
    "    return f\"{times_100(x):.1f}%\"\n",
    "\n",
    "\n",
    "for i in range(0, 11, 2):\n",
    "    print(percent_string(i / 10))\n",
    "\n",
    "\n",
    "# 7. BONUS: Define and test a function called *no_bings* that removes \"Jaja Bings\" from any list passed as argument\n",
    "def no_bings(mylist):\n",
    "    return [item for item in mylist if item != \"Jaja Bings\"]\n",
    "\n",
    "\n",
    "characters = [\"Luke Skywalker\", \"Leia Organa\", \"Han Solo\", \"Jaja Bings\"]\n",
    "print(no_bings(characters))"
   ]
  }
 ],
 "metadata": {
  "jupytext": {
   "text_representation": {
    "extension": ".py",
    "format_name": "percent",
    "format_version": "1.3",
    "jupytext_version": "1.17.2"
   }
  },
  "kernelspec": {
   "display_name": ".venv",
   "language": "python",
   "name": "python3"
  },
  "language_info": {
   "codemirror_mode": {
    "name": "ipython",
    "version": 3
   },
   "file_extension": ".py",
   "mimetype": "text/x-python",
   "name": "python",
   "nbconvert_exporter": "python",
   "pygments_lexer": "ipython3",
   "version": "3.13.6"
  }
 },
 "nbformat": 4,
 "nbformat_minor": 5
}
