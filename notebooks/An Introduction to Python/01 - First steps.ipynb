{
 "cells": [
  {
   "cell_type": "markdown",
   "id": "ad652e3223",
   "metadata": {},
   "source": [
    " # First steps\n",
    "\n",
    " ## Printouts\n",
    "\n",
    " python can be used to print text on the screen, for example:"
   ]
  },
  {
   "cell_type": "code",
   "execution_count": 1,
   "id": "956f96119b",
   "metadata": {},
   "outputs": [
    {
     "name": "stdout",
     "output_type": "stream",
     "text": [
      "Hello world!\n",
      "1\n"
     ]
    }
   ],
   "source": [
    "print(\"Hello world!\")\n",
    "print(1)"
   ]
  },
  {
   "cell_type": "markdown",
   "id": "1b73f8b693",
   "metadata": {},
   "source": [
    " ## Python as calculator\n",
    "\n",
    " python can be used as a powerful calculator. Here are some basic operations:\n",
    "\n",
    " ### Arithmetic operators"
   ]
  },
  {
   "cell_type": "code",
   "execution_count": 2,
   "id": "8cb720e34e",
   "metadata": {},
   "outputs": [
    {
     "name": "stdout",
     "output_type": "stream",
     "text": [
      "5\n",
      "3\n",
      "12\n",
      "5.0\n",
      "3\n",
      "1\n",
      "8\n"
     ]
    }
   ],
   "source": [
    "# Addition\n",
    "print(2 + 3)\n",
    "\n",
    "# Subtraction\n",
    "print(5 - 2)\n",
    "\n",
    "# Multiplication\n",
    "print(4 * 3)\n",
    "\n",
    "# Division\n",
    "print(10 / 2)\n",
    "\n",
    "# Floor Division\n",
    "print(10 // 3)\n",
    "\n",
    "# Modulus\n",
    "print(10 % 3)\n",
    "\n",
    "# Exponentiation\n",
    "print(2**3)"
   ]
  },
  {
   "cell_type": "markdown",
   "id": "225ed6a4d4",
   "metadata": {},
   "source": [
    " ### Built-in math functions\n",
    "\n",
    " python also has built-in math functions, for example:"
   ]
  },
  {
   "cell_type": "code",
   "execution_count": 3,
   "id": "33a4ec3bc4",
   "metadata": {},
   "outputs": [
    {
     "name": "stdout",
     "output_type": "stream",
     "text": [
      "3\n",
      "4\n",
      "20\n",
      "20\n",
      "1\n",
      "5\n"
     ]
    }
   ],
   "source": [
    "print(round(3.1))\n",
    "print(round(3.9))\n",
    "print(abs(-20))\n",
    "print(abs(20))\n",
    "print(min(1, 2, 3, 4, 5))\n",
    "print(max(1, 2, 3, 4, 5))"
   ]
  },
  {
   "cell_type": "markdown",
   "id": "55494b62d9",
   "metadata": {},
   "source": [
    "### Bankers' rounding and unexpected results from floating point arithmetic\n",
    "\n",
    "Bankers' rounding is a method of rounding that minimizes bias in calculations. It rounds to the nearest even number when the value is exactly halfway between two integers. This can lead to unexpected results when working with floating point numbers due to their representation in memory.\n",
    "\n",
    "For example:"
   ]
  },
  {
   "cell_type": "code",
   "execution_count": 4,
   "id": "c61acb71dd",
   "metadata": {},
   "outputs": [
    {
     "name": "stdout",
     "output_type": "stream",
     "text": [
      "2\n",
      "4\n",
      "4\n",
      "6\n"
     ]
    }
   ],
   "source": [
    "print(round(2.5))\n",
    "print(round(3.5))\n",
    "print(round(4.5))\n",
    "print(round(5.5))"
   ]
  },
  {
   "cell_type": "markdown",
   "id": "81b2f5768b",
   "metadata": {},
   "source": [
    "\n",
    "Some unexpected rounding results can occur when using floating point numbers. For example:"
   ]
  },
  {
   "cell_type": "code",
   "execution_count": 5,
   "id": "5fb6c47313",
   "metadata": {},
   "outputs": [
    {
     "name": "stdout",
     "output_type": "stream",
     "text": [
      "2.67\n",
      "2.69\n"
     ]
    }
   ],
   "source": [
    "print(round(2.675, 2))\n",
    "print(round(2.685, 2))"
   ]
  },
  {
   "cell_type": "markdown",
   "id": "7b6cb56698",
   "metadata": {},
   "source": [
    "\n",
    "When mathematical precision is required, use the built-in `decimal` module."
   ]
  },
  {
   "cell_type": "code",
   "execution_count": 6,
   "id": "50e122a2b0",
   "metadata": {},
   "outputs": [
    {
     "name": "stdout",
     "output_type": "stream",
     "text": [
      "2.68\n",
      "2.68\n",
      "2.67\n"
     ]
    }
   ],
   "source": [
    "from decimal import Decimal, ROUND_HALF_EVEN\n",
    "\n",
    "print(Decimal(\"2.675\").quantize(Decimal(\"0.01\"), rounding=ROUND_HALF_EVEN))\n",
    "print(Decimal(\"2.685\").quantize(Decimal(\"0.01\"), rounding=ROUND_HALF_EVEN))\n",
    "# but careful, do not create the Decimal from a float, or you are back to the precision error:\n",
    "print(Decimal(2.675).quantize(Decimal(\"0.01\"), rounding=ROUND_HALF_EVEN))"
   ]
  },
  {
   "cell_type": "markdown",
   "id": "211023c603",
   "metadata": {},
   "source": [
    "\n",
    "On top of that, floating point arithmetic can introduce small errors in calculations due to the way numbers are represented in memory. This can lead to unexpected results, especially when comparing floating point numbers for equality."
   ]
  },
  {
   "cell_type": "code",
   "execution_count": 7,
   "id": "1349e095c9",
   "metadata": {},
   "outputs": [
    {
     "name": "stdout",
     "output_type": "stream",
     "text": [
      "0.30000000000000004\n",
      "False\n"
     ]
    }
   ],
   "source": [
    "print(0.1 + 0.2)\n",
    "print(0.3 == (0.1 + 0.2))"
   ]
  },
  {
   "cell_type": "markdown",
   "id": "b18e1f67a2",
   "metadata": {},
   "source": [
    " ## Python objects and data types\n",
    "\n",
    " ### Creating an object\n",
    "\n",
    " Python can store numbers in objects (variables) and use them in calculations. Objects are created\n",
    "\n",
    " when you assign a value to it, for example:"
   ]
  },
  {
   "cell_type": "code",
   "execution_count": 8,
   "id": "0c80e3f243",
   "metadata": {},
   "outputs": [
    {
     "name": "stdout",
     "output_type": "stream",
     "text": [
      "3\n"
     ]
    }
   ],
   "source": [
    "x = 3\n",
    "print(x)"
   ]
  },
  {
   "cell_type": "markdown",
   "id": "ac7465b3f1",
   "metadata": {},
   "source": [
    " ### Using objects in calculations"
   ]
  },
  {
   "cell_type": "code",
   "execution_count": 9,
   "id": "488ea4b940",
   "metadata": {},
   "outputs": [
    {
     "name": "stdout",
     "output_type": "stream",
     "text": [
      "7\n"
     ]
    }
   ],
   "source": [
    "y = 4\n",
    "print(x + y)"
   ]
  },
  {
   "cell_type": "markdown",
   "id": "230fb553c5",
   "metadata": {},
   "source": [
    " Variables can be used in calculations with other variables and numbers, for example:"
   ]
  },
  {
   "cell_type": "code",
   "execution_count": 10,
   "id": "50fbd4c191",
   "metadata": {},
   "outputs": [
    {
     "name": "stdout",
     "output_type": "stream",
     "text": [
      "8\n"
     ]
    }
   ],
   "source": [
    "z = x + y + 1\n",
    "print(z)"
   ]
  },
  {
   "cell_type": "markdown",
   "id": "3860441008",
   "metadata": {},
   "source": [
    " ### Numeric objects\n",
    "\n",
    " The two most important types of number objects are *int* and *float*\n",
    "\n",
    " Integers are whole numbers, for example:"
   ]
  },
  {
   "cell_type": "code",
   "execution_count": 11,
   "id": "2c990ce32f",
   "metadata": {},
   "outputs": [
    {
     "name": "stdout",
     "output_type": "stream",
     "text": [
      "3\n"
     ]
    }
   ],
   "source": [
    "a = 3\n",
    "print(a)"
   ]
  },
  {
   "cell_type": "markdown",
   "id": "c568d0e11b",
   "metadata": {},
   "source": [
    " the type() function can be used to find the type of a variable, for example:"
   ]
  },
  {
   "cell_type": "code",
   "execution_count": 12,
   "id": "cf2068bd95",
   "metadata": {},
   "outputs": [
    {
     "name": "stdout",
     "output_type": "stream",
     "text": [
      "<class 'int'>\n"
     ]
    }
   ],
   "source": [
    "print(type(a))"
   ]
  },
  {
   "cell_type": "markdown",
   "id": "152ebeadbc",
   "metadata": {},
   "source": [
    " Floats are numbers with a decimal point, for example:"
   ]
  },
  {
   "cell_type": "code",
   "execution_count": 13,
   "id": "ff7fc743b7",
   "metadata": {},
   "outputs": [
    {
     "name": "stdout",
     "output_type": "stream",
     "text": [
      "3.0\n",
      "<class 'float'>\n"
     ]
    }
   ],
   "source": [
    "b = 3.0\n",
    "print(b)\n",
    "print(type(b))"
   ]
  },
  {
   "cell_type": "markdown",
   "id": "5150a5dfce",
   "metadata": {},
   "source": [
    " Integers can be converted to floats and vice versa, for example:"
   ]
  },
  {
   "cell_type": "code",
   "execution_count": 14,
   "id": "761fc3f73d",
   "metadata": {},
   "outputs": [
    {
     "name": "stdout",
     "output_type": "stream",
     "text": [
      "3.0\n",
      "3\n"
     ]
    }
   ],
   "source": [
    "print(float(a))\n",
    "print(int(b))"
   ]
  },
  {
   "cell_type": "markdown",
   "id": "927820d6cb",
   "metadata": {},
   "source": [
    " <blockquote><b>&#x1F517; Data Preparation &amp; Analysis</b>\n",
    "\n",
    " * data is stored in python objects, so called *DataFrame* objects\n",
    "\n",
    " * depending on whether numeric data includes decimals, either *float* or *int* data types will be used\n",
    "\n",
    " * any calculations shown above are applicable to these data\n",
    "\n",
    " * built-in functions (and other methods) are available for more complex calculations\n",
    "\n",
    " </blockquote>"
   ]
  },
  {
   "cell_type": "markdown",
   "id": "f84dd7ef2f",
   "metadata": {},
   "source": [
    " ## Exercice: numeric objects and calculations\n",
    "\n",
    " ### Tasks:\n",
    "\n",
    " 1. create a variable called *c* with the value 3.5 and print it on the screen\n",
    "\n",
    " 2. create a variable called *d* with the value 4 and print it on the screen\n",
    "\n",
    " 3. create a variable called *e* with the value of *c* plus *d* and print it on the screen\n",
    "\n",
    " 4. use math functions to round *e* and print the result on the screen\n",
    "\n",
    " 5. print the minimum of *c* and *d* on the screen\n",
    "\n",
    " 6. BONUS: create a variable called *f* with the value of *c* divided by *d* and print it on the screen\n",
    "\n",
    " 7. BONUS: use math functions to round *f* and print the result on the screen\n",
    "\n",
    " 8. BONUS: print the absolute rounded value of *d* minus *c* on the screen"
   ]
  },
  {
   "cell_type": "markdown",
   "id": "c90a3b5293",
   "metadata": {},
   "source": [
    " ### Solution:"
   ]
  },
  {
   "cell_type": "code",
   "execution_count": 15,
   "id": "3a22e0a9ea",
   "metadata": {},
   "outputs": [
    {
     "name": "stdout",
     "output_type": "stream",
     "text": [
      "3.5\n",
      "5\n",
      "8.5\n",
      "8\n",
      "3.5\n",
      "0.7\n",
      "1\n",
      "2\n"
     ]
    }
   ],
   "source": [
    "# 1. create a variable called *c* with the value 3.5 and print it on the screen\n",
    "c = 3.5\n",
    "print(c)\n",
    "\n",
    "# 2. create a variable called *d* with the value 4 and print it on the screen\n",
    "d = 5\n",
    "print(d)\n",
    "\n",
    "# 3. create a variable called *e* with the value of *c* plus *d* and print it on the screen\n",
    "e = c + d\n",
    "print(e)\n",
    "\n",
    "# 4. use math functions to round *e* and print the result on the screen\n",
    "print(round(e))\n",
    "\n",
    "# 5. print the minimum of *c* and *d* on the screen\n",
    "print(min(c, d))\n",
    "\n",
    "# 6. BONUS: create a variable called *f* with the value of *c* divided by *d* and print it on the screen\n",
    "f = c / d\n",
    "print(f)\n",
    "\n",
    "# 7. BONUS: use math functions to round *f* and print the result on the screen\n",
    "print(round(f))\n",
    "\n",
    "# 8. BONUS: print the absolute rounded value of *d* minus *c* on the screen\n",
    "print(abs(round(d - c)))"
   ]
  },
  {
   "cell_type": "markdown",
   "id": "37bf9d93f7",
   "metadata": {},
   "source": [
    " ## Boolean objects and boolean operators\n",
    "\n",
    " Boolean objects are used to store True or False values, for example:"
   ]
  },
  {
   "cell_type": "code",
   "execution_count": 16,
   "id": "7a0a17d6c1",
   "metadata": {},
   "outputs": [
    {
     "name": "stdout",
     "output_type": "stream",
     "text": [
      "True\n",
      "<class 'bool'>\n"
     ]
    }
   ],
   "source": [
    "b = True\n",
    "print(b)\n",
    "print(type(b))"
   ]
  },
  {
   "cell_type": "markdown",
   "id": "34fe2c9a5e",
   "metadata": {},
   "source": [
    " Boolean objects can be created using the following comparison operators: ==, !=, >, <, >=, <=, for example:"
   ]
  },
  {
   "cell_type": "code",
   "execution_count": 17,
   "id": "b88e30574a",
   "metadata": {},
   "outputs": [
    {
     "name": "stdout",
     "output_type": "stream",
     "text": [
      "True\n",
      "False\n",
      "False\n",
      "True\n",
      "False\n",
      "True\n",
      "True\n"
     ]
    }
   ],
   "source": [
    "print(1 == 1)\n",
    "print(1 == 2)\n",
    "print(1 > 2)\n",
    "print(1 < 2)\n",
    "print(1 >= 2)\n",
    "print(1 <= 2)\n",
    "print(1 != 2)"
   ]
  },
  {
   "cell_type": "markdown",
   "id": "fa41d5a711",
   "metadata": {},
   "source": [
    " Boolean objects can be combined using the following boolean operators: and, or, not, for example:"
   ]
  },
  {
   "cell_type": "code",
   "execution_count": 18,
   "id": "32c11d439a",
   "metadata": {},
   "outputs": [
    {
     "name": "stdout",
     "output_type": "stream",
     "text": [
      "False\n",
      "True\n",
      "False\n"
     ]
    }
   ],
   "source": [
    "is_jedi_master = True\n",
    "is_sith_lord = False\n",
    "\n",
    "print(is_jedi_master and is_sith_lord)  # Logical AND\n",
    "print(is_jedi_master or is_sith_lord)  # Logical OR\n",
    "print(not is_jedi_master)  # Logical NOT"
   ]
  },
  {
   "cell_type": "markdown",
   "id": "015f668fd4",
   "metadata": {},
   "source": [
    " Boolean objects can be combined with comparison operators, for example:"
   ]
  },
  {
   "cell_type": "code",
   "execution_count": 19,
   "id": "3a45d4d1bc",
   "metadata": {},
   "outputs": [
    {
     "name": "stdout",
     "output_type": "stream",
     "text": [
      "True\n",
      "False\n",
      "True\n",
      "False\n"
     ]
    }
   ],
   "source": [
    "print(1 == 1 and 2 == 2)\n",
    "print(1 == 1 and 2 == 3)\n",
    "print(1 == 1 or 2 == 3)\n",
    "print(not 1 == 1)"
   ]
  },
  {
   "cell_type": "markdown",
   "id": "de68d4ab09",
   "metadata": {},
   "source": [
    " <blockquote><b>&#x1F517; Data Preparation &amp; Analysis</b>\n",
    "\n",
    " * boolean operators are used for filtering data\n",
    "\n",
    " * TRUE/FALSE values can be stored in *boolean* type *DataFrame* columns\n",
    "\n",
    " * booleans are also often used in if statements (see later section)\n",
    "\n",
    " * many functions and methods accept boolean arguments and/or return boolean values\n",
    "\n",
    " * for example, many statistial or machine learning models have some boolean arguments such as *normalize* or *fit_intercept*\n",
    "\n",
    " </blockquote>"
   ]
  },
  {
   "cell_type": "markdown",
   "id": "76798569a7",
   "metadata": {},
   "source": [
    " ## Exercice: Boolean objects and boolean operators\n",
    "\n",
    " ### Tasks:\n",
    "\n",
    " 1. create a variable called *b* with the value True and print it on the screen\n",
    "\n",
    " 2. create a variable called *c* with the value False and print it on the screen\n",
    "\n",
    " 3. use the == operator to compare *b* and *c* and print the result on the screen\n",
    "\n",
    " 4. use the != operator to compare *b* and *c* and print the result on the screen\n",
    "\n",
    " 5. combine *b* and *c* using the and operator and print the result on the screen\n",
    "\n",
    " 6. combine *b* and *c* using the or operator and print the result on the screen"
   ]
  },
  {
   "cell_type": "markdown",
   "id": "c90a3b5293-1",
   "metadata": {},
   "source": [
    " ### Solution:"
   ]
  },
  {
   "cell_type": "code",
   "execution_count": 20,
   "id": "1d8d67ac04",
   "metadata": {},
   "outputs": [
    {
     "name": "stdout",
     "output_type": "stream",
     "text": [
      "True\n",
      "False\n",
      "False\n",
      "True\n",
      "False\n",
      "True\n"
     ]
    }
   ],
   "source": [
    "# 1. create a variable called *b* with the value True and print it on the screen\n",
    "b = True\n",
    "print(b)\n",
    "# 2. create a variable called *c* with the value False and print it on the screen\n",
    "c = False\n",
    "print(c)\n",
    "# 3. use the == operator to compare *b* and *c* and print the result on the screen\n",
    "print(b == c)\n",
    "# 4. use the != operator to compare *b* and *c* and print the result on the screen\n",
    "print(b != c)\n",
    "# 5. combine *b* and *c* using the and operator and print the result on the screen\n",
    "print(b and c)\n",
    "# 6. combine *b* and *c* using the or operator and print the result on the screen\n",
    "print(b or c)"
   ]
  }
 ],
 "metadata": {
  "jupytext": {
   "main_language": "python",
   "text_representation": {
    "extension": ".py",
    "format_name": "percent",
    "format_version": "1.3",
    "jupytext_version": "1.17.2"
   }
  },
  "language_info": {
   "codemirror_mode": {
    "name": "ipython",
    "version": 3
   },
   "file_extension": ".py",
   "mimetype": "text/x-python",
   "name": "python",
   "nbconvert_exporter": "python",
   "pygments_lexer": "ipython3",
   "version": "3.13.6"
  }
 },
 "nbformat": 4,
 "nbformat_minor": 5
}
