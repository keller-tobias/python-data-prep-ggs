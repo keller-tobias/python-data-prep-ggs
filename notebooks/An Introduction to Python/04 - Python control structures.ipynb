{
 "cells": [
  {
   "cell_type": "markdown",
   "id": "7fd2de9978",
   "metadata": {},
   "source": [
    " # Python Control Structures\n",
    "\n",
    " ## Learning Objectives\n",
    " - Understand Python's conditional statements (`if`, `elif`, `else`)\n",
    " - Learn basic looping constructs (`for`, `while`, `range`)\n",
    " - Practice list comprehensions and simple data‐prep patterns\n",
    "\n",
    " Control structures are used to control the flow of a program. The main control structures in Python are if statements and loops.\n",
    "\n",
    " ## Conditional Statements with If Statements\n",
    "\n",
    " If statements are used to perform different actions based on different conditions."
   ]
  },
  {
   "cell_type": "markdown",
   "id": "f4c0e8d67b",
   "metadata": {},
   "source": [
    " ### Basic if Statements\n",
    "\n",
    " Basic if statements are used to perform an action if a condition is true, for example:"
   ]
  },
  {
   "cell_type": "code",
   "execution_count": 1,
   "id": "80d66c1854",
   "metadata": {},
   "outputs": [
    {
     "name": "stdout",
     "output_type": "stream",
     "text": [
      "A New Hope\n"
     ]
    }
   ],
   "source": [
    "episode_number = 4\n",
    "if episode_number == 4:\n",
    "    print(\"A New Hope\")  # output: A New Hope"
   ]
  },
  {
   "cell_type": "markdown",
   "id": "fa29b73972",
   "metadata": {},
   "source": [
    " ### If-Else Statements\n",
    "\n",
    " If-else statements are used to perform one action if a condition is true and another action if the condition is false, for example:"
   ]
  },
  {
   "cell_type": "code",
   "execution_count": 2,
   "id": "8920d1307a",
   "metadata": {},
   "outputs": [
    {
     "name": "stdout",
     "output_type": "stream",
     "text": [
      "A New Hope\n"
     ]
    }
   ],
   "source": [
    "episode_number = 4\n",
    "if episode_number == 4:\n",
    "    print(\"A New Hope\")\n",
    "else:\n",
    "    print(\"Not A New Hope\")"
   ]
  },
  {
   "cell_type": "markdown",
   "id": "bf1dea415d",
   "metadata": {},
   "source": [
    " ### If-Elif-Else Statements\n",
    "\n",
    " If-elif-else statements choose what to do based on different conditions: one action if the first condition is true, another if the second condition is true, and a default action if neither condition is true, for example:"
   ]
  },
  {
   "cell_type": "code",
   "execution_count": 3,
   "id": "dc8edf2cdf",
   "metadata": {},
   "outputs": [
    {
     "name": "stdout",
     "output_type": "stream",
     "text": [
      "A New Hope\n"
     ]
    }
   ],
   "source": [
    "episode_number = 4\n",
    "if episode_number == 4:\n",
    "    print(\"A New Hope\")\n",
    "elif episode_number == 5:\n",
    "    print(\"The Empire Strikes Back\")\n",
    "else:\n",
    "    print(\"Another movie\")"
   ]
  },
  {
   "cell_type": "markdown",
   "id": "c5e3615f7e",
   "metadata": {},
   "source": [
    " ### If Statements with Multiple Conditions"
   ]
  },
  {
   "cell_type": "code",
   "execution_count": 4,
   "id": "683f6aaea2",
   "metadata": {},
   "outputs": [
    {
     "name": "stdout",
     "output_type": "stream",
     "text": [
      "Galactic Imperium\n",
      "Galactic Imperium\n"
     ]
    }
   ],
   "source": [
    "# Example with a basic if statement\n",
    "episode_number = 4\n",
    "if episode_number >= 4 and episode_number <= 6:\n",
    "    print(\"Galactic Imperium\")\n",
    "\n",
    "# Example with an if-elif-else statement\n",
    "episode_number = 4\n",
    "if episode_number >= 4 and episode_number <= 6:\n",
    "    print(\"Galactic Imperium\")\n",
    "elif episode_number < 3:\n",
    "    print(\"Old Republic\")\n",
    "else:\n",
    "    print(\"New Republic\")"
   ]
  },
  {
   "cell_type": "markdown",
   "id": "681d961e52",
   "metadata": {},
   "source": [
    " ### Nested If Statements"
   ]
  },
  {
   "cell_type": "code",
   "execution_count": 5,
   "id": "ec300f05ff",
   "metadata": {},
   "outputs": [
    {
     "name": "stdout",
     "output_type": "stream",
     "text": [
      "A New Hope\n"
     ]
    }
   ],
   "source": [
    "episode_number = 4\n",
    "if episode_number >= 4:\n",
    "    if episode_number == 4:\n",
    "        print(\"A New Hope\")\n",
    "    else:\n",
    "        print(\"Another movie\")\n",
    "else:\n",
    "    print(\"Old Republic\")"
   ]
  },
  {
   "cell_type": "markdown",
   "id": "7d1fb0ac72",
   "metadata": {},
   "source": [
    " ### Checking if an item is in a list\n",
    "\n",
    " The *in* keyword can be used to check if an item is in a list, for example:"
   ]
  },
  {
   "cell_type": "code",
   "execution_count": 6,
   "id": "b5e33144c5",
   "metadata": {},
   "outputs": [
    {
     "name": "stdout",
     "output_type": "stream",
     "text": [
      "Hoth appears in the Star Wars movies\n",
      "Earth is not mentioned in the Star Wars movies\n"
     ]
    }
   ],
   "source": [
    "planets = [\"Tatooine\", \"Hoth\", \"Dagobah\", \"Endor\"]\n",
    "check_planet = \"Hoth\"\n",
    "if check_planet in planets:\n",
    "    print(f\"{check_planet} appears in the Star Wars movies\")\n",
    "check_planet = \"Earth\"\n",
    "if check_planet not in planets:\n",
    "    print(f\"{check_planet} is not mentioned in the Star Wars movies\")"
   ]
  },
  {
   "cell_type": "markdown",
   "id": "65189f7968",
   "metadata": {},
   "source": [
    " <blockquote><b>&#x1F517; Data Preparation &amp; Analysis</b>\n",
    "\n",
    " * if statements are, e.g., to filter out data that do not meet certain criteria (e.g. missing values)\n",
    "\n",
    " * if statements can also be used to conditionally modify columns, e.g. converted to a different scale based on statistical properties\n",
    "\n",
    " </blockquote>"
   ]
  },
  {
   "cell_type": "markdown",
   "id": "9514b9b286",
   "metadata": {},
   "source": [
    " ### Exercice: If Statements\n",
    "\n",
    " #### Tasks:\n",
    "\n",
    " 1. Create a variable called character_age with a value.\n",
    "\n",
    " 2. Write an if statement to check if character_age is greater than 900, print \"Yoda\".\n",
    "\n",
    " 3. Add an elif statement to check if character_age is between 40 and 60, print \"Luke Skywalker\".\n",
    "\n",
    " 4. Add an elif statement to print \"Anakin Skywalker\" if character_age is less than 25.\n",
    "\n",
    " 5. Add an else statement to print \"Unknown\", otherwise\n",
    "\n",
    " 6. Bonus: Create a variable called `character_height` with a value.\n",
    "\n",
    " 7. Bonus: Write an if statement to check if `character_height` is greater than 200, print \"Very tall\".\n",
    "\n",
    " 8. Bonus: Add an elif statement to check if `character_height` is between 150 and 200, print \"Average height\".\n",
    "\n",
    " 9. Bonus: Add an else statement to print \"Short\" if `character_height` is less than 150."
   ]
  },
  {
   "cell_type": "markdown",
   "id": "570e1dbbf3",
   "metadata": {},
   "source": [
    " #### Solution:"
   ]
  },
  {
   "cell_type": "code",
   "execution_count": 7,
   "id": "d2b4f9cffe",
   "metadata": {},
   "outputs": [
    {
     "name": "stdout",
     "output_type": "stream",
     "text": [
      "Yoda\n",
      "Yoda\n",
      "Yoda\n",
      "Yoda\n",
      "Average height\n",
      "Average height\n"
     ]
    }
   ],
   "source": [
    "# 1. Create a variable called character_age with a value.\n",
    "character_age = 920\n",
    "\n",
    "# 2. Write an if statement to check if character_age is greater than 900, print \"Yoda\".\n",
    "if character_age > 900:\n",
    "    print(\"Yoda\")\n",
    "\n",
    "# 3. Add an elif statement to check if character_age is between 40 and 60, print \"Luke Skywalker\".\n",
    "if character_age > 900:\n",
    "    print(\"Yoda\")\n",
    "elif (character_age >= 40) and (character_age <= 60):\n",
    "    print(\"Luke\")\n",
    "\n",
    "# 4. Add an elif statement to print \"Anakin Skywalker\" if character_age is less than 25.\n",
    "if character_age > 900:\n",
    "    print(\"Yoda\")\n",
    "elif (character_age >= 40) and (character_age <= 60):\n",
    "    print(\"Luke\")\n",
    "elif character_age < 25:\n",
    "    print(\"Anakin\")\n",
    "\n",
    "# 5. Add an else statement to print \"Unknown\", otherwise\n",
    "if character_age > 900:\n",
    "    print(\"Yoda\")\n",
    "elif (character_age >= 40) and (character_age <= 60):\n",
    "    print(\"Luke\")\n",
    "elif character_age < 25:\n",
    "    print(\"Anakin\")\n",
    "else:\n",
    "    print(\"Unknown\")\n",
    "\n",
    "# 6. Bonus: Create a variable called `character_height` with a value.\n",
    "character_height = 180\n",
    "\n",
    "# 7. Bonus: Write an if statement to check if `character_height` is greater than 200, print \"Very tall\".\n",
    "if character_height > 200:\n",
    "    print(\"Very tall\")\n",
    "\n",
    "# 8. Bonus: Add an elif statement to check if `character_height` is between 150 and 200, print \"Average height\".\n",
    "if character_height > 200:\n",
    "    print(\"Very tall\")\n",
    "elif (character_height >= 150) and (character_height <= 200):\n",
    "    print(\"Average height\")\n",
    "\n",
    "# 9. Bonus: Add an else statement to print \"Short\" if `character_height` is less than 150.\n",
    "if character_height > 200:\n",
    "    print(\"Very tall\")\n",
    "elif (character_height >= 150) and (character_height <= 200):\n",
    "    print(\"Average height\")\n",
    "else:\n",
    "    print(\"Short\")"
   ]
  },
  {
   "cell_type": "markdown",
   "id": "a40b5a7ce7",
   "metadata": {},
   "source": [
    " ## Loops\n",
    "\n",
    " Loops are used to iterate over a sequence (list, tuple, string, dict). In Python, there are two main types of loops: *for* loops and *while* loops. In this section, we will focus on *for* loops.\n",
    "\n",
    " ### Looping through a list of strings"
   ]
  },
  {
   "cell_type": "code",
   "execution_count": 8,
   "id": "a0719e2780",
   "metadata": {},
   "outputs": [
    {
     "name": "stdout",
     "output_type": "stream",
     "text": [
      "Luke Skywalker\n",
      "Leia Organa\n",
      "Han Solo\n"
     ]
    }
   ],
   "source": [
    "for character in [\"Luke Skywalker\", \"Leia Organa\", \"Han Solo\"]:\n",
    "    print(character)"
   ]
  },
  {
   "cell_type": "markdown",
   "id": "e1d7e212fd",
   "metadata": {},
   "source": [
    " ### Looping through a list of numbers"
   ]
  },
  {
   "cell_type": "code",
   "execution_count": 9,
   "id": "e538982e24",
   "metadata": {},
   "outputs": [
    {
     "name": "stdout",
     "output_type": "stream",
     "text": [
      "10\n",
      "20\n",
      "30\n",
      "40\n",
      "50\n"
     ]
    }
   ],
   "source": [
    "for number in [1, 2, 3, 4, 5]:\n",
    "    print(10 * number)"
   ]
  },
  {
   "cell_type": "markdown",
   "id": "0b2e84585f",
   "metadata": {},
   "source": [
    " ### Using range() to loop through a sequence of numbers\n",
    "\n",
    " The previous task can also be accomplished using the range() function"
   ]
  },
  {
   "cell_type": "code",
   "execution_count": 10,
   "id": "d0cf0531c6",
   "metadata": {},
   "outputs": [
    {
     "name": "stdout",
     "output_type": "stream",
     "text": [
      "10\n",
      "20\n",
      "30\n",
      "40\n",
      "50\n"
     ]
    }
   ],
   "source": [
    "for number in range(1, 6):\n",
    "    print(10 * number)"
   ]
  },
  {
   "cell_type": "markdown",
   "id": "0f515e34e7",
   "metadata": {},
   "source": [
    " ### Looping through words in a string\n",
    "\n",
    " We have used the split() method to split a string into a list of words. Now we can loop through the words in the string"
   ]
  },
  {
   "cell_type": "code",
   "execution_count": 11,
   "id": "91b9974642",
   "metadata": {},
   "outputs": [
    {
     "name": "stdout",
     "output_type": "stream",
     "text": [
      "May\n",
      "the\n",
      "Force\n",
      "be\n",
      "with\n",
      "you\n"
     ]
    }
   ],
   "source": [
    "for word in \"May the Force be with you\".split():\n",
    "    print(word)"
   ]
  },
  {
   "cell_type": "markdown",
   "id": "575524bc2e",
   "metadata": {},
   "source": [
    " ### Looping through a dictionary\n",
    "\n",
    " We can loop through the keys, values, or key-value pairs of a dictionary"
   ]
  },
  {
   "cell_type": "code",
   "execution_count": 12,
   "id": "38ac54b944",
   "metadata": {},
   "outputs": [
    {
     "name": "stdout",
     "output_type": "stream",
     "text": [
      "name R2-D2\n",
      "type Astromech\n",
      "creator Anakin Skywalker\n",
      "R2-D2\n",
      "Astromech\n",
      "Anakin Skywalker\n",
      "name R2-D2\n",
      "type Astromech\n",
      "creator Anakin Skywalker\n"
     ]
    }
   ],
   "source": [
    "droid = {\"name\": \"R2-D2\", \"type\": \"Astromech\", \"creator\": \"Anakin Skywalker\"}\n",
    "for key in droid:\n",
    "    print(key, droid[key])\n",
    "\n",
    "for value in droid.values():\n",
    "    print(value)\n",
    "\n",
    "for key, value in droid.items():\n",
    "    print(key, value)"
   ]
  },
  {
   "cell_type": "markdown",
   "id": "91b13c5430",
   "metadata": {},
   "source": [
    " ### Indicating the position of an item in a list"
   ]
  },
  {
   "cell_type": "code",
   "execution_count": 13,
   "id": "00e1fd60f8",
   "metadata": {},
   "outputs": [
    {
     "name": "stdout",
     "output_type": "stream",
     "text": [
      "0: Tatooine\n",
      "1: Hoth\n",
      "2: Dagobah\n",
      "3: Endor\n",
      "0: Tatooine\n",
      "1: Hoth\n",
      "2: Dagobah\n",
      "3: Endor\n"
     ]
    }
   ],
   "source": [
    "# without using enumerate()\n",
    "planets = [\"Tatooine\", \"Hoth\", \"Dagobah\", \"Endor\"]\n",
    "index = 0\n",
    "for planet in planets:\n",
    "    print(f\"{index}: {planet}\")\n",
    "    index += 1\n",
    "\n",
    "# using enumerate()\n",
    "planets = [\"Tatooine\", \"Hoth\", \"Dagobah\", \"Endor\"]\n",
    "for index, planet in enumerate(planets):\n",
    "    print(f\"{index}: {planet}\")"
   ]
  },
  {
   "cell_type": "markdown",
   "id": "7367b4f950",
   "metadata": {},
   "source": [
    " ### Nested loops"
   ]
  },
  {
   "cell_type": "code",
   "execution_count": 14,
   "id": "598b366f93",
   "metadata": {},
   "outputs": [
    {
     "name": "stdout",
     "output_type": "stream",
     "text": [
      "Luke Skywalker visits the planet 'Tatooine'\n",
      "Luke Skywalker visits the planet 'Hoth'\n",
      "Luke Skywalker visits the planet 'Dagobah'\n",
      "Luke Skywalker visits the planet 'Endor'\n",
      "Leia Organa visits the planet 'Tatooine'\n",
      "Leia Organa visits the planet 'Hoth'\n",
      "Leia Organa visits the planet 'Dagobah'\n",
      "Leia Organa visits the planet 'Endor'\n",
      "Han Solo visits the planet 'Tatooine'\n",
      "Han Solo visits the planet 'Hoth'\n",
      "Han Solo visits the planet 'Dagobah'\n",
      "Han Solo visits the planet 'Endor'\n"
     ]
    }
   ],
   "source": [
    "planets = [\"Tatooine\", \"Hoth\", \"Dagobah\", \"Endor\"]\n",
    "for character in [\"Luke Skywalker\", \"Leia Organa\", \"Han Solo\"]:\n",
    "    for planet in planets:\n",
    "        print(f\"{character} visits the planet '{planet}'\")"
   ]
  },
  {
   "cell_type": "markdown",
   "id": "44fda9d8df",
   "metadata": {},
   "source": [
    " <blockquote><b>&#x1F517; Data Preparation &amp; Analysis</b>\n",
    "\n",
    " * loops are the backbone of automation in data preparation and analysis\n",
    "\n",
    " * e.g. iterating over columns, files in a directory, or rows in a dataset, tables in a database, etc.\n",
    "\n",
    " * in machine learning, loops are used to iterate over hyperparameters, models, or data splits\n",
    "\n",
    " </blockquote>"
   ]
  },
  {
   "cell_type": "markdown",
   "id": "4e0886a49c",
   "metadata": {},
   "source": [
    " ### Exercice: Loops\n",
    "\n",
    " #### Tasks:\n",
    "\n",
    " 1. Create a list of your favorite tv shows.\n",
    "\n",
    " 2. Use a for loop to print each show.\n",
    "\n",
    " 3. For each show, assume there are 10 seasons, and print, e.g. \"Game of Thrones, season 1\", \"Game of Thrones, season 2\", ...\n",
    "\n",
    " 4. BONUS: Now consider the following dictionary and use the correspnding number of seasons\n",
    "\n",
    "    instead of assuming 10 seasons for all shows:\n",
    "\n",
    "    ```\n",
    "    shows = {\n",
    "        \"The Mandalorian\": 2,\n",
    "        \"The Witcher\": 1,\n",
    "        \"Stranger Things\": 3,\n",
    "        \"Game of Thrones\": 8,\n",
    "    }\n",
    "\n",
    "    ```\n",
    "\n",
    " 5. BONUS (continued): create a list of all the formatted strings printed in the previous task"
   ]
  },
  {
   "cell_type": "markdown",
   "id": "570e1dbbf3-1",
   "metadata": {},
   "source": [
    " #### Solution:"
   ]
  },
  {
   "cell_type": "code",
   "execution_count": 15,
   "id": "95f9f0714c",
   "metadata": {},
   "outputs": [
    {
     "name": "stdout",
     "output_type": "stream",
     "text": [
      "The Mandalorian\n",
      "The Witcher\n",
      "Stranger Things\n",
      "Game of Thrones\n",
      "The Mandalorian, season 1\n",
      "The Mandalorian, season 2\n",
      "The Mandalorian, season 3\n",
      "The Mandalorian, season 4\n",
      "The Mandalorian, season 5\n",
      "The Mandalorian, season 6\n",
      "The Mandalorian, season 7\n",
      "The Mandalorian, season 8\n",
      "The Mandalorian, season 9\n",
      "The Mandalorian, season 10\n",
      "The Witcher, season 1\n",
      "The Witcher, season 2\n",
      "The Witcher, season 3\n",
      "The Witcher, season 4\n",
      "The Witcher, season 5\n",
      "The Witcher, season 6\n",
      "The Witcher, season 7\n",
      "The Witcher, season 8\n",
      "The Witcher, season 9\n",
      "The Witcher, season 10\n",
      "Stranger Things, season 1\n",
      "Stranger Things, season 2\n",
      "Stranger Things, season 3\n",
      "Stranger Things, season 4\n",
      "Stranger Things, season 5\n",
      "Stranger Things, season 6\n",
      "Stranger Things, season 7\n",
      "Stranger Things, season 8\n",
      "Stranger Things, season 9\n",
      "Stranger Things, season 10\n",
      "Game of Thrones, season 1\n",
      "Game of Thrones, season 2\n",
      "Game of Thrones, season 3\n",
      "Game of Thrones, season 4\n",
      "Game of Thrones, season 5\n",
      "Game of Thrones, season 6\n",
      "Game of Thrones, season 7\n",
      "Game of Thrones, season 8\n",
      "Game of Thrones, season 9\n",
      "Game of Thrones, season 10\n",
      "The Mandalorian, season 1\n",
      "The Mandalorian, season 2\n",
      "The Witcher, season 1\n",
      "Stranger Things, season 1\n",
      "Stranger Things, season 2\n",
      "Stranger Things, season 3\n",
      "Game of Thrones, season 1\n",
      "Game of Thrones, season 2\n",
      "Game of Thrones, season 3\n",
      "Game of Thrones, season 4\n",
      "Game of Thrones, season 5\n",
      "Game of Thrones, season 6\n",
      "Game of Thrones, season 7\n",
      "Game of Thrones, season 8\n",
      "['The Mandalorian, season 1', 'The Mandalorian, season 2', 'The Witcher, season 1', 'Stranger Things, season 1', 'Stranger Things, season 2', 'Stranger Things, season 3', 'Game of Thrones, season 1', 'Game of Thrones, season 2', 'Game of Thrones, season 3', 'Game of Thrones, season 4', 'Game of Thrones, season 5', 'Game of Thrones, season 6', 'Game of Thrones, season 7', 'Game of Thrones, season 8']\n"
     ]
    }
   ],
   "source": [
    "# 1. Create a list of your favorite tv shows.\n",
    "favorite_shows = [\n",
    "    \"The Mandalorian\",\n",
    "    \"The Witcher\",\n",
    "    \"Stranger Things\",\n",
    "    \"Game of Thrones\",\n",
    "]\n",
    "\n",
    "# 2. Use a for loop to print each show.\n",
    "for show in favorite_shows:\n",
    "    print(show)\n",
    "\n",
    "# 3. For each show, assume there are 10 seasons, and print, e.g. \"Game of Thrones, season 1\", \"Game of Thrones, season 2\", ...\n",
    "for show in favorite_shows:\n",
    "    for season in range(1, 11):\n",
    "        print(f\"{show}, season {season}\")\n",
    "\n",
    "# 4. BONUS: Now consider the following dictionary and use the correspnding number of seasons\n",
    "#    instead of assuming 10 seasons for all shows:\n",
    "#    ```\n",
    "#    shows = {\n",
    "#        \"The Mandalorian\": 2,\n",
    "#        \"The Witcher\": 1,\n",
    "#        \"Stranger Things\": 3,\n",
    "#        \"Game of Thrones\": 8,\n",
    "#    }\n",
    "#    ```\n",
    "shows = {\n",
    "    \"The Mandalorian\": 2,\n",
    "    \"The Witcher\": 1,\n",
    "    \"Stranger Things\": 3,\n",
    "    \"Game of Thrones\": 8,\n",
    "}\n",
    "for show, seasons in shows.items():\n",
    "    for season in range(1, seasons + 1):  # include last season\n",
    "        print(f\"{show}, season {season}\")\n",
    "\n",
    "# 5. BONUS (continued): create a list of all the formatted strings printed in the previous task\n",
    "formatted_strings = []\n",
    "for show, seasons in shows.items():\n",
    "    for season in range(1, seasons + 1):\n",
    "        formatted_strings.append(f\"{show}, season {season}\")\n",
    "print(formatted_strings)"
   ]
  },
  {
   "cell_type": "markdown",
   "id": "dbbb533320",
   "metadata": {},
   "source": [
    " ## List comprehension\n",
    "\n",
    " List comprehension is a way to create lists using loops, for example:\n",
    "\n",
    " ### First an example without list comprehension"
   ]
  },
  {
   "cell_type": "code",
   "execution_count": 16,
   "id": "12a5a3eab8",
   "metadata": {},
   "outputs": [
    {
     "name": "stdout",
     "output_type": "stream",
     "text": [
      "[8, 4, 7, 5]\n"
     ]
    }
   ],
   "source": [
    "# First, using a loop\n",
    "planets = [\"Tatooine\", \"Hoth\", \"Dagobah\", \"Endor\"]\n",
    "planet_lengths = []\n",
    "for planet in planets:\n",
    "    planet_lengths.append(len(planet))\n",
    "print(planet_lengths)"
   ]
  },
  {
   "cell_type": "markdown",
   "id": "a99573892d",
   "metadata": {},
   "source": [
    " ### Then, more concisely, using list comprehension"
   ]
  },
  {
   "cell_type": "code",
   "execution_count": 17,
   "id": "b9596d9c0d",
   "metadata": {},
   "outputs": [
    {
     "name": "stdout",
     "output_type": "stream",
     "text": [
      "[8, 4, 7, 5]\n"
     ]
    }
   ],
   "source": [
    "planet_lengths = [len(planet) for planet in planets]\n",
    "print(planet_lengths)"
   ]
  },
  {
   "cell_type": "markdown",
   "id": "1612ef736c",
   "metadata": {},
   "source": [
    " ### List comprehension with conditions\n",
    "\n",
    " List comprehension can be used to create lists using loops with conditions, for example:"
   ]
  },
  {
   "cell_type": "code",
   "execution_count": 18,
   "id": "2bebe052d5",
   "metadata": {},
   "outputs": [],
   "source": [
    "another_list = [i * 2 for i in [1, -3, 5] if i > 3]"
   ]
  },
  {
   "cell_type": "markdown",
   "id": "f7ac091151",
   "metadata": {},
   "source": [
    " <blockquote><b>&#x1F517; Data Preparation &amp; Analysis</b>\n",
    "\n",
    " * especially for beginners, list comprehensions might seem a bit cryptic so it is fine if you prefer to use loops\n",
    "\n",
    " * list comprehensions are more concise and can be faster than loops\n",
    "\n",
    " * they can also (sometimes) be more readable once you get used to them\n",
    "\n",
    " * many examples in forums include list comprehensions, so it is good to be able to read them\n",
    "\n",
    " * Hint: use ChatGPT to translate a list comprehension to a loop &#x1F609;\n",
    "\n",
    " </blockquote>"
   ]
  },
  {
   "cell_type": "markdown",
   "id": "2839bebe40",
   "metadata": {},
   "source": [
    " ### Exercice: List Comprehension\n",
    "\n",
    " #### Tasks:\n",
    "\n",
    " 1. create a variable called *numbers* with the value [-3,-2,-1,0,1,2,3] and print it on the screen\n",
    "\n",
    " 2. use a loop to print the square of each number in *numbers* on the screen\n",
    "\n",
    " 3. use a loop to print the square of each number in *numbers* on the screen, but only if the number is positive\n",
    "\n",
    " 4. use a list comprehension to create a list called *numbers_squared* with the square of each number in *numbers* and print it on the screen\n",
    "\n",
    " 5. BONUS: use a list comprehension to create a list called *numbers_squared* with the square of each number in *numbers*, but only if the number is positive and print it on the screen\n",
    "\n",
    " 6. BONUS: use a list comprehension to create a list called *numbers_squared* with the square of each number in *numbers*, but only if the number is even and print it on the screen"
   ]
  },
  {
   "cell_type": "markdown",
   "id": "570e1dbbf3-2",
   "metadata": {},
   "source": [
    " #### Solution:"
   ]
  },
  {
   "cell_type": "code",
   "execution_count": 19,
   "id": "7d7a6c1f6a",
   "metadata": {},
   "outputs": [
    {
     "name": "stdout",
     "output_type": "stream",
     "text": [
      "[-3, -2, -1, 0, 1, 2, 3]\n",
      "9\n",
      "4\n",
      "1\n",
      "0\n",
      "1\n",
      "4\n",
      "9\n",
      "1\n",
      "4\n",
      "9\n",
      "[9, 4, 1, 0, 1, 4, 9]\n",
      "[1, 4, 9]\n",
      "[4, 0, 4]\n"
     ]
    }
   ],
   "source": [
    "# 1. create a variable called *numbers* with the value [-3,-2,-1,0,1,2,3] and print it on the screen\n",
    "numbers = [-3, -2, -1, 0, 1, 2, 3]\n",
    "print(numbers)\n",
    "\n",
    "# 2. use a loop to print the square of each number in *numbers* on the screen\n",
    "for i in numbers:\n",
    "    print(i**2)\n",
    "\n",
    "# 3. use a loop to print the square of each number in *mylist* on the screen, but only if the number is positive\n",
    "for i in numbers:\n",
    "    if i > 0:\n",
    "        print(i**2)\n",
    "\n",
    "# 4. use a list comprehension to create a list called *numbers_squared* with the square of each number in *numbers* and print it on the screen\n",
    "numbers_squared = [i**2 for i in numbers]\n",
    "print(numbers_squared)\n",
    "\n",
    "# 5. BONUS: use a list comprehension to create a list called *numbers_squared* with the square of each number in *numbers*, but only if the number is positive and print it on the screen\n",
    "numbers_squared = [i**2 for i in numbers if i > 0]\n",
    "print(numbers_squared)\n",
    "\n",
    "# 6. BONUS: use a list comprehension to create a list called *numbers_squared* with the square of each number in *numbers*, but only if the number is even and print it on the screen\n",
    "numbers_squared = [i**2 for i in numbers if i % 2 == 0]\n",
    "print(numbers_squared)"
   ]
  }
 ],
 "metadata": {
  "jupytext": {
   "main_language": "python",
   "text_representation": {
    "extension": ".py",
    "format_name": "percent",
    "format_version": "1.3",
    "jupytext_version": "1.17.2"
   }
  },
  "language_info": {
   "codemirror_mode": {
    "name": "ipython",
    "version": 3
   },
   "file_extension": ".py",
   "mimetype": "text/x-python",
   "name": "python",
   "nbconvert_exporter": "python",
   "pygments_lexer": "ipython3",
   "version": "3.13.6"
  }
 },
 "nbformat": 4,
 "nbformat_minor": 5
}
