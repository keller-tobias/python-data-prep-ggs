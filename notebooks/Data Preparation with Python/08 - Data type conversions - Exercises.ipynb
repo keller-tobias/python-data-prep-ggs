{
 "cells": [
  {
   "cell_type": "markdown",
   "id": "bb626dfce0",
   "metadata": {},
   "source": [
    "# Data type conversions - Exercises"
   ]
  },
  {
   "cell_type": "markdown",
   "id": "5fa3002f70",
   "metadata": {},
   "source": [
    "# Preparations"
   ]
  },
  {
   "cell_type": "code",
   "execution_count": 1,
   "id": "05425877e9",
   "metadata": {},
   "outputs": [],
   "source": [
    "import pandas as pd\n",
    "import numpy as np\n",
    "\n",
    "pd.set_option(\"display.max_columns\", 500)"
   ]
  },
  {
   "cell_type": "markdown",
   "id": "6a6c049a30",
   "metadata": {},
   "source": [
    "# Exercise\n",
    "\n",
    "1. Load the first sheet of the Excel file \"wdi_wrong_types.xlsx\" into a pandas DataFrame.\n",
    "2. What are the data types of the columns as determined by `read_excel()`?\n",
    "3. The columns *CM_MKT_LCAP_CD* and *SP_DYN_LE00_IN* should be numeric. Perform the necessary conversions using the steps from above.\n",
    "4. The column *euro_area* should be boolean. Perform the necessary conversion using the steps from above.\n",
    "5. Bonus: The column *incomegroup_and_id* actually contains two pieces of information, the countries' income group name and the respective ids. The two pieces are separated with a \"|\" character. Create two separate columns: a string column (`object`) for the income group name and an `int` column for the id. Hint: you might consider the method `pandas.Series.str.split()`, see [https://pandas.pydata.org/docs/reference/api/pandas.Series.str.split.html](https://pandas.pydata.org/docs/reference/api/pandas.Series.str.split.html)."
   ]
  },
  {
   "cell_type": "markdown",
   "id": "a02f669554",
   "metadata": {},
   "source": [
    "## 1. Load the first sheet of the Excel file \"wdi_wrong_types.csv\" into a pandas DataFrame."
   ]
  },
  {
   "cell_type": "code",
   "execution_count": 2,
   "id": "82d06375df",
   "metadata": {},
   "outputs": [
    {
     "data": {
      "text/html": [
       "<div>\n",
       "<style scoped>\n",
       "    .dataframe tbody tr th:only-of-type {\n",
       "        vertical-align: middle;\n",
       "    }\n",
       "\n",
       "    .dataframe tbody tr th {\n",
       "        vertical-align: top;\n",
       "    }\n",
       "\n",
       "    .dataframe thead th {\n",
       "        text-align: right;\n",
       "    }\n",
       "</style>\n",
       "<table border=\"1\" class=\"dataframe\">\n",
       "  <thead>\n",
       "    <tr style=\"text-align: right;\">\n",
       "      <th></th>\n",
       "      <th>countryname</th>\n",
       "      <th>countrycode</th>\n",
       "      <th>year</th>\n",
       "      <th>pub_date</th>\n",
       "      <th>euro_area</th>\n",
       "      <th>incomegroup_and_id</th>\n",
       "      <th>CM_MKT_LCAP_CD</th>\n",
       "      <th>SP_DYN_LE00_IN</th>\n",
       "      <th>SP_URB_TOTL_IN_ZS</th>\n",
       "      <th>pub_date2</th>\n",
       "      <th>pub_date3</th>\n",
       "      <th>pub_date4</th>\n",
       "    </tr>\n",
       "  </thead>\n",
       "  <tbody>\n",
       "    <tr>\n",
       "      <th>0</th>\n",
       "      <td>NaN</td>\n",
       "      <td>ARM</td>\n",
       "      <td>2012</td>\n",
       "      <td>2013-10-04</td>\n",
       "      <td>NaN</td>\n",
       "      <td>Lower middle income|3</td>\n",
       "      <td>-99</td>\n",
       "      <td>NOT AVAILABLE</td>\n",
       "      <td>NaN</td>\n",
       "      <td>2013.10.4</td>\n",
       "      <td>2013/4/10</td>\n",
       "      <td>41013</td>\n",
       "    </tr>\n",
       "    <tr>\n",
       "      <th>1</th>\n",
       "      <td>Armenia</td>\n",
       "      <td>ARM</td>\n",
       "      <td>2011</td>\n",
       "      <td>2012-08-20</td>\n",
       "      <td>NaN</td>\n",
       "      <td>Lower middle income|3</td>\n",
       "      <td>-99</td>\n",
       "      <td>74.34283</td>\n",
       "      <td>NaN</td>\n",
       "      <td>2012.8.20</td>\n",
       "      <td>2012/20/8</td>\n",
       "      <td>200812</td>\n",
       "    </tr>\n",
       "    <tr>\n",
       "      <th>2</th>\n",
       "      <td>Austria</td>\n",
       "      <td>AUT</td>\n",
       "      <td>2013</td>\n",
       "      <td>2014-03-03</td>\n",
       "      <td>EURO</td>\n",
       "      <td>High income|1</td>\n",
       "      <td>-99</td>\n",
       "      <td>81.13659</td>\n",
       "      <td>65.884</td>\n",
       "      <td>2014.3.3</td>\n",
       "      <td>2014/3/3</td>\n",
       "      <td>30314</td>\n",
       "    </tr>\n",
       "    <tr>\n",
       "      <th>3</th>\n",
       "      <td>Austria</td>\n",
       "      <td>AUT</td>\n",
       "      <td>2012</td>\n",
       "      <td>2013-12-25</td>\n",
       "      <td>EURO</td>\n",
       "      <td>High income|1</td>\n",
       "      <td>-99</td>\n",
       "      <td>80.93659</td>\n",
       "      <td>NaN</td>\n",
       "      <td>2013.12.25</td>\n",
       "      <td>2013/25/12</td>\n",
       "      <td>251213</td>\n",
       "    </tr>\n",
       "    <tr>\n",
       "      <th>4</th>\n",
       "      <td>Austria</td>\n",
       "      <td>AUT</td>\n",
       "      <td>2014</td>\n",
       "      <td>2015-03-22</td>\n",
       "      <td>EURO</td>\n",
       "      <td>High income|1</td>\n",
       "      <td>9,679033e+10</td>\n",
       "      <td>81.49024</td>\n",
       "      <td>65.919</td>\n",
       "      <td>2015.3.22</td>\n",
       "      <td>2015/22/3</td>\n",
       "      <td>220315</td>\n",
       "    </tr>\n",
       "  </tbody>\n",
       "</table>\n",
       "</div>"
      ],
      "text/plain": [
       "  countryname countrycode  year   pub_date euro_area     incomegroup_and_id  \\\n",
       "0         NaN         ARM  2012 2013-10-04       NaN  Lower middle income|3   \n",
       "1     Armenia         ARM  2011 2012-08-20       NaN  Lower middle income|3   \n",
       "2     Austria         AUT  2013 2014-03-03      EURO          High income|1   \n",
       "3     Austria         AUT  2012 2013-12-25      EURO          High income|1   \n",
       "4     Austria         AUT  2014 2015-03-22      EURO          High income|1   \n",
       "\n",
       "  CM_MKT_LCAP_CD SP_DYN_LE00_IN  SP_URB_TOTL_IN_ZS   pub_date2   pub_date3  \\\n",
       "0            -99  NOT AVAILABLE                NaN   2013.10.4   2013/4/10   \n",
       "1            -99       74.34283                NaN   2012.8.20   2012/20/8   \n",
       "2            -99       81.13659             65.884    2014.3.3    2014/3/3   \n",
       "3            -99       80.93659                NaN  2013.12.25  2013/25/12   \n",
       "4   9,679033e+10       81.49024             65.919   2015.3.22   2015/22/3   \n",
       "\n",
       "   pub_date4  \n",
       "0      41013  \n",
       "1     200812  \n",
       "2      30314  \n",
       "3     251213  \n",
       "4     220315  "
      ]
     },
     "execution_count": 2,
     "metadata": {},
     "output_type": "execute_result"
    }
   ],
   "source": [
    "# load the following tab-separated text file\n",
    "df = pd.read_excel(\"../../data/raw/wdi_wrong_types.xlsx\")\n",
    "df.head()"
   ]
  },
  {
   "cell_type": "markdown",
   "id": "1267502cb9",
   "metadata": {},
   "source": [
    "# 2. What are the data types of the columns as determined by `read_excel()`?"
   ]
  },
  {
   "cell_type": "code",
   "execution_count": 3,
   "id": "b5486a9daf",
   "metadata": {},
   "outputs": [
    {
     "name": "stdout",
     "output_type": "stream",
     "text": [
      "<class 'pandas.core.frame.DataFrame'>\n",
      "RangeIndex: 154 entries, 0 to 153\n",
      "Data columns (total 12 columns):\n",
      " #   Column              Non-Null Count  Dtype         \n",
      "---  ------              --------------  -----         \n",
      " 0   countryname         145 non-null    object        \n",
      " 1   countrycode         154 non-null    object        \n",
      " 2   year                154 non-null    int64         \n",
      " 3   pub_date            154 non-null    datetime64[ns]\n",
      " 4   euro_area           81 non-null     object        \n",
      " 5   incomegroup_and_id  154 non-null    object        \n",
      " 6   CM_MKT_LCAP_CD      154 non-null    object        \n",
      " 7   SP_DYN_LE00_IN      154 non-null    object        \n",
      " 8   SP_URB_TOTL_IN_ZS   118 non-null    float64       \n",
      " 9   pub_date2           154 non-null    object        \n",
      " 10  pub_date3           154 non-null    object        \n",
      " 11  pub_date4           154 non-null    int64         \n",
      "dtypes: datetime64[ns](1), float64(1), int64(2), object(8)\n",
      "memory usage: 14.6+ KB\n"
     ]
    }
   ],
   "source": [
    "df.info()"
   ]
  },
  {
   "cell_type": "markdown",
   "id": "d7ca187ccd",
   "metadata": {},
   "source": [
    "# 3. The columns *CM_MKT_LCAP_CD* and *SP_DYN_LE00_IN* should be numeric. Perform the necessary conversions using the steps from above."
   ]
  },
  {
   "cell_type": "code",
   "execution_count": 4,
   "id": "299f5328c1",
   "metadata": {},
   "outputs": [
    {
     "data": {
      "text/html": [
       "<div>\n",
       "<style scoped>\n",
       "    .dataframe tbody tr th:only-of-type {\n",
       "        vertical-align: middle;\n",
       "    }\n",
       "\n",
       "    .dataframe tbody tr th {\n",
       "        vertical-align: top;\n",
       "    }\n",
       "\n",
       "    .dataframe thead th {\n",
       "        text-align: right;\n",
       "    }\n",
       "</style>\n",
       "<table border=\"1\" class=\"dataframe\">\n",
       "  <thead>\n",
       "    <tr style=\"text-align: right;\">\n",
       "      <th></th>\n",
       "      <th>countryname</th>\n",
       "      <th>year</th>\n",
       "      <th>CM_MKT_LCAP_CD</th>\n",
       "      <th>SP_DYN_LE00_IN</th>\n",
       "    </tr>\n",
       "  </thead>\n",
       "  <tbody>\n",
       "    <tr>\n",
       "      <th>0</th>\n",
       "      <td>NaN</td>\n",
       "      <td>2012</td>\n",
       "      <td>-99</td>\n",
       "      <td>NOT AVAILABLE</td>\n",
       "    </tr>\n",
       "    <tr>\n",
       "      <th>1</th>\n",
       "      <td>Armenia</td>\n",
       "      <td>2011</td>\n",
       "      <td>-99</td>\n",
       "      <td>74.34283</td>\n",
       "    </tr>\n",
       "    <tr>\n",
       "      <th>2</th>\n",
       "      <td>Austria</td>\n",
       "      <td>2013</td>\n",
       "      <td>-99</td>\n",
       "      <td>81.13659</td>\n",
       "    </tr>\n",
       "    <tr>\n",
       "      <th>3</th>\n",
       "      <td>Austria</td>\n",
       "      <td>2012</td>\n",
       "      <td>-99</td>\n",
       "      <td>80.93659</td>\n",
       "    </tr>\n",
       "    <tr>\n",
       "      <th>4</th>\n",
       "      <td>Austria</td>\n",
       "      <td>2014</td>\n",
       "      <td>9,679033e+10</td>\n",
       "      <td>81.49024</td>\n",
       "    </tr>\n",
       "  </tbody>\n",
       "</table>\n",
       "</div>"
      ],
      "text/plain": [
       "  countryname  year CM_MKT_LCAP_CD SP_DYN_LE00_IN\n",
       "0         NaN  2012            -99  NOT AVAILABLE\n",
       "1     Armenia  2011            -99       74.34283\n",
       "2     Austria  2013            -99       81.13659\n",
       "3     Austria  2012            -99       80.93659\n",
       "4     Austria  2014   9,679033e+10       81.49024"
      ]
     },
     "execution_count": 4,
     "metadata": {},
     "output_type": "execute_result"
    }
   ],
   "source": [
    "# inspect the variables of interest\n",
    "df[[\"countryname\", \"year\", \"CM_MKT_LCAP_CD\", \"SP_DYN_LE00_IN\"]].head(5)"
   ]
  },
  {
   "cell_type": "markdown",
   "id": "76dc7b9d88",
   "metadata": {},
   "source": [
    "## 3.1 convert CM_MLTLCAP_CD"
   ]
  },
  {
   "cell_type": "code",
   "execution_count": 5,
   "id": "f5f739a623",
   "metadata": {},
   "outputs": [
    {
     "name": "stdout",
     "output_type": "stream",
     "text": [
      "Missing before replacing '-99' with np.nan: 0\n",
      "Missing after replacing '-99' with np.nan:  0\n",
      "Missing after conversion to float: 37\n",
      "Additional missing values: 37\n",
      "float64\n"
     ]
    },
    {
     "data": {
      "text/html": [
       "<div>\n",
       "<style scoped>\n",
       "    .dataframe tbody tr th:only-of-type {\n",
       "        vertical-align: middle;\n",
       "    }\n",
       "\n",
       "    .dataframe tbody tr th {\n",
       "        vertical-align: top;\n",
       "    }\n",
       "\n",
       "    .dataframe thead th {\n",
       "        text-align: right;\n",
       "    }\n",
       "</style>\n",
       "<table border=\"1\" class=\"dataframe\">\n",
       "  <thead>\n",
       "    <tr style=\"text-align: right;\">\n",
       "      <th></th>\n",
       "      <th>countryname</th>\n",
       "      <th>year</th>\n",
       "      <th>CM_MKT_LCAP_CD</th>\n",
       "      <th>CM_MKT_LCAP_CD_corrected</th>\n",
       "    </tr>\n",
       "  </thead>\n",
       "  <tbody>\n",
       "    <tr>\n",
       "      <th>0</th>\n",
       "      <td>NaN</td>\n",
       "      <td>2012</td>\n",
       "      <td>-99</td>\n",
       "      <td>NaN</td>\n",
       "    </tr>\n",
       "    <tr>\n",
       "      <th>1</th>\n",
       "      <td>Armenia</td>\n",
       "      <td>2011</td>\n",
       "      <td>-99</td>\n",
       "      <td>NaN</td>\n",
       "    </tr>\n",
       "    <tr>\n",
       "      <th>2</th>\n",
       "      <td>Austria</td>\n",
       "      <td>2013</td>\n",
       "      <td>-99</td>\n",
       "      <td>NaN</td>\n",
       "    </tr>\n",
       "    <tr>\n",
       "      <th>3</th>\n",
       "      <td>Austria</td>\n",
       "      <td>2012</td>\n",
       "      <td>-99</td>\n",
       "      <td>NaN</td>\n",
       "    </tr>\n",
       "    <tr>\n",
       "      <th>4</th>\n",
       "      <td>Austria</td>\n",
       "      <td>2014</td>\n",
       "      <td>9,679033e+10</td>\n",
       "      <td>9.679033e+10</td>\n",
       "    </tr>\n",
       "    <tr>\n",
       "      <th>5</th>\n",
       "      <td>Austria</td>\n",
       "      <td>2016</td>\n",
       "      <td>1,209767e+11</td>\n",
       "      <td>1.209767e+11</td>\n",
       "    </tr>\n",
       "    <tr>\n",
       "      <th>6</th>\n",
       "      <td>Austria</td>\n",
       "      <td>2015</td>\n",
       "      <td>9,607938e+10</td>\n",
       "      <td>9.607938e+10</td>\n",
       "    </tr>\n",
       "    <tr>\n",
       "      <th>7</th>\n",
       "      <td>Austria</td>\n",
       "      <td>2011</td>\n",
       "      <td>8,526952e+10</td>\n",
       "      <td>8.526952e+10</td>\n",
       "    </tr>\n",
       "    <tr>\n",
       "      <th>8</th>\n",
       "      <td>Belgium</td>\n",
       "      <td>2011</td>\n",
       "      <td>-99</td>\n",
       "      <td>NaN</td>\n",
       "    </tr>\n",
       "    <tr>\n",
       "      <th>9</th>\n",
       "      <td>Belgium</td>\n",
       "      <td>2016</td>\n",
       "      <td>3,777565e+11</td>\n",
       "      <td>3.777565e+11</td>\n",
       "    </tr>\n",
       "  </tbody>\n",
       "</table>\n",
       "</div>"
      ],
      "text/plain": [
       "  countryname  year CM_MKT_LCAP_CD  CM_MKT_LCAP_CD_corrected\n",
       "0         NaN  2012            -99                       NaN\n",
       "1     Armenia  2011            -99                       NaN\n",
       "2     Austria  2013            -99                       NaN\n",
       "3     Austria  2012            -99                       NaN\n",
       "4     Austria  2014   9,679033e+10              9.679033e+10\n",
       "5     Austria  2016   1,209767e+11              1.209767e+11\n",
       "6     Austria  2015   9,607938e+10              9.607938e+10\n",
       "7     Austria  2011   8,526952e+10              8.526952e+10\n",
       "8     Belgium  2011            -99                       NaN\n",
       "9     Belgium  2016   3,777565e+11              3.777565e+11"
      ]
     },
     "execution_count": 5,
     "metadata": {},
     "output_type": "execute_result"
    }
   ],
   "source": [
    "# 1. Explicitly replace known placeholder for missingness with the appropriate special value (usually np.nan for floats\n",
    "df[\"CM_MKT_LCAP_CD_corrected\"] = df[\"CM_MKT_LCAP_CD\"].replace(\"-99\", np.nan)\n",
    "\n",
    "# 2. Note how many missing values are present before any type conversion\n",
    "missing_before = df[\"CM_MKT_LCAP_CD\"].isna().sum()\n",
    "print(f\"Missing before replacing '-99' with np.nan: {df['CM_MKT_LCAP_CD'].isna().sum()}\")\n",
    "print(f\"Missing after replacing '-99' with np.nan:  {missing_before}\")\n",
    "# 3. Prepare the column for type conversion (e.g. replace ',' with '.' and '.' with '' when number format is \"German\")\n",
    "df[\"CM_MKT_LCAP_CD_corrected\"] = (\n",
    "    df[\"CM_MKT_LCAP_CD_corrected\"]\n",
    "    .str.replace(\".\", \"\", regex=False)\n",
    "    .str.replace(\",\", \".\", regex=False)\n",
    ")\n",
    "\n",
    "# 4. Perform the data type conversion\n",
    "df[\"CM_MKT_LCAP_CD_corrected\"] = df[\"CM_MKT_LCAP_CD_corrected\"].astype(\"float\")\n",
    "\n",
    "# 5. This can lead to additional NA entries if you have overlooked a problem:\n",
    "#   check for this, comparing the number of missings with the number recorded in step 2.\n",
    "mssing_after = df[\"CM_MKT_LCAP_CD_corrected\"].isna().sum()\n",
    "print(f\"Missing after conversion to float: {mssing_after}\")\n",
    "print(f\"Additional missing values: {mssing_after - missing_before}\")\n",
    "\n",
    "print(df[\"CM_MKT_LCAP_CD_corrected\"].dtype)\n",
    "df[[\"countryname\", \"year\", \"CM_MKT_LCAP_CD\", \"CM_MKT_LCAP_CD_corrected\"]].head(10)"
   ]
  },
  {
   "cell_type": "markdown",
   "id": "2812ca65b1",
   "metadata": {},
   "source": [
    "## 3.2 convert SP_DYN_LE00_IN"
   ]
  },
  {
   "cell_type": "code",
   "execution_count": 6,
   "id": "cec0e4113f",
   "metadata": {},
   "outputs": [
    {
     "name": "stdout",
     "output_type": "stream",
     "text": [
      "Missing before replacing 'NOT AVAILABLE' and '      NA' with np.nan: 0\n",
      "Missing after replacing 'NOT AVAILABLE' and '      NA' with np.nan:  0\n",
      "Missing after conversion to float: 37\n",
      "Additional missing values: 37\n",
      "float64\n"
     ]
    },
    {
     "data": {
      "text/html": [
       "<div>\n",
       "<style scoped>\n",
       "    .dataframe tbody tr th:only-of-type {\n",
       "        vertical-align: middle;\n",
       "    }\n",
       "\n",
       "    .dataframe tbody tr th {\n",
       "        vertical-align: top;\n",
       "    }\n",
       "\n",
       "    .dataframe thead th {\n",
       "        text-align: right;\n",
       "    }\n",
       "</style>\n",
       "<table border=\"1\" class=\"dataframe\">\n",
       "  <thead>\n",
       "    <tr style=\"text-align: right;\">\n",
       "      <th></th>\n",
       "      <th>countryname</th>\n",
       "      <th>year</th>\n",
       "      <th>SP_DYN_LE00_IN</th>\n",
       "      <th>SP_DYN_LE00_IN_corrected</th>\n",
       "    </tr>\n",
       "  </thead>\n",
       "  <tbody>\n",
       "    <tr>\n",
       "      <th>0</th>\n",
       "      <td>NaN</td>\n",
       "      <td>2012</td>\n",
       "      <td>NOT AVAILABLE</td>\n",
       "      <td>NaN</td>\n",
       "    </tr>\n",
       "    <tr>\n",
       "      <th>1</th>\n",
       "      <td>Armenia</td>\n",
       "      <td>2011</td>\n",
       "      <td>74.34283</td>\n",
       "      <td>7434283.0</td>\n",
       "    </tr>\n",
       "    <tr>\n",
       "      <th>2</th>\n",
       "      <td>Austria</td>\n",
       "      <td>2013</td>\n",
       "      <td>81.13659</td>\n",
       "      <td>8113659.0</td>\n",
       "    </tr>\n",
       "    <tr>\n",
       "      <th>3</th>\n",
       "      <td>Austria</td>\n",
       "      <td>2012</td>\n",
       "      <td>80.93659</td>\n",
       "      <td>8093659.0</td>\n",
       "    </tr>\n",
       "    <tr>\n",
       "      <th>4</th>\n",
       "      <td>Austria</td>\n",
       "      <td>2014</td>\n",
       "      <td>81.49024</td>\n",
       "      <td>8149024.0</td>\n",
       "    </tr>\n",
       "    <tr>\n",
       "      <th>5</th>\n",
       "      <td>Austria</td>\n",
       "      <td>2016</td>\n",
       "      <td>NA</td>\n",
       "      <td>NaN</td>\n",
       "    </tr>\n",
       "    <tr>\n",
       "      <th>6</th>\n",
       "      <td>Austria</td>\n",
       "      <td>2015</td>\n",
       "      <td>81.84390</td>\n",
       "      <td>8184390.0</td>\n",
       "    </tr>\n",
       "    <tr>\n",
       "      <th>7</th>\n",
       "      <td>Austria</td>\n",
       "      <td>2011</td>\n",
       "      <td>80.98293</td>\n",
       "      <td>8098293.0</td>\n",
       "    </tr>\n",
       "    <tr>\n",
       "      <th>8</th>\n",
       "      <td>Belgium</td>\n",
       "      <td>2011</td>\n",
       "      <td>80.58537</td>\n",
       "      <td>8058537.0</td>\n",
       "    </tr>\n",
       "    <tr>\n",
       "      <th>9</th>\n",
       "      <td>Belgium</td>\n",
       "      <td>2016</td>\n",
       "      <td>NOT AVAILABLE</td>\n",
       "      <td>NaN</td>\n",
       "    </tr>\n",
       "  </tbody>\n",
       "</table>\n",
       "</div>"
      ],
      "text/plain": [
       "  countryname  year SP_DYN_LE00_IN  SP_DYN_LE00_IN_corrected\n",
       "0         NaN  2012  NOT AVAILABLE                       NaN\n",
       "1     Armenia  2011       74.34283                 7434283.0\n",
       "2     Austria  2013       81.13659                 8113659.0\n",
       "3     Austria  2012       80.93659                 8093659.0\n",
       "4     Austria  2014       81.49024                 8149024.0\n",
       "5     Austria  2016             NA                       NaN\n",
       "6     Austria  2015       81.84390                 8184390.0\n",
       "7     Austria  2011       80.98293                 8098293.0\n",
       "8     Belgium  2011       80.58537                 8058537.0\n",
       "9     Belgium  2016  NOT AVAILABLE                       NaN"
      ]
     },
     "execution_count": 6,
     "metadata": {},
     "output_type": "execute_result"
    }
   ],
   "source": [
    "# 1. Explicitly replace known placeholder for missingness with the appropriate special value (usually np.nan for floats\n",
    "df[\"SP_DYN_LE00_IN_corrected\"] = df[\"SP_DYN_LE00_IN\"].replace(\"NOT AVAILABLE\", np.nan)\n",
    "df[\"SP_DYN_LE00_IN_corrected\"] = df[\"SP_DYN_LE00_IN_corrected\"].replace(\"      NA\", np.nan)\n",
    "\n",
    "# 2. Note how many missing values are present before any type conversion\n",
    "missing_before = df[\"SP_DYN_LE00_IN\"].isna().sum()\n",
    "print(\n",
    "    f\"Missing before replacing 'NOT AVAILABLE' and '      NA' with np.nan: {df['SP_DYN_LE00_IN'].isna().sum()}\"\n",
    ")\n",
    "print(f\"Missing after replacing 'NOT AVAILABLE' and '      NA' with np.nan:  {missing_before}\")\n",
    "# 3. Prepare the column for type conversion (e.g. replace ',' with '.' and '.' with '' when number format is \"German\")\n",
    "df[\"SP_DYN_LE00_IN_corrected\"] = (\n",
    "    df[\"SP_DYN_LE00_IN_corrected\"]\n",
    "    .str.replace(\".\", \"\", regex=False)\n",
    "    .str.replace(\",\", \".\", regex=False)\n",
    ")\n",
    "\n",
    "# 4. Perform the data type conversion\n",
    "df[\"SP_DYN_LE00_IN_corrected\"] = df[\"SP_DYN_LE00_IN_corrected\"].astype(\"float\")\n",
    "\n",
    "# 5. This can lead to additional NA entries if you have overlooked a problem:\n",
    "#   check for this, comparing the number of missings with the number recorded in step 2.\n",
    "mssing_after = df[\"SP_DYN_LE00_IN_corrected\"].isna().sum()\n",
    "print(f\"Missing after conversion to float: {mssing_after}\")\n",
    "print(f\"Additional missing values: {mssing_after - missing_before}\")\n",
    "\n",
    "print(df[\"SP_DYN_LE00_IN_corrected\"].dtype)\n",
    "df[[\"countryname\", \"year\", \"SP_DYN_LE00_IN\", \"SP_DYN_LE00_IN_corrected\"]].head(10)"
   ]
  },
  {
   "cell_type": "markdown",
   "id": "5b3b72e0c2",
   "metadata": {},
   "source": [
    "# 4. The column *euro_area* should be boolean. Perform the necessary conversion using the steps from above."
   ]
  },
  {
   "cell_type": "code",
   "execution_count": 7,
   "id": "b76ba21b60",
   "metadata": {},
   "outputs": [
    {
     "data": {
      "text/plain": [
       "euro_area\n",
       "EURO        79\n",
       "NOT EURO     2\n",
       "dtype: int64"
      ]
     },
     "execution_count": 7,
     "metadata": {},
     "output_type": "execute_result"
    }
   ],
   "source": [
    "df.groupby(\"euro_area\").size()"
   ]
  },
  {
   "cell_type": "code",
   "execution_count": 8,
   "id": "8f5c9f4abf",
   "metadata": {},
   "outputs": [
    {
     "data": {
      "text/plain": [
       "np.int64(73)"
      ]
     },
     "execution_count": 8,
     "metadata": {},
     "output_type": "execute_result"
    }
   ],
   "source": [
    "df[\"euro_area\"].isna().sum()"
   ]
  },
  {
   "cell_type": "code",
   "execution_count": 9,
   "id": "68559dc0ed",
   "metadata": {},
   "outputs": [
    {
     "data": {
      "text/html": [
       "<div>\n",
       "<style scoped>\n",
       "    .dataframe tbody tr th:only-of-type {\n",
       "        vertical-align: middle;\n",
       "    }\n",
       "\n",
       "    .dataframe tbody tr th {\n",
       "        vertical-align: top;\n",
       "    }\n",
       "\n",
       "    .dataframe thead th {\n",
       "        text-align: right;\n",
       "    }\n",
       "</style>\n",
       "<table border=\"1\" class=\"dataframe\">\n",
       "  <thead>\n",
       "    <tr style=\"text-align: right;\">\n",
       "      <th>euro_area_orig</th>\n",
       "      <th>EURO</th>\n",
       "      <th>NOT EURO</th>\n",
       "    </tr>\n",
       "    <tr>\n",
       "      <th>euro_area</th>\n",
       "      <th></th>\n",
       "      <th></th>\n",
       "    </tr>\n",
       "  </thead>\n",
       "  <tbody>\n",
       "    <tr>\n",
       "      <th>False</th>\n",
       "      <td>0</td>\n",
       "      <td>2</td>\n",
       "    </tr>\n",
       "    <tr>\n",
       "      <th>True</th>\n",
       "      <td>79</td>\n",
       "      <td>0</td>\n",
       "    </tr>\n",
       "  </tbody>\n",
       "</table>\n",
       "</div>"
      ],
      "text/plain": [
       "euro_area_orig  EURO  NOT EURO\n",
       "euro_area                     \n",
       "False              0         2\n",
       "True              79         0"
      ]
     },
     "execution_count": 9,
     "metadata": {},
     "output_type": "execute_result"
    }
   ],
   "source": [
    "# Using our own custom function\n",
    "def iseuro(x):\n",
    "    if pd.isna(x):\n",
    "        return pd.NA\n",
    "    else:\n",
    "        if x == \"EURO\":\n",
    "            return True\n",
    "        else:\n",
    "            return False\n",
    "\n",
    "\n",
    "df[\"euro_area_orig\"] = df[\"euro_area\"]\n",
    "df[\"euro_area\"] = df[\"euro_area\"].apply(iseuro)\n",
    "pd.crosstab(df[\"euro_area\"], df[\"euro_area_orig\"])"
   ]
  },
  {
   "cell_type": "code",
   "execution_count": 10,
   "id": "8f5c9f4abf-1",
   "metadata": {},
   "outputs": [
    {
     "data": {
      "text/plain": [
       "np.int64(73)"
      ]
     },
     "execution_count": 10,
     "metadata": {},
     "output_type": "execute_result"
    }
   ],
   "source": [
    "df[\"euro_area\"].isna().sum()"
   ]
  },
  {
   "cell_type": "markdown",
   "id": "f5c0a4a43e",
   "metadata": {},
   "source": [
    "# 5. Bonus: The column *incomegroup_and_id* actually contains two pieces of information, the countries' income group name and the respective ids. The two pieces are separated with a \"|\" character. Create two separate columns: a string column (`object`) for the income group name and an `int` column for the id. Hint: you might consider the method `pandas.Series.str.split()`, see [https://pandas.pydata.org/docs/reference/api/pandas.Series.str.split.html](https://pandas.pydata.org/docs/reference/api/pandas.Series.str.split.html).\n"
   ]
  },
  {
   "cell_type": "code",
   "execution_count": 11,
   "id": "61c13df2c8",
   "metadata": {},
   "outputs": [
    {
     "data": {
      "text/plain": [
       "0    Lower middle income|3\n",
       "1    Lower middle income|3\n",
       "2            High income|1\n",
       "3            High income|1\n",
       "4            High income|1\n",
       "Name: incomegroup_and_id, dtype: object"
      ]
     },
     "execution_count": 11,
     "metadata": {},
     "output_type": "execute_result"
    }
   ],
   "source": [
    "df[\"incomegroup_and_id\"].head(5)"
   ]
  },
  {
   "cell_type": "code",
   "execution_count": 12,
   "id": "12b4ca6007",
   "metadata": {},
   "outputs": [
    {
     "data": {
      "text/html": [
       "<div>\n",
       "<style scoped>\n",
       "    .dataframe tbody tr th:only-of-type {\n",
       "        vertical-align: middle;\n",
       "    }\n",
       "\n",
       "    .dataframe tbody tr th {\n",
       "        vertical-align: top;\n",
       "    }\n",
       "\n",
       "    .dataframe thead th {\n",
       "        text-align: right;\n",
       "    }\n",
       "</style>\n",
       "<table border=\"1\" class=\"dataframe\">\n",
       "  <thead>\n",
       "    <tr style=\"text-align: right;\">\n",
       "      <th></th>\n",
       "      <th>incomegroup_and_id</th>\n",
       "      <th>income_group</th>\n",
       "      <th>income_group_id</th>\n",
       "    </tr>\n",
       "  </thead>\n",
       "  <tbody>\n",
       "    <tr>\n",
       "      <th>0</th>\n",
       "      <td>Lower middle income|3</td>\n",
       "      <td>Lower middle income</td>\n",
       "      <td>3</td>\n",
       "    </tr>\n",
       "    <tr>\n",
       "      <th>1</th>\n",
       "      <td>Lower middle income|3</td>\n",
       "      <td>Lower middle income</td>\n",
       "      <td>3</td>\n",
       "    </tr>\n",
       "    <tr>\n",
       "      <th>2</th>\n",
       "      <td>High income|1</td>\n",
       "      <td>High income</td>\n",
       "      <td>1</td>\n",
       "    </tr>\n",
       "    <tr>\n",
       "      <th>3</th>\n",
       "      <td>High income|1</td>\n",
       "      <td>High income</td>\n",
       "      <td>1</td>\n",
       "    </tr>\n",
       "    <tr>\n",
       "      <th>4</th>\n",
       "      <td>High income|1</td>\n",
       "      <td>High income</td>\n",
       "      <td>1</td>\n",
       "    </tr>\n",
       "  </tbody>\n",
       "</table>\n",
       "</div>"
      ],
      "text/plain": [
       "      incomegroup_and_id         income_group income_group_id\n",
       "0  Lower middle income|3  Lower middle income               3\n",
       "1  Lower middle income|3  Lower middle income               3\n",
       "2          High income|1          High income               1\n",
       "3          High income|1          High income               1\n",
       "4          High income|1          High income               1"
      ]
     },
     "execution_count": 12,
     "metadata": {},
     "output_type": "execute_result"
    }
   ],
   "source": [
    "df[[\"income_group\", \"income_group_id\"]] = df[\"incomegroup_and_id\"].str.split(\"|\", expand=True)\n",
    "df[[\"incomegroup_and_id\", \"income_group\", \"income_group_id\"]].head(5)"
   ]
  },
  {
   "cell_type": "code",
   "execution_count": 13,
   "id": "55d9eb4510",
   "metadata": {},
   "outputs": [
    {
     "name": "stdout",
     "output_type": "stream",
     "text": [
      "type of income_group_id before conversion: object\n",
      "type of income_group_id after conversion: int64\n"
     ]
    }
   ],
   "source": [
    "# finally, the id should be integer:\n",
    "print(f\"type of income_group_id before conversion: {df['income_group_id'].dtype}\")\n",
    "\n",
    "# convert:\n",
    "df[\"income_group_id\"] = df[\"income_group_id\"].astype(\"int\")\n",
    "print(f\"type of income_group_id after conversion: {df['income_group_id'].dtype}\")"
   ]
  }
 ],
 "metadata": {
  "jupytext": {
   "text_representation": {
    "extension": ".py",
    "format_name": "percent",
    "format_version": "1.3",
    "jupytext_version": "1.17.2"
   }
  },
  "kernelspec": {
   "display_name": "Python 3.8.3 64-bit ('venv': venv)",
   "language": "python",
   "name": "python3"
  },
  "language_info": {
   "codemirror_mode": {
    "name": "ipython",
    "version": 3
   },
   "file_extension": ".py",
   "mimetype": "text/x-python",
   "name": "python",
   "nbconvert_exporter": "python",
   "pygments_lexer": "ipython3",
   "version": "3.13.6"
  }
 },
 "nbformat": 4,
 "nbformat_minor": 5
}
