{
 "cells": [
  {
   "cell_type": "markdown",
   "id": "744aba6383",
   "metadata": {},
   "source": [
    "# Modifying DataFrames - Exercises"
   ]
  },
  {
   "cell_type": "markdown",
   "id": "5fa3002f70",
   "metadata": {},
   "source": [
    "# Preparations"
   ]
  },
  {
   "cell_type": "code",
   "execution_count": 1,
   "id": "6deb9d3fc5",
   "metadata": {},
   "outputs": [],
   "source": [
    "import pandas as pd\n",
    "\n",
    "pd.set_option(\"display.max_columns\", 500)"
   ]
  },
  {
   "cell_type": "markdown",
   "id": "fcb5aba6d6",
   "metadata": {},
   "source": [
    "# Exercise 1\n",
    "\n",
    "1. Load the file 'financial_data_intro.csv' into a `pd.DataFrame`.\n",
    "2. Replace *u_iso3* with \"UK\" for all rows that have *u_iso3* == \"GBR\".\n",
    "3. Convert *cb_naics* to data type `str`.\n",
    "4. Create a new column *industry_label* that takes the value \"special\" if *cb_naics* starts with \"6\", and \"normal\" otherwise.\n",
    "5. Replace *cb_ni* with `pd.NA` if *u_year* == 2005.\n",
    "6. Calculate a new column taking the value 1 if *cb_ni* is negative and 0 if *cb_ni* is >= 0.\n",
    "7. Bonus: Create a new column *industry_label_2* that takes the value True if *cb_naics* starts with \"6\", and False otherwise.\n",
    "8. Bonus: delete all numeric columns in-place.\n",
    "9. Bonus: convert the column *u_fye* to a `datetime` data type"
   ]
  },
  {
   "cell_type": "markdown",
   "id": "168494ba4b",
   "metadata": {},
   "source": [
    "## 1. Load the file 'financial_data_intro.csv' into a `pd.DataFrame`."
   ]
  },
  {
   "cell_type": "code",
   "execution_count": 2,
   "id": "bab9faa067",
   "metadata": {},
   "outputs": [
    {
     "data": {
      "text/html": [
       "<div>\n",
       "<style scoped>\n",
       "    .dataframe tbody tr th:only-of-type {\n",
       "        vertical-align: middle;\n",
       "    }\n",
       "\n",
       "    .dataframe tbody tr th {\n",
       "        vertical-align: top;\n",
       "    }\n",
       "\n",
       "    .dataframe thead th {\n",
       "        text-align: right;\n",
       "    }\n",
       "</style>\n",
       "<table border=\"1\" class=\"dataframe\">\n",
       "  <thead>\n",
       "    <tr style=\"text-align: right;\">\n",
       "      <th></th>\n",
       "      <th>u_company_name_id</th>\n",
       "      <th>u_year</th>\n",
       "      <th>u_company_name</th>\n",
       "      <th>cb_naics</th>\n",
       "      <th>u_iso3</th>\n",
       "      <th>u_fye</th>\n",
       "      <th>cb_cusip</th>\n",
       "      <th>cb_at</th>\n",
       "      <th>cb_ni</th>\n",
       "      <th>cb_financial_industry</th>\n",
       "    </tr>\n",
       "  </thead>\n",
       "  <tbody>\n",
       "    <tr>\n",
       "      <th>0</th>\n",
       "      <td>14651</td>\n",
       "      <td>2005</td>\n",
       "      <td>British American Tobacco PLC</td>\n",
       "      <td>312230</td>\n",
       "      <td>GBR</td>\n",
       "      <td>2005-12-31</td>\n",
       "      <td>110448107</td>\n",
       "      <td>32737.984</td>\n",
       "      <td>2707.110</td>\n",
       "      <td>False</td>\n",
       "    </tr>\n",
       "    <tr>\n",
       "      <th>1</th>\n",
       "      <td>14651</td>\n",
       "      <td>2006</td>\n",
       "      <td>British American Tobacco PLC</td>\n",
       "      <td>312230</td>\n",
       "      <td>GBR</td>\n",
       "      <td>2006-12-31</td>\n",
       "      <td>110448107</td>\n",
       "      <td>34816.074</td>\n",
       "      <td>3713.506</td>\n",
       "      <td>False</td>\n",
       "    </tr>\n",
       "    <tr>\n",
       "      <th>2</th>\n",
       "      <td>14651</td>\n",
       "      <td>2007</td>\n",
       "      <td>British American Tobacco PLC</td>\n",
       "      <td>312230</td>\n",
       "      <td>GBR</td>\n",
       "      <td>2007-12-31</td>\n",
       "      <td>110448107</td>\n",
       "      <td>37161.970</td>\n",
       "      <td>4226.559</td>\n",
       "      <td>False</td>\n",
       "    </tr>\n",
       "    <tr>\n",
       "      <th>3</th>\n",
       "      <td>14651</td>\n",
       "      <td>2008</td>\n",
       "      <td>British American Tobacco PLC</td>\n",
       "      <td>312230</td>\n",
       "      <td>GBR</td>\n",
       "      <td>2008-12-31</td>\n",
       "      <td>110448107</td>\n",
       "      <td>40276.807</td>\n",
       "      <td>3591.888</td>\n",
       "      <td>False</td>\n",
       "    </tr>\n",
       "    <tr>\n",
       "      <th>4</th>\n",
       "      <td>14651</td>\n",
       "      <td>2009</td>\n",
       "      <td>British American Tobacco PLC</td>\n",
       "      <td>312230</td>\n",
       "      <td>GBR</td>\n",
       "      <td>2009-12-31</td>\n",
       "      <td>110448107</td>\n",
       "      <td>43026.854</td>\n",
       "      <td>4386.107</td>\n",
       "      <td>False</td>\n",
       "    </tr>\n",
       "  </tbody>\n",
       "</table>\n",
       "</div>"
      ],
      "text/plain": [
       "   u_company_name_id  u_year                u_company_name  cb_naics u_iso3  \\\n",
       "0              14651    2005  British American Tobacco PLC    312230    GBR   \n",
       "1              14651    2006  British American Tobacco PLC    312230    GBR   \n",
       "2              14651    2007  British American Tobacco PLC    312230    GBR   \n",
       "3              14651    2008  British American Tobacco PLC    312230    GBR   \n",
       "4              14651    2009  British American Tobacco PLC    312230    GBR   \n",
       "\n",
       "        u_fye   cb_cusip      cb_at     cb_ni  cb_financial_industry  \n",
       "0  2005-12-31  110448107  32737.984  2707.110                  False  \n",
       "1  2006-12-31  110448107  34816.074  3713.506                  False  \n",
       "2  2007-12-31  110448107  37161.970  4226.559                  False  \n",
       "3  2008-12-31  110448107  40276.807  3591.888                  False  \n",
       "4  2009-12-31  110448107  43026.854  4386.107                  False  "
      ]
     },
     "execution_count": 2,
     "metadata": {},
     "output_type": "execute_result"
    }
   ],
   "source": [
    "# load the following tab-separated text file\n",
    "df = pd.read_csv(\"../../data/raw/financial_data_intro.csv\")\n",
    "df.head()"
   ]
  },
  {
   "cell_type": "markdown",
   "id": "0a9b7e5db0",
   "metadata": {},
   "source": [
    "## 2. Replace *u_iso3* with \"UK\" for all rows that have *u_iso3* == \"GBR\"."
   ]
  },
  {
   "cell_type": "code",
   "execution_count": 3,
   "id": "ab041e1799",
   "metadata": {},
   "outputs": [
    {
     "data": {
      "text/html": [
       "<div>\n",
       "<style scoped>\n",
       "    .dataframe tbody tr th:only-of-type {\n",
       "        vertical-align: middle;\n",
       "    }\n",
       "\n",
       "    .dataframe tbody tr th {\n",
       "        vertical-align: top;\n",
       "    }\n",
       "\n",
       "    .dataframe thead th {\n",
       "        text-align: right;\n",
       "    }\n",
       "</style>\n",
       "<table border=\"1\" class=\"dataframe\">\n",
       "  <thead>\n",
       "    <tr style=\"text-align: right;\">\n",
       "      <th></th>\n",
       "      <th>u_company_name_id</th>\n",
       "      <th>u_year</th>\n",
       "      <th>u_company_name</th>\n",
       "      <th>cb_naics</th>\n",
       "      <th>u_iso3</th>\n",
       "      <th>u_fye</th>\n",
       "      <th>cb_cusip</th>\n",
       "      <th>cb_at</th>\n",
       "      <th>cb_ni</th>\n",
       "      <th>cb_financial_industry</th>\n",
       "    </tr>\n",
       "  </thead>\n",
       "  <tbody>\n",
       "    <tr>\n",
       "      <th>0</th>\n",
       "      <td>14651</td>\n",
       "      <td>2005</td>\n",
       "      <td>British American Tobacco PLC</td>\n",
       "      <td>312230</td>\n",
       "      <td>UK</td>\n",
       "      <td>2005-12-31</td>\n",
       "      <td>110448107</td>\n",
       "      <td>32737.984</td>\n",
       "      <td>2707.110</td>\n",
       "      <td>False</td>\n",
       "    </tr>\n",
       "    <tr>\n",
       "      <th>1</th>\n",
       "      <td>14651</td>\n",
       "      <td>2006</td>\n",
       "      <td>British American Tobacco PLC</td>\n",
       "      <td>312230</td>\n",
       "      <td>UK</td>\n",
       "      <td>2006-12-31</td>\n",
       "      <td>110448107</td>\n",
       "      <td>34816.074</td>\n",
       "      <td>3713.506</td>\n",
       "      <td>False</td>\n",
       "    </tr>\n",
       "    <tr>\n",
       "      <th>2</th>\n",
       "      <td>14651</td>\n",
       "      <td>2007</td>\n",
       "      <td>British American Tobacco PLC</td>\n",
       "      <td>312230</td>\n",
       "      <td>UK</td>\n",
       "      <td>2007-12-31</td>\n",
       "      <td>110448107</td>\n",
       "      <td>37161.970</td>\n",
       "      <td>4226.559</td>\n",
       "      <td>False</td>\n",
       "    </tr>\n",
       "    <tr>\n",
       "      <th>3</th>\n",
       "      <td>14651</td>\n",
       "      <td>2008</td>\n",
       "      <td>British American Tobacco PLC</td>\n",
       "      <td>312230</td>\n",
       "      <td>UK</td>\n",
       "      <td>2008-12-31</td>\n",
       "      <td>110448107</td>\n",
       "      <td>40276.807</td>\n",
       "      <td>3591.888</td>\n",
       "      <td>False</td>\n",
       "    </tr>\n",
       "  </tbody>\n",
       "</table>\n",
       "</div>"
      ],
      "text/plain": [
       "   u_company_name_id  u_year                u_company_name  cb_naics u_iso3  \\\n",
       "0              14651    2005  British American Tobacco PLC    312230     UK   \n",
       "1              14651    2006  British American Tobacco PLC    312230     UK   \n",
       "2              14651    2007  British American Tobacco PLC    312230     UK   \n",
       "3              14651    2008  British American Tobacco PLC    312230     UK   \n",
       "\n",
       "        u_fye   cb_cusip      cb_at     cb_ni  cb_financial_industry  \n",
       "0  2005-12-31  110448107  32737.984  2707.110                  False  \n",
       "1  2006-12-31  110448107  34816.074  3713.506                  False  \n",
       "2  2007-12-31  110448107  37161.970  4226.559                  False  \n",
       "3  2008-12-31  110448107  40276.807  3591.888                  False  "
      ]
     },
     "execution_count": 3,
     "metadata": {},
     "output_type": "execute_result"
    }
   ],
   "source": [
    "df.loc[df[\"u_iso3\"] == \"GBR\", \"u_iso3\"] = \"UK\"\n",
    "df.head(4)"
   ]
  },
  {
   "cell_type": "markdown",
   "id": "38e6e82ca6",
   "metadata": {},
   "source": [
    "## 3. Convert *cb_naics* to data type `str`."
   ]
  },
  {
   "cell_type": "code",
   "execution_count": 4,
   "id": "bde9abbc5a",
   "metadata": {},
   "outputs": [
    {
     "name": "stdout",
     "output_type": "stream",
     "text": [
      "<class 'pandas.core.frame.DataFrame'>\n",
      "RangeIndex: 824 entries, 0 to 823\n",
      "Data columns (total 10 columns):\n",
      " #   Column                 Non-Null Count  Dtype  \n",
      "---  ------                 --------------  -----  \n",
      " 0   u_company_name_id      824 non-null    int64  \n",
      " 1   u_year                 824 non-null    int64  \n",
      " 2   u_company_name         824 non-null    object \n",
      " 3   cb_naics               824 non-null    object \n",
      " 4   u_iso3                 824 non-null    object \n",
      " 5   u_fye                  824 non-null    object \n",
      " 6   cb_cusip               824 non-null    object \n",
      " 7   cb_at                  824 non-null    float64\n",
      " 8   cb_ni                  824 non-null    float64\n",
      " 9   cb_financial_industry  824 non-null    bool   \n",
      "dtypes: bool(1), float64(2), int64(2), object(5)\n",
      "memory usage: 58.9+ KB\n"
     ]
    }
   ],
   "source": [
    "df[\"cb_naics\"] = df[\"cb_naics\"].astype(\"str\")\n",
    "df.info()"
   ]
  },
  {
   "cell_type": "markdown",
   "id": "08a3e78397",
   "metadata": {},
   "source": [
    "## 4. Create a new column *industry_label* that takes the value \"special\" if *cb_naics* starts with \"6\", and \"normal\" otherwise."
   ]
  },
  {
   "cell_type": "code",
   "execution_count": 5,
   "id": "3fbf1242aa",
   "metadata": {},
   "outputs": [
    {
     "data": {
      "text/html": [
       "<div>\n",
       "<style scoped>\n",
       "    .dataframe tbody tr th:only-of-type {\n",
       "        vertical-align: middle;\n",
       "    }\n",
       "\n",
       "    .dataframe tbody tr th {\n",
       "        vertical-align: top;\n",
       "    }\n",
       "\n",
       "    .dataframe thead th {\n",
       "        text-align: right;\n",
       "    }\n",
       "</style>\n",
       "<table border=\"1\" class=\"dataframe\">\n",
       "  <thead>\n",
       "    <tr style=\"text-align: right;\">\n",
       "      <th>industry_label</th>\n",
       "      <th>normal</th>\n",
       "      <th>special</th>\n",
       "    </tr>\n",
       "    <tr>\n",
       "      <th>cb_naics</th>\n",
       "      <th></th>\n",
       "      <th></th>\n",
       "    </tr>\n",
       "  </thead>\n",
       "  <tbody>\n",
       "    <tr>\n",
       "      <th>533110</th>\n",
       "      <td>26</td>\n",
       "      <td>0</td>\n",
       "    </tr>\n",
       "    <tr>\n",
       "      <th>541360</th>\n",
       "      <td>15</td>\n",
       "      <td>0</td>\n",
       "    </tr>\n",
       "    <tr>\n",
       "      <th>541810</th>\n",
       "      <td>14</td>\n",
       "      <td>0</td>\n",
       "    </tr>\n",
       "    <tr>\n",
       "      <th>611420</th>\n",
       "      <td>0</td>\n",
       "      <td>14</td>\n",
       "    </tr>\n",
       "    <tr>\n",
       "      <th>621492</th>\n",
       "      <td>0</td>\n",
       "      <td>14</td>\n",
       "    </tr>\n",
       "    <tr>\n",
       "      <th>621999</th>\n",
       "      <td>0</td>\n",
       "      <td>15</td>\n",
       "    </tr>\n",
       "    <tr>\n",
       "      <th>722310</th>\n",
       "      <td>15</td>\n",
       "      <td>0</td>\n",
       "    </tr>\n",
       "    <tr>\n",
       "      <th>999977</th>\n",
       "      <td>14</td>\n",
       "      <td>0</td>\n",
       "    </tr>\n",
       "  </tbody>\n",
       "</table>\n",
       "</div>"
      ],
      "text/plain": [
       "industry_label  normal  special\n",
       "cb_naics                       \n",
       "533110              26        0\n",
       "541360              15        0\n",
       "541810              14        0\n",
       "611420               0       14\n",
       "621492               0       14\n",
       "621999               0       15\n",
       "722310              15        0\n",
       "999977              14        0"
      ]
     },
     "execution_count": 5,
     "metadata": {},
     "output_type": "execute_result"
    }
   ],
   "source": [
    "df[\"industry_label\"] = \"normal\"\n",
    "df.loc[df[\"cb_naics\"].str.startswith(\"6\"), \"industry_label\"] = \"special\"\n",
    "pd.crosstab(df[\"cb_naics\"], df[\"industry_label\"]).tail(8)"
   ]
  },
  {
   "cell_type": "markdown",
   "id": "d8be683055",
   "metadata": {},
   "source": [
    "## 5. Replace *cb_ni* with `pd.NA` if *u_year* == 2005."
   ]
  },
  {
   "cell_type": "code",
   "execution_count": 6,
   "id": "7ff77e8bc4",
   "metadata": {},
   "outputs": [
    {
     "data": {
      "text/html": [
       "<div>\n",
       "<style scoped>\n",
       "    .dataframe tbody tr th:only-of-type {\n",
       "        vertical-align: middle;\n",
       "    }\n",
       "\n",
       "    .dataframe tbody tr th {\n",
       "        vertical-align: top;\n",
       "    }\n",
       "\n",
       "    .dataframe thead th {\n",
       "        text-align: right;\n",
       "    }\n",
       "</style>\n",
       "<table border=\"1\" class=\"dataframe\">\n",
       "  <thead>\n",
       "    <tr style=\"text-align: right;\">\n",
       "      <th></th>\n",
       "      <th>u_company_name_id</th>\n",
       "      <th>u_year</th>\n",
       "      <th>u_company_name</th>\n",
       "      <th>cb_naics</th>\n",
       "      <th>u_iso3</th>\n",
       "      <th>u_fye</th>\n",
       "      <th>cb_cusip</th>\n",
       "      <th>cb_at</th>\n",
       "      <th>cb_ni</th>\n",
       "      <th>cb_financial_industry</th>\n",
       "      <th>industry_label</th>\n",
       "    </tr>\n",
       "  </thead>\n",
       "  <tbody>\n",
       "    <tr>\n",
       "      <th>0</th>\n",
       "      <td>14651</td>\n",
       "      <td>2005</td>\n",
       "      <td>British American Tobacco PLC</td>\n",
       "      <td>312230</td>\n",
       "      <td>UK</td>\n",
       "      <td>2005-12-31</td>\n",
       "      <td>110448107</td>\n",
       "      <td>32737.984</td>\n",
       "      <td>NaN</td>\n",
       "      <td>False</td>\n",
       "      <td>normal</td>\n",
       "    </tr>\n",
       "    <tr>\n",
       "      <th>1</th>\n",
       "      <td>14651</td>\n",
       "      <td>2006</td>\n",
       "      <td>British American Tobacco PLC</td>\n",
       "      <td>312230</td>\n",
       "      <td>UK</td>\n",
       "      <td>2006-12-31</td>\n",
       "      <td>110448107</td>\n",
       "      <td>34816.074</td>\n",
       "      <td>3713.506</td>\n",
       "      <td>False</td>\n",
       "      <td>normal</td>\n",
       "    </tr>\n",
       "    <tr>\n",
       "      <th>2</th>\n",
       "      <td>14651</td>\n",
       "      <td>2007</td>\n",
       "      <td>British American Tobacco PLC</td>\n",
       "      <td>312230</td>\n",
       "      <td>UK</td>\n",
       "      <td>2007-12-31</td>\n",
       "      <td>110448107</td>\n",
       "      <td>37161.970</td>\n",
       "      <td>4226.559</td>\n",
       "      <td>False</td>\n",
       "      <td>normal</td>\n",
       "    </tr>\n",
       "  </tbody>\n",
       "</table>\n",
       "</div>"
      ],
      "text/plain": [
       "   u_company_name_id  u_year                u_company_name cb_naics u_iso3  \\\n",
       "0              14651    2005  British American Tobacco PLC   312230     UK   \n",
       "1              14651    2006  British American Tobacco PLC   312230     UK   \n",
       "2              14651    2007  British American Tobacco PLC   312230     UK   \n",
       "\n",
       "        u_fye   cb_cusip      cb_at     cb_ni  cb_financial_industry  \\\n",
       "0  2005-12-31  110448107  32737.984       NaN                  False   \n",
       "1  2006-12-31  110448107  34816.074  3713.506                  False   \n",
       "2  2007-12-31  110448107  37161.970  4226.559                  False   \n",
       "\n",
       "  industry_label  \n",
       "0         normal  \n",
       "1         normal  \n",
       "2         normal  "
      ]
     },
     "execution_count": 6,
     "metadata": {},
     "output_type": "execute_result"
    }
   ],
   "source": [
    "df.loc[df[\"u_year\"] == 2005, \"cb_ni\"] = pd.NA\n",
    "df.head(3)"
   ]
  },
  {
   "cell_type": "markdown",
   "id": "d5747bd818",
   "metadata": {},
   "source": [
    "## 6. Calculate a new column taking the value 1 if *cb_ni* is negative and 0 if *cb_ni* is >= 0."
   ]
  },
  {
   "cell_type": "code",
   "execution_count": 7,
   "id": "c9a68323c5",
   "metadata": {},
   "outputs": [
    {
     "data": {
      "text/html": [
       "<div>\n",
       "<style scoped>\n",
       "    .dataframe tbody tr th:only-of-type {\n",
       "        vertical-align: middle;\n",
       "    }\n",
       "\n",
       "    .dataframe tbody tr th {\n",
       "        vertical-align: top;\n",
       "    }\n",
       "\n",
       "    .dataframe thead th {\n",
       "        text-align: right;\n",
       "    }\n",
       "</style>\n",
       "<table border=\"1\" class=\"dataframe\">\n",
       "  <thead>\n",
       "    <tr style=\"text-align: right;\">\n",
       "      <th></th>\n",
       "      <th>u_company_name_id</th>\n",
       "      <th>u_year</th>\n",
       "      <th>u_company_name</th>\n",
       "      <th>cb_naics</th>\n",
       "      <th>u_iso3</th>\n",
       "      <th>u_fye</th>\n",
       "      <th>cb_cusip</th>\n",
       "      <th>cb_at</th>\n",
       "      <th>cb_ni</th>\n",
       "      <th>cb_financial_industry</th>\n",
       "      <th>industry_label</th>\n",
       "      <th>cb_ni_negative</th>\n",
       "    </tr>\n",
       "  </thead>\n",
       "  <tbody>\n",
       "    <tr>\n",
       "      <th>0</th>\n",
       "      <td>14651</td>\n",
       "      <td>2005</td>\n",
       "      <td>British American Tobacco PLC</td>\n",
       "      <td>312230</td>\n",
       "      <td>UK</td>\n",
       "      <td>2005-12-31</td>\n",
       "      <td>110448107</td>\n",
       "      <td>32737.984</td>\n",
       "      <td>NaN</td>\n",
       "      <td>False</td>\n",
       "      <td>normal</td>\n",
       "      <td>0</td>\n",
       "    </tr>\n",
       "    <tr>\n",
       "      <th>1</th>\n",
       "      <td>14651</td>\n",
       "      <td>2006</td>\n",
       "      <td>British American Tobacco PLC</td>\n",
       "      <td>312230</td>\n",
       "      <td>UK</td>\n",
       "      <td>2006-12-31</td>\n",
       "      <td>110448107</td>\n",
       "      <td>34816.074</td>\n",
       "      <td>3713.506</td>\n",
       "      <td>False</td>\n",
       "      <td>normal</td>\n",
       "      <td>0</td>\n",
       "    </tr>\n",
       "    <tr>\n",
       "      <th>2</th>\n",
       "      <td>14651</td>\n",
       "      <td>2007</td>\n",
       "      <td>British American Tobacco PLC</td>\n",
       "      <td>312230</td>\n",
       "      <td>UK</td>\n",
       "      <td>2007-12-31</td>\n",
       "      <td>110448107</td>\n",
       "      <td>37161.970</td>\n",
       "      <td>4226.559</td>\n",
       "      <td>False</td>\n",
       "      <td>normal</td>\n",
       "      <td>0</td>\n",
       "    </tr>\n",
       "  </tbody>\n",
       "</table>\n",
       "</div>"
      ],
      "text/plain": [
       "   u_company_name_id  u_year                u_company_name cb_naics u_iso3  \\\n",
       "0              14651    2005  British American Tobacco PLC   312230     UK   \n",
       "1              14651    2006  British American Tobacco PLC   312230     UK   \n",
       "2              14651    2007  British American Tobacco PLC   312230     UK   \n",
       "\n",
       "        u_fye   cb_cusip      cb_at     cb_ni  cb_financial_industry  \\\n",
       "0  2005-12-31  110448107  32737.984       NaN                  False   \n",
       "1  2006-12-31  110448107  34816.074  3713.506                  False   \n",
       "2  2007-12-31  110448107  37161.970  4226.559                  False   \n",
       "\n",
       "  industry_label  cb_ni_negative  \n",
       "0         normal               0  \n",
       "1         normal               0  \n",
       "2         normal               0  "
      ]
     },
     "execution_count": 7,
     "metadata": {},
     "output_type": "execute_result"
    }
   ],
   "source": [
    "df[\"cb_ni_negative\"] = (df[\"cb_ni\"] < 0) * 1\n",
    "df.head(3)"
   ]
  },
  {
   "cell_type": "code",
   "execution_count": 8,
   "id": "9ddcaf6030",
   "metadata": {},
   "outputs": [
    {
     "data": {
      "text/html": [
       "<div>\n",
       "<style scoped>\n",
       "    .dataframe tbody tr th:only-of-type {\n",
       "        vertical-align: middle;\n",
       "    }\n",
       "\n",
       "    .dataframe tbody tr th {\n",
       "        vertical-align: top;\n",
       "    }\n",
       "\n",
       "    .dataframe thead th {\n",
       "        text-align: right;\n",
       "    }\n",
       "</style>\n",
       "<table border=\"1\" class=\"dataframe\">\n",
       "  <thead>\n",
       "    <tr style=\"text-align: right;\">\n",
       "      <th></th>\n",
       "      <th>u_company_name_id</th>\n",
       "      <th>u_year</th>\n",
       "      <th>u_company_name</th>\n",
       "      <th>cb_naics</th>\n",
       "      <th>u_iso3</th>\n",
       "      <th>u_fye</th>\n",
       "      <th>cb_cusip</th>\n",
       "      <th>cb_at</th>\n",
       "      <th>cb_ni</th>\n",
       "      <th>cb_financial_industry</th>\n",
       "      <th>industry_label</th>\n",
       "      <th>cb_ni_negative</th>\n",
       "    </tr>\n",
       "  </thead>\n",
       "  <tbody>\n",
       "    <tr>\n",
       "      <th>0</th>\n",
       "      <td>14651</td>\n",
       "      <td>2005</td>\n",
       "      <td>British American Tobacco PLC</td>\n",
       "      <td>312230</td>\n",
       "      <td>UK</td>\n",
       "      <td>2005-12-31</td>\n",
       "      <td>110448107</td>\n",
       "      <td>32737.984</td>\n",
       "      <td>NaN</td>\n",
       "      <td>False</td>\n",
       "      <td>normal</td>\n",
       "      <td>NaN</td>\n",
       "    </tr>\n",
       "    <tr>\n",
       "      <th>1</th>\n",
       "      <td>14651</td>\n",
       "      <td>2006</td>\n",
       "      <td>British American Tobacco PLC</td>\n",
       "      <td>312230</td>\n",
       "      <td>UK</td>\n",
       "      <td>2006-12-31</td>\n",
       "      <td>110448107</td>\n",
       "      <td>34816.074</td>\n",
       "      <td>3713.506</td>\n",
       "      <td>False</td>\n",
       "      <td>normal</td>\n",
       "      <td>0.0</td>\n",
       "    </tr>\n",
       "    <tr>\n",
       "      <th>2</th>\n",
       "      <td>14651</td>\n",
       "      <td>2007</td>\n",
       "      <td>British American Tobacco PLC</td>\n",
       "      <td>312230</td>\n",
       "      <td>UK</td>\n",
       "      <td>2007-12-31</td>\n",
       "      <td>110448107</td>\n",
       "      <td>37161.970</td>\n",
       "      <td>4226.559</td>\n",
       "      <td>False</td>\n",
       "      <td>normal</td>\n",
       "      <td>0.0</td>\n",
       "    </tr>\n",
       "  </tbody>\n",
       "</table>\n",
       "</div>"
      ],
      "text/plain": [
       "   u_company_name_id  u_year                u_company_name cb_naics u_iso3  \\\n",
       "0              14651    2005  British American Tobacco PLC   312230     UK   \n",
       "1              14651    2006  British American Tobacco PLC   312230     UK   \n",
       "2              14651    2007  British American Tobacco PLC   312230     UK   \n",
       "\n",
       "        u_fye   cb_cusip      cb_at     cb_ni  cb_financial_industry  \\\n",
       "0  2005-12-31  110448107  32737.984       NaN                  False   \n",
       "1  2006-12-31  110448107  34816.074  3713.506                  False   \n",
       "2  2007-12-31  110448107  37161.970  4226.559                  False   \n",
       "\n",
       "  industry_label  cb_ni_negative  \n",
       "0         normal             NaN  \n",
       "1         normal             0.0  \n",
       "2         normal             0.0  "
      ]
     },
     "execution_count": 8,
     "metadata": {},
     "output_type": "execute_result"
    }
   ],
   "source": [
    "# Ensure that NA in cb_ni is also NA in this new column:\n",
    "df.loc[df[\"cb_ni\"].isna(), \"cb_ni_negative\"] = pd.NA\n",
    "df.head(3)"
   ]
  },
  {
   "cell_type": "markdown",
   "id": "4fe178e185",
   "metadata": {},
   "source": [
    "## 7. Bonus: Create a new column *industry_label_2* that takes the value True if *cb_naics* starts with \"6\", and False otherwise."
   ]
  },
  {
   "cell_type": "code",
   "execution_count": 9,
   "id": "0c9aba802b",
   "metadata": {},
   "outputs": [
    {
     "data": {
      "text/html": [
       "<div>\n",
       "<style scoped>\n",
       "    .dataframe tbody tr th:only-of-type {\n",
       "        vertical-align: middle;\n",
       "    }\n",
       "\n",
       "    .dataframe tbody tr th {\n",
       "        vertical-align: top;\n",
       "    }\n",
       "\n",
       "    .dataframe thead th {\n",
       "        text-align: right;\n",
       "    }\n",
       "</style>\n",
       "<table border=\"1\" class=\"dataframe\">\n",
       "  <thead>\n",
       "    <tr style=\"text-align: right;\">\n",
       "      <th></th>\n",
       "      <th>u_company_name_id</th>\n",
       "      <th>u_year</th>\n",
       "      <th>u_company_name</th>\n",
       "      <th>cb_naics</th>\n",
       "      <th>u_iso3</th>\n",
       "      <th>u_fye</th>\n",
       "      <th>cb_cusip</th>\n",
       "      <th>cb_at</th>\n",
       "      <th>cb_ni</th>\n",
       "      <th>cb_financial_industry</th>\n",
       "      <th>industry_label</th>\n",
       "      <th>cb_ni_negative</th>\n",
       "      <th>industry_label2</th>\n",
       "    </tr>\n",
       "  </thead>\n",
       "  <tbody>\n",
       "    <tr>\n",
       "      <th>0</th>\n",
       "      <td>14651</td>\n",
       "      <td>2005</td>\n",
       "      <td>British American Tobacco PLC</td>\n",
       "      <td>312230</td>\n",
       "      <td>UK</td>\n",
       "      <td>2005-12-31</td>\n",
       "      <td>110448107</td>\n",
       "      <td>32737.984</td>\n",
       "      <td>NaN</td>\n",
       "      <td>False</td>\n",
       "      <td>normal</td>\n",
       "      <td>NaN</td>\n",
       "      <td>False</td>\n",
       "    </tr>\n",
       "    <tr>\n",
       "      <th>1</th>\n",
       "      <td>14651</td>\n",
       "      <td>2006</td>\n",
       "      <td>British American Tobacco PLC</td>\n",
       "      <td>312230</td>\n",
       "      <td>UK</td>\n",
       "      <td>2006-12-31</td>\n",
       "      <td>110448107</td>\n",
       "      <td>34816.074</td>\n",
       "      <td>3713.506</td>\n",
       "      <td>False</td>\n",
       "      <td>normal</td>\n",
       "      <td>0.0</td>\n",
       "      <td>False</td>\n",
       "    </tr>\n",
       "    <tr>\n",
       "      <th>2</th>\n",
       "      <td>14651</td>\n",
       "      <td>2007</td>\n",
       "      <td>British American Tobacco PLC</td>\n",
       "      <td>312230</td>\n",
       "      <td>UK</td>\n",
       "      <td>2007-12-31</td>\n",
       "      <td>110448107</td>\n",
       "      <td>37161.970</td>\n",
       "      <td>4226.559</td>\n",
       "      <td>False</td>\n",
       "      <td>normal</td>\n",
       "      <td>0.0</td>\n",
       "      <td>False</td>\n",
       "    </tr>\n",
       "  </tbody>\n",
       "</table>\n",
       "</div>"
      ],
      "text/plain": [
       "   u_company_name_id  u_year                u_company_name cb_naics u_iso3  \\\n",
       "0              14651    2005  British American Tobacco PLC   312230     UK   \n",
       "1              14651    2006  British American Tobacco PLC   312230     UK   \n",
       "2              14651    2007  British American Tobacco PLC   312230     UK   \n",
       "\n",
       "        u_fye   cb_cusip      cb_at     cb_ni  cb_financial_industry  \\\n",
       "0  2005-12-31  110448107  32737.984       NaN                  False   \n",
       "1  2006-12-31  110448107  34816.074  3713.506                  False   \n",
       "2  2007-12-31  110448107  37161.970  4226.559                  False   \n",
       "\n",
       "  industry_label  cb_ni_negative  industry_label2  \n",
       "0         normal             NaN            False  \n",
       "1         normal             0.0            False  \n",
       "2         normal             0.0            False  "
      ]
     },
     "execution_count": 9,
     "metadata": {},
     "output_type": "execute_result"
    }
   ],
   "source": [
    "df[\"industry_label2\"] = df[\"cb_naics\"].str.startswith(\"6\")\n",
    "df.head(3)"
   ]
  },
  {
   "cell_type": "markdown",
   "id": "699ee8db36",
   "metadata": {},
   "source": [
    "## 8. Bonus: delete all numeric columns"
   ]
  },
  {
   "cell_type": "code",
   "execution_count": 10,
   "id": "8bee6d3526",
   "metadata": {},
   "outputs": [
    {
     "name": "stdout",
     "output_type": "stream",
     "text": [
      "<class 'pandas.core.frame.DataFrame'>\n",
      "RangeIndex: 824 entries, 0 to 823\n",
      "Data columns (total 8 columns):\n",
      " #   Column                 Non-Null Count  Dtype \n",
      "---  ------                 --------------  ----- \n",
      " 0   u_company_name         824 non-null    object\n",
      " 1   cb_naics               824 non-null    object\n",
      " 2   u_iso3                 824 non-null    object\n",
      " 3   u_fye                  824 non-null    object\n",
      " 4   cb_cusip               824 non-null    object\n",
      " 5   cb_financial_industry  824 non-null    bool  \n",
      " 6   industry_label         824 non-null    object\n",
      " 7   industry_label2        824 non-null    bool  \n",
      "dtypes: bool(2), object(6)\n",
      "memory usage: 40.4+ KB\n"
     ]
    }
   ],
   "source": [
    "df = df.drop(columns=df.select_dtypes([\"int\", \"float\"]).columns)\n",
    "df.info()"
   ]
  },
  {
   "cell_type": "markdown",
   "id": "e85e05fb1b",
   "metadata": {},
   "source": [
    "## 9. Bonus: convert the column *u_fye* to a `datetime` data type"
   ]
  },
  {
   "cell_type": "code",
   "execution_count": 11,
   "id": "22a28add25",
   "metadata": {},
   "outputs": [
    {
     "data": {
      "text/html": [
       "<div>\n",
       "<style scoped>\n",
       "    .dataframe tbody tr th:only-of-type {\n",
       "        vertical-align: middle;\n",
       "    }\n",
       "\n",
       "    .dataframe tbody tr th {\n",
       "        vertical-align: top;\n",
       "    }\n",
       "\n",
       "    .dataframe thead th {\n",
       "        text-align: right;\n",
       "    }\n",
       "</style>\n",
       "<table border=\"1\" class=\"dataframe\">\n",
       "  <thead>\n",
       "    <tr style=\"text-align: right;\">\n",
       "      <th></th>\n",
       "      <th>u_company_name</th>\n",
       "      <th>cb_naics</th>\n",
       "      <th>u_iso3</th>\n",
       "      <th>u_fye</th>\n",
       "      <th>cb_cusip</th>\n",
       "      <th>cb_financial_industry</th>\n",
       "      <th>industry_label</th>\n",
       "      <th>industry_label2</th>\n",
       "    </tr>\n",
       "  </thead>\n",
       "  <tbody>\n",
       "    <tr>\n",
       "      <th>0</th>\n",
       "      <td>British American Tobacco PLC</td>\n",
       "      <td>312230</td>\n",
       "      <td>UK</td>\n",
       "      <td>2005-12-31</td>\n",
       "      <td>110448107</td>\n",
       "      <td>False</td>\n",
       "      <td>normal</td>\n",
       "      <td>False</td>\n",
       "    </tr>\n",
       "    <tr>\n",
       "      <th>1</th>\n",
       "      <td>British American Tobacco PLC</td>\n",
       "      <td>312230</td>\n",
       "      <td>UK</td>\n",
       "      <td>2006-12-31</td>\n",
       "      <td>110448107</td>\n",
       "      <td>False</td>\n",
       "      <td>normal</td>\n",
       "      <td>False</td>\n",
       "    </tr>\n",
       "    <tr>\n",
       "      <th>2</th>\n",
       "      <td>British American Tobacco PLC</td>\n",
       "      <td>312230</td>\n",
       "      <td>UK</td>\n",
       "      <td>2007-12-31</td>\n",
       "      <td>110448107</td>\n",
       "      <td>False</td>\n",
       "      <td>normal</td>\n",
       "      <td>False</td>\n",
       "    </tr>\n",
       "  </tbody>\n",
       "</table>\n",
       "</div>"
      ],
      "text/plain": [
       "                 u_company_name cb_naics u_iso3      u_fye   cb_cusip  \\\n",
       "0  British American Tobacco PLC   312230     UK 2005-12-31  110448107   \n",
       "1  British American Tobacco PLC   312230     UK 2006-12-31  110448107   \n",
       "2  British American Tobacco PLC   312230     UK 2007-12-31  110448107   \n",
       "\n",
       "   cb_financial_industry industry_label  industry_label2  \n",
       "0                  False         normal            False  \n",
       "1                  False         normal            False  \n",
       "2                  False         normal            False  "
      ]
     },
     "execution_count": 11,
     "metadata": {},
     "output_type": "execute_result"
    }
   ],
   "source": [
    "df[\"u_fye\"] = pd.to_datetime(df[\"u_fye\"])\n",
    "df.head(3)"
   ]
  },
  {
   "cell_type": "code",
   "execution_count": 12,
   "id": "b5486a9daf",
   "metadata": {},
   "outputs": [
    {
     "name": "stdout",
     "output_type": "stream",
     "text": [
      "<class 'pandas.core.frame.DataFrame'>\n",
      "RangeIndex: 824 entries, 0 to 823\n",
      "Data columns (total 8 columns):\n",
      " #   Column                 Non-Null Count  Dtype         \n",
      "---  ------                 --------------  -----         \n",
      " 0   u_company_name         824 non-null    object        \n",
      " 1   cb_naics               824 non-null    object        \n",
      " 2   u_iso3                 824 non-null    object        \n",
      " 3   u_fye                  824 non-null    datetime64[ns]\n",
      " 4   cb_cusip               824 non-null    object        \n",
      " 5   cb_financial_industry  824 non-null    bool          \n",
      " 6   industry_label         824 non-null    object        \n",
      " 7   industry_label2        824 non-null    bool          \n",
      "dtypes: bool(2), datetime64[ns](1), object(5)\n",
      "memory usage: 40.4+ KB\n"
     ]
    }
   ],
   "source": [
    "df.info()"
   ]
  },
  {
   "cell_type": "markdown",
   "id": "7c182dba3f",
   "metadata": {},
   "source": [
    "# Exercise 2\n",
    "\n",
    "1. Load the file 'bank-additional-full.csv' into a `pd.DataFrame`.\n",
    "2. Rename the column 'y' to 'target'.\n",
    "3. Drop the column 'duration'.\n",
    "4. Give all other columns the prefix 'feature_'.\n",
    "5. Replace the value 999 in column 'pdays' with `pd.NA`."
   ]
  },
  {
   "cell_type": "markdown",
   "id": "6e52a7fa8a",
   "metadata": {},
   "source": [
    "## 1. Load the file 'bank-additional-full.csv' into a `pd.DataFrame`."
   ]
  },
  {
   "cell_type": "code",
   "execution_count": 13,
   "id": "0756ce98b0",
   "metadata": {},
   "outputs": [
    {
     "name": "stdout",
     "output_type": "stream",
     "text": [
      "<class 'pandas.core.frame.DataFrame'>\n",
      "RangeIndex: 41188 entries, 0 to 41187\n",
      "Data columns (total 21 columns):\n",
      " #   Column          Non-Null Count  Dtype  \n",
      "---  ------          --------------  -----  \n",
      " 0   age             41188 non-null  int64  \n",
      " 1   job             41188 non-null  object \n",
      " 2   marital         41188 non-null  object \n",
      " 3   education       41188 non-null  object \n",
      " 4   default         41188 non-null  object \n",
      " 5   housing         41188 non-null  object \n",
      " 6   loan            41188 non-null  object \n",
      " 7   contact         41188 non-null  object \n",
      " 8   month           41188 non-null  object \n",
      " 9   day_of_week     41188 non-null  object \n",
      " 10  duration        41188 non-null  int64  \n",
      " 11  campaign        41188 non-null  int64  \n",
      " 12  pdays           41188 non-null  int64  \n",
      " 13  previous        41188 non-null  int64  \n",
      " 14  poutcome        41188 non-null  object \n",
      " 15  emp.var.rate    41188 non-null  float64\n",
      " 16  cons.price.idx  41188 non-null  float64\n",
      " 17  cons.conf.idx   41188 non-null  float64\n",
      " 18  euribor3m       41188 non-null  float64\n",
      " 19  nr.employed     41188 non-null  float64\n",
      " 20  y               41188 non-null  object \n",
      "dtypes: float64(5), int64(5), object(11)\n",
      "memory usage: 6.6+ MB\n"
     ]
    }
   ],
   "source": [
    "df = pd.read_csv(\"../../data/raw/bank-additional-full.csv\", delimiter=\";\")\n",
    "df.info()"
   ]
  },
  {
   "cell_type": "markdown",
   "id": "454ff9f17e",
   "metadata": {},
   "source": [
    "## 2. Rename the column 'y' to 'target'."
   ]
  },
  {
   "cell_type": "code",
   "execution_count": 14,
   "id": "5c08d9c741",
   "metadata": {},
   "outputs": [
    {
     "data": {
      "text/plain": [
       "Index(['age', 'job', 'marital', 'education', 'default', 'housing', 'loan',\n",
       "       'contact', 'month', 'day_of_week', 'duration', 'campaign', 'pdays',\n",
       "       'previous', 'poutcome', 'emp.var.rate', 'cons.price.idx',\n",
       "       'cons.conf.idx', 'euribor3m', 'nr.employed', 'target'],\n",
       "      dtype='object')"
      ]
     },
     "execution_count": 14,
     "metadata": {},
     "output_type": "execute_result"
    }
   ],
   "source": [
    "df = df.rename(columns={\"y\": \"target\"})\n",
    "df.columns"
   ]
  },
  {
   "cell_type": "markdown",
   "id": "6e94c58c38",
   "metadata": {},
   "source": [
    "## 3. Drop the column 'duration'."
   ]
  },
  {
   "cell_type": "code",
   "execution_count": 15,
   "id": "afe9e448d7",
   "metadata": {},
   "outputs": [
    {
     "data": {
      "text/plain": [
       "Index(['age', 'job', 'marital', 'education', 'default', 'housing', 'loan',\n",
       "       'contact', 'month', 'day_of_week', 'campaign', 'pdays', 'previous',\n",
       "       'poutcome', 'emp.var.rate', 'cons.price.idx', 'cons.conf.idx',\n",
       "       'euribor3m', 'nr.employed', 'target'],\n",
       "      dtype='object')"
      ]
     },
     "execution_count": 15,
     "metadata": {},
     "output_type": "execute_result"
    }
   ],
   "source": [
    "df = df.drop(columns=[\"duration\"])\n",
    "df.columns"
   ]
  },
  {
   "cell_type": "markdown",
   "id": "998efc9181",
   "metadata": {},
   "source": [
    "## 4. Give columns, other than 'y', the prefix 'feature_'."
   ]
  },
  {
   "cell_type": "code",
   "execution_count": 16,
   "id": "09a8caece1",
   "metadata": {},
   "outputs": [
    {
     "data": {
      "text/plain": [
       "Index(['feature_age', 'feature_job', 'feature_marital', 'feature_education',\n",
       "       'feature_default', 'feature_housing', 'feature_loan', 'feature_contact',\n",
       "       'feature_month', 'feature_day_of_week', 'feature_campaign',\n",
       "       'feature_pdays', 'feature_previous', 'feature_poutcome',\n",
       "       'feature_emp.var.rate', 'feature_cons.price.idx',\n",
       "       'feature_cons.conf.idx', 'feature_euribor3m', 'feature_nr.employed',\n",
       "       'target'],\n",
       "      dtype='object')"
      ]
     },
     "execution_count": 16,
     "metadata": {},
     "output_type": "execute_result"
    }
   ],
   "source": [
    "df = df.add_prefix(\"feature_\").rename(columns={\"feature_target\": \"target\"})\n",
    "df.columns"
   ]
  },
  {
   "cell_type": "markdown",
   "id": "af66cc913f",
   "metadata": {},
   "source": [
    "## 5. Replace the value 999 in column 'feature_pdays' with `pd.NA`."
   ]
  },
  {
   "cell_type": "code",
   "execution_count": 17,
   "id": "af1fc9545a",
   "metadata": {},
   "outputs": [
    {
     "data": {
      "text/plain": [
       "array([999,   6,   4,   3,   5,   1,   0,  10,   7,   8,   9,  11,   2,\n",
       "        12,  13,  14,  15,  16,  21,  17,  18,  22,  25,  26,  19,  27,\n",
       "        20])"
      ]
     },
     "execution_count": 17,
     "metadata": {},
     "output_type": "execute_result"
    }
   ],
   "source": [
    "# display the values in feature_pdays first:\n",
    "df[\"feature_pdays\"].unique()"
   ]
  },
  {
   "cell_type": "code",
   "execution_count": 18,
   "id": "b591cce8ff",
   "metadata": {},
   "outputs": [
    {
     "data": {
      "text/plain": [
       "<Axes: ylabel='Frequency'>"
      ]
     },
     "execution_count": 18,
     "metadata": {},
     "output_type": "execute_result"
    },
    {
     "data": {
      "image/png": "[encoded data removed]",
      "text/plain": [
       "<Figure size 640x480 with 1 Axes>"
      ]
     },
     "metadata": {},
     "output_type": "display_data"
    }
   ],
   "source": [
    "# we can also plot a histogram\n",
    "df[\"feature_pdays\"].plot(kind=\"hist\")"
   ]
  },
  {
   "cell_type": "code",
   "execution_count": 19,
   "id": "74b30776d7",
   "metadata": {},
   "outputs": [
    {
     "data": {
      "text/plain": [
       "array([<NA>, 6, 4, 3, 5, 1, 0, 10, 7, 8, 9, 11, 2, 12, 13, 14, 15, 16, 21,\n",
       "       17, 18, 22, 25, 26, 19, 27, 20], dtype=object)"
      ]
     },
     "execution_count": 19,
     "metadata": {},
     "output_type": "execute_result"
    }
   ],
   "source": [
    "df[\"feature_pdays\"] = df[\"feature_pdays\"].replace(999, pd.NA)\n",
    "df[\"feature_pdays\"].unique()"
   ]
  },
  {
   "cell_type": "code",
   "execution_count": 20,
   "id": "07fcf90fae",
   "metadata": {},
   "outputs": [
    {
     "data": {
      "text/plain": [
       "<Axes: ylabel='Frequency'>"
      ]
     },
     "execution_count": 20,
     "metadata": {},
     "output_type": "execute_result"
    },
    {
     "data": {
      "image/png": "[encoded data removed]",
      "text/plain": [
       "<Figure size 640x480 with 1 Axes>"
      ]
     },
     "metadata": {},
     "output_type": "display_data"
    }
   ],
   "source": [
    "df[\"feature_pdays\"].dropna().plot(kind=\"hist\")"
   ]
  }
 ],
 "metadata": {
  "jupytext": {
   "text_representation": {
    "extension": ".py",
    "format_name": "percent",
    "format_version": "1.3",
    "jupytext_version": "1.17.2"
   }
  },
  "kernelspec": {
   "display_name": "venv",
   "language": "python",
   "name": "python3"
  },
  "language_info": {
   "codemirror_mode": {
    "name": "ipython",
    "version": 3
   },
   "file_extension": ".py",
   "mimetype": "text/x-python",
   "name": "python",
   "nbconvert_exporter": "python",
   "pygments_lexer": "ipython3",
   "version": "3.13.6"
  }
 },
 "nbformat": 4,
 "nbformat_minor": 5
}
