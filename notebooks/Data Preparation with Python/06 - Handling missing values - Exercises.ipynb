{
 "cells": [
  {
   "cell_type": "markdown",
   "id": "cefd8bfe47",
   "metadata": {},
   "source": [
    "# Handling missing values - Exercises"
   ]
  },
  {
   "cell_type": "markdown",
   "id": "5fa3002f70",
   "metadata": {},
   "source": [
    "# Preparations"
   ]
  },
  {
   "cell_type": "code",
   "execution_count": 1,
   "id": "6deb9d3fc5",
   "metadata": {},
   "outputs": [],
   "source": [
    "import pandas as pd\n",
    "\n",
    "pd.set_option(\"display.max_columns\", 500)"
   ]
  },
  {
   "cell_type": "markdown",
   "id": "79feb1aa11",
   "metadata": {},
   "source": [
    "# Exercise 1\n",
    "\n",
    "1. Load the first sheet of the Excel file \"wdi_wrong_types.xlsx\" into a pandas DataFrame.\n",
    "2. What is the column with the most missing values?\n",
    "3. What are the rows with the most missing values in the respective cells?\n",
    "4. How many cells are missing for each row on average?\n",
    "5. Create a copy of the DataFrame, dropping all **rows** that have at least one missing value.\n",
    "6. Create a copy of the DataFrame, dropping all **columns** that have at least one missing value.\n",
    "7. Bonus: Create a copy of the DataFrame, dropping all **columns** that have at least 30% missing values.\n",
    "8. Bonus: Create a copy of the DataFrame, dropping all **rows** that have missing values in the following columns: *countryname* and *SP_URB_TOTL_IN_ZS*.\n",
    "9. Bonus: Considering **'unusual' missing values** like 'NOT AVAILABLE' (in *SP_DYN_LE00_IN*) and -99 (in *CM_MKT_LCAP_CD*), produce a DataFrame with all **rows** removed that have at least one missing value.\n"
   ]
  },
  {
   "cell_type": "markdown",
   "id": "a02f669554",
   "metadata": {},
   "source": [
    "## 1. Load the first sheet of the Excel file \"wdi_wrong_types.csv\" into a pandas DataFrame."
   ]
  },
  {
   "cell_type": "code",
   "execution_count": 2,
   "id": "82d06375df",
   "metadata": {},
   "outputs": [
    {
     "data": {
      "text/html": [
       "<div>\n",
       "<style scoped>\n",
       "    .dataframe tbody tr th:only-of-type {\n",
       "        vertical-align: middle;\n",
       "    }\n",
       "\n",
       "    .dataframe tbody tr th {\n",
       "        vertical-align: top;\n",
       "    }\n",
       "\n",
       "    .dataframe thead th {\n",
       "        text-align: right;\n",
       "    }\n",
       "</style>\n",
       "<table border=\"1\" class=\"dataframe\">\n",
       "  <thead>\n",
       "    <tr style=\"text-align: right;\">\n",
       "      <th></th>\n",
       "      <th>countryname</th>\n",
       "      <th>countrycode</th>\n",
       "      <th>year</th>\n",
       "      <th>pub_date</th>\n",
       "      <th>euro_area</th>\n",
       "      <th>incomegroup_and_id</th>\n",
       "      <th>CM_MKT_LCAP_CD</th>\n",
       "      <th>SP_DYN_LE00_IN</th>\n",
       "      <th>SP_URB_TOTL_IN_ZS</th>\n",
       "      <th>pub_date2</th>\n",
       "      <th>pub_date3</th>\n",
       "      <th>pub_date4</th>\n",
       "    </tr>\n",
       "  </thead>\n",
       "  <tbody>\n",
       "    <tr>\n",
       "      <th>0</th>\n",
       "      <td>NaN</td>\n",
       "      <td>ARM</td>\n",
       "      <td>2012</td>\n",
       "      <td>2013-10-04</td>\n",
       "      <td>NaN</td>\n",
       "      <td>Lower middle income|3</td>\n",
       "      <td>-99</td>\n",
       "      <td>NOT AVAILABLE</td>\n",
       "      <td>NaN</td>\n",
       "      <td>2013.10.4</td>\n",
       "      <td>2013/4/10</td>\n",
       "      <td>41013</td>\n",
       "    </tr>\n",
       "    <tr>\n",
       "      <th>1</th>\n",
       "      <td>Armenia</td>\n",
       "      <td>ARM</td>\n",
       "      <td>2011</td>\n",
       "      <td>2012-08-20</td>\n",
       "      <td>NaN</td>\n",
       "      <td>Lower middle income|3</td>\n",
       "      <td>-99</td>\n",
       "      <td>74.34283</td>\n",
       "      <td>NaN</td>\n",
       "      <td>2012.8.20</td>\n",
       "      <td>2012/20/8</td>\n",
       "      <td>200812</td>\n",
       "    </tr>\n",
       "    <tr>\n",
       "      <th>2</th>\n",
       "      <td>Austria</td>\n",
       "      <td>AUT</td>\n",
       "      <td>2013</td>\n",
       "      <td>2014-03-03</td>\n",
       "      <td>EURO</td>\n",
       "      <td>High income|1</td>\n",
       "      <td>-99</td>\n",
       "      <td>81.13659</td>\n",
       "      <td>65.884</td>\n",
       "      <td>2014.3.3</td>\n",
       "      <td>2014/3/3</td>\n",
       "      <td>30314</td>\n",
       "    </tr>\n",
       "    <tr>\n",
       "      <th>3</th>\n",
       "      <td>Austria</td>\n",
       "      <td>AUT</td>\n",
       "      <td>2012</td>\n",
       "      <td>2013-12-25</td>\n",
       "      <td>EURO</td>\n",
       "      <td>High income|1</td>\n",
       "      <td>-99</td>\n",
       "      <td>80.93659</td>\n",
       "      <td>NaN</td>\n",
       "      <td>2013.12.25</td>\n",
       "      <td>2013/25/12</td>\n",
       "      <td>251213</td>\n",
       "    </tr>\n",
       "    <tr>\n",
       "      <th>4</th>\n",
       "      <td>Austria</td>\n",
       "      <td>AUT</td>\n",
       "      <td>2014</td>\n",
       "      <td>2015-03-22</td>\n",
       "      <td>EURO</td>\n",
       "      <td>High income|1</td>\n",
       "      <td>9,679033e+10</td>\n",
       "      <td>81.49024</td>\n",
       "      <td>65.919</td>\n",
       "      <td>2015.3.22</td>\n",
       "      <td>2015/22/3</td>\n",
       "      <td>220315</td>\n",
       "    </tr>\n",
       "  </tbody>\n",
       "</table>\n",
       "</div>"
      ],
      "text/plain": [
       "  countryname countrycode  year   pub_date euro_area     incomegroup_and_id  \\\n",
       "0         NaN         ARM  2012 2013-10-04       NaN  Lower middle income|3   \n",
       "1     Armenia         ARM  2011 2012-08-20       NaN  Lower middle income|3   \n",
       "2     Austria         AUT  2013 2014-03-03      EURO          High income|1   \n",
       "3     Austria         AUT  2012 2013-12-25      EURO          High income|1   \n",
       "4     Austria         AUT  2014 2015-03-22      EURO          High income|1   \n",
       "\n",
       "  CM_MKT_LCAP_CD SP_DYN_LE00_IN  SP_URB_TOTL_IN_ZS   pub_date2   pub_date3  \\\n",
       "0            -99  NOT AVAILABLE                NaN   2013.10.4   2013/4/10   \n",
       "1            -99       74.34283                NaN   2012.8.20   2012/20/8   \n",
       "2            -99       81.13659             65.884    2014.3.3    2014/3/3   \n",
       "3            -99       80.93659                NaN  2013.12.25  2013/25/12   \n",
       "4   9,679033e+10       81.49024             65.919   2015.3.22   2015/22/3   \n",
       "\n",
       "   pub_date4  \n",
       "0      41013  \n",
       "1     200812  \n",
       "2      30314  \n",
       "3     251213  \n",
       "4     220315  "
      ]
     },
     "execution_count": 2,
     "metadata": {},
     "output_type": "execute_result"
    }
   ],
   "source": [
    "# load the following tab-separated text file\n",
    "df = pd.read_excel(\"../../data/raw/wdi_wrong_types.xlsx\")\n",
    "df.head()"
   ]
  },
  {
   "cell_type": "code",
   "execution_count": 3,
   "id": "b5486a9daf",
   "metadata": {},
   "outputs": [
    {
     "name": "stdout",
     "output_type": "stream",
     "text": [
      "<class 'pandas.core.frame.DataFrame'>\n",
      "RangeIndex: 154 entries, 0 to 153\n",
      "Data columns (total 12 columns):\n",
      " #   Column              Non-Null Count  Dtype         \n",
      "---  ------              --------------  -----         \n",
      " 0   countryname         145 non-null    object        \n",
      " 1   countrycode         154 non-null    object        \n",
      " 2   year                154 non-null    int64         \n",
      " 3   pub_date            154 non-null    datetime64[ns]\n",
      " 4   euro_area           81 non-null     object        \n",
      " 5   incomegroup_and_id  154 non-null    object        \n",
      " 6   CM_MKT_LCAP_CD      154 non-null    object        \n",
      " 7   SP_DYN_LE00_IN      154 non-null    object        \n",
      " 8   SP_URB_TOTL_IN_ZS   118 non-null    float64       \n",
      " 9   pub_date2           154 non-null    object        \n",
      " 10  pub_date3           154 non-null    object        \n",
      " 11  pub_date4           154 non-null    int64         \n",
      "dtypes: datetime64[ns](1), float64(1), int64(2), object(8)\n",
      "memory usage: 14.6+ KB\n"
     ]
    }
   ],
   "source": [
    "df.info()"
   ]
  },
  {
   "cell_type": "markdown",
   "id": "bb3e5a1382",
   "metadata": {},
   "source": [
    "## 2. What is the column with the most missing values?\n",
    "\n",
    "**Note**: For now, we consider only the missing values directly identified as such by pandas. Specifically, we will later also treat values such as -99 in *CM_MKT_LCAP_CD* and 'NOT AVAILABLE' in *SP_DYN_LE00_IN* as missing!"
   ]
  },
  {
   "cell_type": "code",
   "execution_count": 4,
   "id": "afbfffb640",
   "metadata": {},
   "outputs": [
    {
     "data": {
      "text/html": [
       "<div>\n",
       "<style scoped>\n",
       "    .dataframe tbody tr th:only-of-type {\n",
       "        vertical-align: middle;\n",
       "    }\n",
       "\n",
       "    .dataframe tbody tr th {\n",
       "        vertical-align: top;\n",
       "    }\n",
       "\n",
       "    .dataframe thead th {\n",
       "        text-align: right;\n",
       "    }\n",
       "</style>\n",
       "<table border=\"1\" class=\"dataframe\">\n",
       "  <thead>\n",
       "    <tr style=\"text-align: right;\">\n",
       "      <th></th>\n",
       "      <th>count</th>\n",
       "      <th>mean</th>\n",
       "      <th>min</th>\n",
       "      <th>25%</th>\n",
       "      <th>50%</th>\n",
       "      <th>75%</th>\n",
       "      <th>max</th>\n",
       "      <th>std</th>\n",
       "    </tr>\n",
       "  </thead>\n",
       "  <tbody>\n",
       "    <tr>\n",
       "      <th>SP_URB_TOTL_IN_ZS</th>\n",
       "      <td>118.0</td>\n",
       "      <td>73.425025</td>\n",
       "      <td>35.403</td>\n",
       "      <td>64.47725</td>\n",
       "      <td>73.8815</td>\n",
       "      <td>81.23475</td>\n",
       "      <td>100.0</td>\n",
       "      <td>13.982085</td>\n",
       "    </tr>\n",
       "    <tr>\n",
       "      <th>year</th>\n",
       "      <td>154.0</td>\n",
       "      <td>2013.227273</td>\n",
       "      <td>2011.0</td>\n",
       "      <td>2012.0</td>\n",
       "      <td>2013.0</td>\n",
       "      <td>2015.0</td>\n",
       "      <td>2016.0</td>\n",
       "      <td>1.750902</td>\n",
       "    </tr>\n",
       "    <tr>\n",
       "      <th>pub_date</th>\n",
       "      <td>154</td>\n",
       "      <td>2014-09-12 19:00:46.753246720</td>\n",
       "      <td>2012-01-02 00:00:00</td>\n",
       "      <td>2013-01-26 00:00:00</td>\n",
       "      <td>2014-06-25 12:00:00</td>\n",
       "      <td>2016-04-16 06:00:00</td>\n",
       "      <td>2017-12-15 00:00:00</td>\n",
       "      <td>NaN</td>\n",
       "    </tr>\n",
       "    <tr>\n",
       "      <th>pub_date4</th>\n",
       "      <td>154.0</td>\n",
       "      <td>132653.837662</td>\n",
       "      <td>10217.0</td>\n",
       "      <td>70264.0</td>\n",
       "      <td>130667.0</td>\n",
       "      <td>191038.5</td>\n",
       "      <td>251213.0</td>\n",
       "      <td>71958.82346</td>\n",
       "    </tr>\n",
       "  </tbody>\n",
       "</table>\n",
       "</div>"
      ],
      "text/plain": [
       "                   count                           mean                  min  \\\n",
       "SP_URB_TOTL_IN_ZS  118.0                      73.425025               35.403   \n",
       "year               154.0                    2013.227273               2011.0   \n",
       "pub_date             154  2014-09-12 19:00:46.753246720  2012-01-02 00:00:00   \n",
       "pub_date4          154.0                  132653.837662              10217.0   \n",
       "\n",
       "                                   25%                  50%  \\\n",
       "SP_URB_TOTL_IN_ZS             64.47725              73.8815   \n",
       "year                            2012.0               2013.0   \n",
       "pub_date           2013-01-26 00:00:00  2014-06-25 12:00:00   \n",
       "pub_date4                      70264.0             130667.0   \n",
       "\n",
       "                                   75%                  max          std  \n",
       "SP_URB_TOTL_IN_ZS             81.23475                100.0    13.982085  \n",
       "year                            2015.0               2016.0     1.750902  \n",
       "pub_date           2016-04-16 06:00:00  2017-12-15 00:00:00          NaN  \n",
       "pub_date4                     191038.5             251213.0  71958.82346  "
      ]
     },
     "execution_count": 4,
     "metadata": {},
     "output_type": "execute_result"
    }
   ],
   "source": [
    "# describe applies only to the numeric variables; the first entry has the most missings if sorted by \"count\"\n",
    "df.describe().transpose().sort_values(\"count\", ascending=True)"
   ]
  },
  {
   "cell_type": "code",
   "execution_count": 5,
   "id": "8c27a60cdf",
   "metadata": {},
   "outputs": [
    {
     "name": "stdout",
     "output_type": "stream",
     "text": [
      "<class 'pandas.core.frame.DataFrame'>\n",
      "RangeIndex: 154 entries, 0 to 153\n",
      "Data columns (total 12 columns):\n",
      " #   Column              Non-Null Count  Dtype         \n",
      "---  ------              --------------  -----         \n",
      " 0   countryname         145 non-null    object        \n",
      " 1   countrycode         154 non-null    object        \n",
      " 2   year                154 non-null    int64         \n",
      " 3   pub_date            154 non-null    datetime64[ns]\n",
      " 4   euro_area           81 non-null     object        \n",
      " 5   incomegroup_and_id  154 non-null    object        \n",
      " 6   CM_MKT_LCAP_CD      154 non-null    object        \n",
      " 7   SP_DYN_LE00_IN      154 non-null    object        \n",
      " 8   SP_URB_TOTL_IN_ZS   118 non-null    float64       \n",
      " 9   pub_date2           154 non-null    object        \n",
      " 10  pub_date3           154 non-null    object        \n",
      " 11  pub_date4           154 non-null    int64         \n",
      "dtypes: datetime64[ns](1), float64(1), int64(2), object(8)\n",
      "memory usage: 14.6+ KB\n"
     ]
    }
   ],
   "source": [
    "# the other variables we can either check with info, manually:\n",
    "df.info()"
   ]
  },
  {
   "cell_type": "code",
   "execution_count": 6,
   "id": "3d439b4319",
   "metadata": {},
   "outputs": [
    {
     "data": {
      "text/plain": [
       "countryname            9\n",
       "countrycode            0\n",
       "year                   0\n",
       "pub_date               0\n",
       "euro_area             73\n",
       "incomegroup_and_id     0\n",
       "CM_MKT_LCAP_CD         0\n",
       "SP_DYN_LE00_IN         0\n",
       "SP_URB_TOTL_IN_ZS     36\n",
       "pub_date2              0\n",
       "pub_date3              0\n",
       "pub_date4              0\n",
       "dtype: int64"
      ]
     },
     "execution_count": 6,
     "metadata": {},
     "output_type": "execute_result"
    }
   ],
   "source": [
    "df.isna().sum()"
   ]
  },
  {
   "cell_type": "code",
   "execution_count": 7,
   "id": "afa19af7b2",
   "metadata": {},
   "outputs": [
    {
     "data": {
      "text/plain": [
       "euro_area    73\n",
       "dtype: int64"
      ]
     },
     "execution_count": 7,
     "metadata": {},
     "output_type": "execute_result"
    }
   ],
   "source": [
    "df.isna().sum().sort_values(ascending=False).head(1)"
   ]
  },
  {
   "cell_type": "markdown",
   "id": "3259b0f3a2",
   "metadata": {},
   "source": [
    "## 3. What are the rows with the most missing values in the respective cells?"
   ]
  },
  {
   "cell_type": "code",
   "execution_count": 8,
   "id": "4ed95303a2",
   "metadata": {},
   "outputs": [
    {
     "data": {
      "text/html": [
       "<div>\n",
       "<style scoped>\n",
       "    .dataframe tbody tr th:only-of-type {\n",
       "        vertical-align: middle;\n",
       "    }\n",
       "\n",
       "    .dataframe tbody tr th {\n",
       "        vertical-align: top;\n",
       "    }\n",
       "\n",
       "    .dataframe thead th {\n",
       "        text-align: right;\n",
       "    }\n",
       "</style>\n",
       "<table border=\"1\" class=\"dataframe\">\n",
       "  <thead>\n",
       "    <tr style=\"text-align: right;\">\n",
       "      <th></th>\n",
       "      <th>countryname</th>\n",
       "      <th>countrycode</th>\n",
       "      <th>year</th>\n",
       "      <th>pub_date</th>\n",
       "      <th>euro_area</th>\n",
       "      <th>incomegroup_and_id</th>\n",
       "      <th>CM_MKT_LCAP_CD</th>\n",
       "      <th>SP_DYN_LE00_IN</th>\n",
       "      <th>SP_URB_TOTL_IN_ZS</th>\n",
       "      <th>pub_date2</th>\n",
       "      <th>pub_date3</th>\n",
       "      <th>pub_date4</th>\n",
       "      <th>missing_values</th>\n",
       "    </tr>\n",
       "  </thead>\n",
       "  <tbody>\n",
       "    <tr>\n",
       "      <th>0</th>\n",
       "      <td>NaN</td>\n",
       "      <td>ARM</td>\n",
       "      <td>2012</td>\n",
       "      <td>2013-10-04</td>\n",
       "      <td>NaN</td>\n",
       "      <td>Lower middle income|3</td>\n",
       "      <td>-99</td>\n",
       "      <td>NOT AVAILABLE</td>\n",
       "      <td>NaN</td>\n",
       "      <td>2013.10.4</td>\n",
       "      <td>2013/4/10</td>\n",
       "      <td>41013</td>\n",
       "      <td>3</td>\n",
       "    </tr>\n",
       "    <tr>\n",
       "      <th>1</th>\n",
       "      <td>Armenia</td>\n",
       "      <td>ARM</td>\n",
       "      <td>2011</td>\n",
       "      <td>2012-08-20</td>\n",
       "      <td>NaN</td>\n",
       "      <td>Lower middle income|3</td>\n",
       "      <td>-99</td>\n",
       "      <td>74.34283</td>\n",
       "      <td>NaN</td>\n",
       "      <td>2012.8.20</td>\n",
       "      <td>2012/20/8</td>\n",
       "      <td>200812</td>\n",
       "      <td>2</td>\n",
       "    </tr>\n",
       "    <tr>\n",
       "      <th>25</th>\n",
       "      <td>NaN</td>\n",
       "      <td>CAN</td>\n",
       "      <td>2012</td>\n",
       "      <td>2013-07-07</td>\n",
       "      <td>NaN</td>\n",
       "      <td>High income|1</td>\n",
       "      <td>2,059974e+12</td>\n",
       "      <td>81.56244</td>\n",
       "      <td>81.293</td>\n",
       "      <td>2013.7.7</td>\n",
       "      <td>2013/7/7</td>\n",
       "      <td>70713</td>\n",
       "      <td>2</td>\n",
       "    </tr>\n",
       "  </tbody>\n",
       "</table>\n",
       "</div>"
      ],
      "text/plain": [
       "   countryname countrycode  year   pub_date euro_area     incomegroup_and_id  \\\n",
       "0          NaN         ARM  2012 2013-10-04       NaN  Lower middle income|3   \n",
       "1      Armenia         ARM  2011 2012-08-20       NaN  Lower middle income|3   \n",
       "25         NaN         CAN  2012 2013-07-07       NaN          High income|1   \n",
       "\n",
       "   CM_MKT_LCAP_CD SP_DYN_LE00_IN  SP_URB_TOTL_IN_ZS  pub_date2  pub_date3  \\\n",
       "0             -99  NOT AVAILABLE                NaN  2013.10.4  2013/4/10   \n",
       "1             -99       74.34283                NaN  2012.8.20  2012/20/8   \n",
       "25   2,059974e+12       81.56244             81.293   2013.7.7   2013/7/7   \n",
       "\n",
       "    pub_date4  missing_values  \n",
       "0       41013               3  \n",
       "1      200812               2  \n",
       "25      70713               2  "
      ]
     },
     "execution_count": 8,
     "metadata": {},
     "output_type": "execute_result"
    }
   ],
   "source": [
    "df[\"missing_values\"] = df.isna().sum(axis=\"columns\")\n",
    "df.sort_values(\"missing_values\", ascending=False).head(3)"
   ]
  },
  {
   "cell_type": "markdown",
   "id": "6446c059f5",
   "metadata": {},
   "source": [
    "## 4. How many cells are missing for each row on average?"
   ]
  },
  {
   "cell_type": "code",
   "execution_count": 9,
   "id": "a337885877",
   "metadata": {},
   "outputs": [
    {
     "data": {
      "text/plain": [
       "np.float64(0.7662337662337663)"
      ]
     },
     "execution_count": 9,
     "metadata": {},
     "output_type": "execute_result"
    }
   ],
   "source": [
    "df[\"missing_values\"].mean()"
   ]
  },
  {
   "cell_type": "markdown",
   "id": "fbfa8dae24",
   "metadata": {},
   "source": [
    "## 5. Create a copy of the DataFrame, dropping all **rows** that have at least one missing value."
   ]
  },
  {
   "cell_type": "code",
   "execution_count": 10,
   "id": "ab4879fdf6",
   "metadata": {},
   "outputs": [
    {
     "data": {
      "text/plain": [
       "(61, 13)"
      ]
     },
     "execution_count": 10,
     "metadata": {},
     "output_type": "execute_result"
    }
   ],
   "source": [
    "df_new = df.dropna()\n",
    "df_new.shape"
   ]
  },
  {
   "cell_type": "markdown",
   "id": "83f6cad42d",
   "metadata": {},
   "source": [
    "## 6. Create a copy of the DataFrame, dropping all **columns** that have at least one missing value."
   ]
  },
  {
   "cell_type": "code",
   "execution_count": 11,
   "id": "465d0260dc",
   "metadata": {},
   "outputs": [
    {
     "data": {
      "text/plain": [
       "(154, 10)"
      ]
     },
     "execution_count": 11,
     "metadata": {},
     "output_type": "execute_result"
    }
   ],
   "source": [
    "df_new = df.dropna(axis=\"columns\")\n",
    "df_new.shape"
   ]
  },
  {
   "cell_type": "markdown",
   "id": "0e9ca416bb",
   "metadata": {},
   "source": [
    "## 7. Bonus: Create a copy of the DataFrame, dropping all **columns** that have at least 30% missing values."
   ]
  },
  {
   "cell_type": "code",
   "execution_count": 12,
   "id": "dadbdab594",
   "metadata": {},
   "outputs": [
    {
     "data": {
      "text/html": [
       "<div>\n",
       "<style scoped>\n",
       "    .dataframe tbody tr th:only-of-type {\n",
       "        vertical-align: middle;\n",
       "    }\n",
       "\n",
       "    .dataframe tbody tr th {\n",
       "        vertical-align: top;\n",
       "    }\n",
       "\n",
       "    .dataframe thead th {\n",
       "        text-align: right;\n",
       "    }\n",
       "</style>\n",
       "<table border=\"1\" class=\"dataframe\">\n",
       "  <thead>\n",
       "    <tr style=\"text-align: right;\">\n",
       "      <th></th>\n",
       "      <th>countryname</th>\n",
       "      <th>countrycode</th>\n",
       "      <th>year</th>\n",
       "      <th>pub_date</th>\n",
       "      <th>incomegroup_and_id</th>\n",
       "      <th>CM_MKT_LCAP_CD</th>\n",
       "      <th>SP_DYN_LE00_IN</th>\n",
       "      <th>SP_URB_TOTL_IN_ZS</th>\n",
       "      <th>pub_date2</th>\n",
       "      <th>pub_date3</th>\n",
       "      <th>pub_date4</th>\n",
       "      <th>missing_values</th>\n",
       "    </tr>\n",
       "  </thead>\n",
       "  <tbody>\n",
       "    <tr>\n",
       "      <th>0</th>\n",
       "      <td>NaN</td>\n",
       "      <td>ARM</td>\n",
       "      <td>2012</td>\n",
       "      <td>2013-10-04</td>\n",
       "      <td>Lower middle income|3</td>\n",
       "      <td>-99</td>\n",
       "      <td>NOT AVAILABLE</td>\n",
       "      <td>NaN</td>\n",
       "      <td>2013.10.4</td>\n",
       "      <td>2013/4/10</td>\n",
       "      <td>41013</td>\n",
       "      <td>3</td>\n",
       "    </tr>\n",
       "    <tr>\n",
       "      <th>1</th>\n",
       "      <td>Armenia</td>\n",
       "      <td>ARM</td>\n",
       "      <td>2011</td>\n",
       "      <td>2012-08-20</td>\n",
       "      <td>Lower middle income|3</td>\n",
       "      <td>-99</td>\n",
       "      <td>74.34283</td>\n",
       "      <td>NaN</td>\n",
       "      <td>2012.8.20</td>\n",
       "      <td>2012/20/8</td>\n",
       "      <td>200812</td>\n",
       "      <td>2</td>\n",
       "    </tr>\n",
       "    <tr>\n",
       "      <th>2</th>\n",
       "      <td>Austria</td>\n",
       "      <td>AUT</td>\n",
       "      <td>2013</td>\n",
       "      <td>2014-03-03</td>\n",
       "      <td>High income|1</td>\n",
       "      <td>-99</td>\n",
       "      <td>81.13659</td>\n",
       "      <td>65.884</td>\n",
       "      <td>2014.3.3</td>\n",
       "      <td>2014/3/3</td>\n",
       "      <td>30314</td>\n",
       "      <td>0</td>\n",
       "    </tr>\n",
       "  </tbody>\n",
       "</table>\n",
       "</div>"
      ],
      "text/plain": [
       "  countryname countrycode  year   pub_date     incomegroup_and_id  \\\n",
       "0         NaN         ARM  2012 2013-10-04  Lower middle income|3   \n",
       "1     Armenia         ARM  2011 2012-08-20  Lower middle income|3   \n",
       "2     Austria         AUT  2013 2014-03-03          High income|1   \n",
       "\n",
       "  CM_MKT_LCAP_CD SP_DYN_LE00_IN  SP_URB_TOTL_IN_ZS  pub_date2  pub_date3  \\\n",
       "0            -99  NOT AVAILABLE                NaN  2013.10.4  2013/4/10   \n",
       "1            -99       74.34283                NaN  2012.8.20  2012/20/8   \n",
       "2            -99       81.13659             65.884   2014.3.3   2014/3/3   \n",
       "\n",
       "   pub_date4  missing_values  \n",
       "0      41013               3  \n",
       "1     200812               2  \n",
       "2      30314               0  "
      ]
     },
     "execution_count": 12,
     "metadata": {},
     "output_type": "execute_result"
    }
   ],
   "source": [
    "df_new = df.dropna(axis=\"columns\", thresh=round(len(df) * 0.7))\n",
    "df_new.head(3)"
   ]
  },
  {
   "cell_type": "code",
   "execution_count": 13,
   "id": "410fb5e601",
   "metadata": {},
   "outputs": [
    {
     "data": {
      "text/plain": [
       "{'euro_area'}"
      ]
     },
     "execution_count": 13,
     "metadata": {},
     "output_type": "execute_result"
    }
   ],
   "source": [
    "set(df.columns) - set(df_new.columns)"
   ]
  },
  {
   "cell_type": "markdown",
   "id": "02e6b05ab9",
   "metadata": {},
   "source": [
    "## 8. Bonus: Create a copy of the DataFrame, dropping all **rows** that have missing values in the following columns: *countryname* and *SP_URB_TOTL_IN_ZS*."
   ]
  },
  {
   "cell_type": "code",
   "execution_count": 14,
   "id": "dafc473f67",
   "metadata": {},
   "outputs": [
    {
     "data": {
      "text/plain": [
       "(113, 13)"
      ]
     },
     "execution_count": 14,
     "metadata": {},
     "output_type": "execute_result"
    }
   ],
   "source": [
    "df_new = df.dropna(axis=\"rows\", subset=[\"countryname\", \"SP_URB_TOTL_IN_ZS\"])\n",
    "df_new.shape"
   ]
  },
  {
   "cell_type": "markdown",
   "id": "a6e9b7bb87",
   "metadata": {},
   "source": [
    "## 9. Bonus: Considering **'unusual' missing values** like 'NOT AVAILABLE' (in *SP_DYN_LE00_IN*) and -99 (in *CM_MKT_LCAP_CD*), produce a DataFrame with all **rows** removed that have at least one missing value."
   ]
  },
  {
   "cell_type": "code",
   "execution_count": 15,
   "id": "b5486a9daf-1",
   "metadata": {},
   "outputs": [
    {
     "name": "stdout",
     "output_type": "stream",
     "text": [
      "<class 'pandas.core.frame.DataFrame'>\n",
      "RangeIndex: 154 entries, 0 to 153\n",
      "Data columns (total 13 columns):\n",
      " #   Column              Non-Null Count  Dtype         \n",
      "---  ------              --------------  -----         \n",
      " 0   countryname         145 non-null    object        \n",
      " 1   countrycode         154 non-null    object        \n",
      " 2   year                154 non-null    int64         \n",
      " 3   pub_date            154 non-null    datetime64[ns]\n",
      " 4   euro_area           81 non-null     object        \n",
      " 5   incomegroup_and_id  154 non-null    object        \n",
      " 6   CM_MKT_LCAP_CD      154 non-null    object        \n",
      " 7   SP_DYN_LE00_IN      154 non-null    object        \n",
      " 8   SP_URB_TOTL_IN_ZS   118 non-null    float64       \n",
      " 9   pub_date2           154 non-null    object        \n",
      " 10  pub_date3           154 non-null    object        \n",
      " 11  pub_date4           154 non-null    int64         \n",
      " 12  missing_values      154 non-null    int64         \n",
      "dtypes: datetime64[ns](1), float64(1), int64(3), object(8)\n",
      "memory usage: 15.8+ KB\n"
     ]
    }
   ],
   "source": [
    "df.info()"
   ]
  },
  {
   "cell_type": "code",
   "execution_count": 16,
   "id": "d2bf196118",
   "metadata": {},
   "outputs": [
    {
     "data": {
      "text/plain": [
       "array(['NOT AVAILABLE', '74.34283', '81.13659', '80.93659', '81.49024',\n",
       "       '      NA', '81.84390', '80.98293', '80.58537', '81.28780',\n",
       "       '80.38537', '80.58780', '74.16341', '75.96293', '81.15268',\n",
       "       '81.67780', '80.57244', '80.79732', '81.01220', '82.13763',\n",
       "       '81.56244', '81.44878', '83.19756', '82.69512', '82.79756',\n",
       "       '82.69756', '79.76227', '80.30710', '79.57151', '79.94978',\n",
       "       '80.49024', '80.43659', '81.09024', '80.53902', '82.42683',\n",
       "       '83.22927', '82.47561', '83.07805', '82.11463', '81.96829',\n",
       "       '82.67073', '74.35271', '74.18205', '81.43659', '80.63415',\n",
       "       '81.58780', '81.28537', '80.73171', '76.77561', '75.96098',\n",
       "       '75.56585', '75.06341', '75.76341', '74.85854', '81.00000',\n",
       "       '80.74634', '81.50244', '80.84634', '81.34878', '82.69024',\n",
       "       '82.18780', '83.09024', '82.23902', '72.00000', '68.98000',\n",
       "       '71.62000', '70.00244', '82.22927', '80.98780', '81.80000',\n",
       "       '74.87451', '75.03127', '75.39132', '75.70507', '81.10488',\n",
       "       '81.30488', '81.70732', '81.20488', '81.75122', '81.45122',\n",
       "       '82.10000', '81.29512', '76.69512', '77.60244', '78.20488',\n",
       "       '80.72195', '81.12195', '80.47073', '81.52195', '80.37317',\n",
       "       '74.40976', '69.68390', '70.90854', '70.57878', '70.07220',\n",
       "       '70.74366', '76.10976', '75.95854', '79.97073', '81.07805',\n",
       "       '80.12439', '80.32195', '74.90071', '75.42622', '75.16351',\n",
       "       '74.63680', '74.36734', '70.80927', '78.74146', '78.64146'],\n",
       "      dtype=object)"
      ]
     },
     "execution_count": 16,
     "metadata": {},
     "output_type": "execute_result"
    }
   ],
   "source": [
    "# note that what seems to be \"NA\" actually contains leading spaces!\n",
    "df[\"SP_DYN_LE00_IN\"].unique()"
   ]
  },
  {
   "cell_type": "code",
   "execution_count": 17,
   "id": "debe39b253",
   "metadata": {},
   "outputs": [
    {
     "data": {
      "text/plain": [
       "array(['NOT AVAILABLE', '74.34283', '81.13659', '80.93659', '81.49024',\n",
       "       'NA', '81.84390', '80.98293', '80.58537', '81.28780', '80.38537',\n",
       "       '80.58780', '74.16341', '75.96293', '81.15268', '81.67780',\n",
       "       '80.57244', '80.79732', '81.01220', '82.13763', '81.56244',\n",
       "       '81.44878', '83.19756', '82.69512', '82.79756', '82.69756',\n",
       "       '79.76227', '80.30710', '79.57151', '79.94978', '80.49024',\n",
       "       '80.43659', '81.09024', '80.53902', '82.42683', '83.22927',\n",
       "       '82.47561', '83.07805', '82.11463', '81.96829', '82.67073',\n",
       "       '74.35271', '74.18205', '81.43659', '80.63415', '81.58780',\n",
       "       '81.28537', '80.73171', '76.77561', '75.96098', '75.56585',\n",
       "       '75.06341', '75.76341', '74.85854', '81.00000', '80.74634',\n",
       "       '81.50244', '80.84634', '81.34878', '82.69024', '82.18780',\n",
       "       '83.09024', '82.23902', '72.00000', '68.98000', '71.62000',\n",
       "       '70.00244', '82.22927', '80.98780', '81.80000', '74.87451',\n",
       "       '75.03127', '75.39132', '75.70507', '81.10488', '81.30488',\n",
       "       '81.70732', '81.20488', '81.75122', '81.45122', '82.10000',\n",
       "       '81.29512', '76.69512', '77.60244', '78.20488', '80.72195',\n",
       "       '81.12195', '80.47073', '81.52195', '80.37317', '74.40976',\n",
       "       '69.68390', '70.90854', '70.57878', '70.07220', '70.74366',\n",
       "       '76.10976', '75.95854', '79.97073', '81.07805', '80.12439',\n",
       "       '80.32195', '74.90071', '75.42622', '75.16351', '74.63680',\n",
       "       '74.36734', '70.80927', '78.74146', '78.64146'], dtype=object)"
      ]
     },
     "execution_count": 17,
     "metadata": {},
     "output_type": "execute_result"
    }
   ],
   "source": [
    "# first, create a copy of df (without .copy() you might change df as well as df_new!)\n",
    "df_new = df.copy()\n",
    "\n",
    "# then remove trailing spaces in the problematic column\n",
    "df_new[\"SP_DYN_LE00_IN\"] = df[\"SP_DYN_LE00_IN\"].str.strip()\n",
    "df_new[\"SP_DYN_LE00_IN\"].unique()"
   ]
  },
  {
   "cell_type": "code",
   "execution_count": 18,
   "id": "8f31fb34bf",
   "metadata": {},
   "outputs": [
    {
     "data": {
      "text/html": [
       "<div>\n",
       "<style scoped>\n",
       "    .dataframe tbody tr th:only-of-type {\n",
       "        vertical-align: middle;\n",
       "    }\n",
       "\n",
       "    .dataframe tbody tr th {\n",
       "        vertical-align: top;\n",
       "    }\n",
       "\n",
       "    .dataframe thead th {\n",
       "        text-align: right;\n",
       "    }\n",
       "</style>\n",
       "<table border=\"1\" class=\"dataframe\">\n",
       "  <thead>\n",
       "    <tr style=\"text-align: right;\">\n",
       "      <th></th>\n",
       "      <th>countryname</th>\n",
       "      <th>countrycode</th>\n",
       "      <th>year</th>\n",
       "      <th>pub_date</th>\n",
       "      <th>euro_area</th>\n",
       "      <th>incomegroup_and_id</th>\n",
       "      <th>CM_MKT_LCAP_CD</th>\n",
       "      <th>SP_DYN_LE00_IN</th>\n",
       "      <th>SP_URB_TOTL_IN_ZS</th>\n",
       "      <th>pub_date2</th>\n",
       "      <th>pub_date3</th>\n",
       "      <th>pub_date4</th>\n",
       "      <th>missing_values</th>\n",
       "    </tr>\n",
       "  </thead>\n",
       "  <tbody>\n",
       "    <tr>\n",
       "      <th>0</th>\n",
       "      <td>NaN</td>\n",
       "      <td>ARM</td>\n",
       "      <td>2012</td>\n",
       "      <td>2013-10-04</td>\n",
       "      <td>NaN</td>\n",
       "      <td>Lower middle income|3</td>\n",
       "      <td>&lt;NA&gt;</td>\n",
       "      <td>&lt;NA&gt;</td>\n",
       "      <td>NaN</td>\n",
       "      <td>2013.10.4</td>\n",
       "      <td>2013/4/10</td>\n",
       "      <td>41013</td>\n",
       "      <td>3</td>\n",
       "    </tr>\n",
       "    <tr>\n",
       "      <th>1</th>\n",
       "      <td>Armenia</td>\n",
       "      <td>ARM</td>\n",
       "      <td>2011</td>\n",
       "      <td>2012-08-20</td>\n",
       "      <td>NaN</td>\n",
       "      <td>Lower middle income|3</td>\n",
       "      <td>&lt;NA&gt;</td>\n",
       "      <td>74.34283</td>\n",
       "      <td>NaN</td>\n",
       "      <td>2012.8.20</td>\n",
       "      <td>2012/20/8</td>\n",
       "      <td>200812</td>\n",
       "      <td>2</td>\n",
       "    </tr>\n",
       "  </tbody>\n",
       "</table>\n",
       "</div>"
      ],
      "text/plain": [
       "  countryname countrycode  year   pub_date euro_area     incomegroup_and_id  \\\n",
       "0         NaN         ARM  2012 2013-10-04       NaN  Lower middle income|3   \n",
       "1     Armenia         ARM  2011 2012-08-20       NaN  Lower middle income|3   \n",
       "\n",
       "  CM_MKT_LCAP_CD SP_DYN_LE00_IN  SP_URB_TOTL_IN_ZS  pub_date2  pub_date3  \\\n",
       "0           <NA>           <NA>                NaN  2013.10.4  2013/4/10   \n",
       "1           <NA>       74.34283                NaN  2012.8.20  2012/20/8   \n",
       "\n",
       "   pub_date4  missing_values  \n",
       "0      41013               3  \n",
       "1     200812               2  "
      ]
     },
     "execution_count": 18,
     "metadata": {},
     "output_type": "execute_result"
    }
   ],
   "source": [
    "# now replace the problematic values with pd.NA\n",
    "df_new[\"SP_DYN_LE00_IN\"] = df_new[\"SP_DYN_LE00_IN\"].replace([\"NOT AVAILABLE\", \"NA\"], pd.NA)\n",
    "df_new[\"CM_MKT_LCAP_CD\"] = df_new[\"CM_MKT_LCAP_CD\"].replace(\"-99\", pd.NA)\n",
    "df_new.head(2)"
   ]
  },
  {
   "cell_type": "code",
   "execution_count": 19,
   "id": "e4d49d36e3",
   "metadata": {},
   "outputs": [
    {
     "data": {
      "text/plain": [
       "(38, 13)"
      ]
     },
     "execution_count": 19,
     "metadata": {},
     "output_type": "execute_result"
    }
   ],
   "source": [
    "# then dropna\n",
    "df_new = df_new.dropna()\n",
    "df_new.shape"
   ]
  },
  {
   "cell_type": "markdown",
   "id": "433cb54779",
   "metadata": {},
   "source": [
    "# Exercise 2\n",
    "\n",
    "Continue withe the data from the the previous exercise (i.e. the first sheet of the Excel file \"wdi_wrong_types.xlsx\" loaded into a pandas DataFrame).\n",
    "\n",
    "1. Create a copy of the DataFrame, filling missing values in the column *SP_URB_TOTL_IN_ZS* using the backwards method.\n",
    "2. Create a copy of the DataFrame, filling missing values in the column *SP_URB_TOTL_IN_ZS* using the forwards method.\n",
    "3. Create a copy of the DataFrame, filling missing values in the column *SP_URB_TOTL_IN_ZS* with the grand mean.\n",
    "4. Create a copy of the DataFrame, filling missing values in the column *SP_URB_TOTL_IN_ZS* with the country-specific median."
   ]
  },
  {
   "cell_type": "markdown",
   "id": "8dec3f7b2c",
   "metadata": {},
   "source": [
    "## 1. Create a copy of the DataFrame, filling missing values in the column *SP_URB_TOTL_IN_ZS* using the backwards method."
   ]
  },
  {
   "cell_type": "code",
   "execution_count": 20,
   "id": "944279cffb",
   "metadata": {},
   "outputs": [
    {
     "data": {
      "text/html": [
       "<div>\n",
       "<style scoped>\n",
       "    .dataframe tbody tr th:only-of-type {\n",
       "        vertical-align: middle;\n",
       "    }\n",
       "\n",
       "    .dataframe tbody tr th {\n",
       "        vertical-align: top;\n",
       "    }\n",
       "\n",
       "    .dataframe thead th {\n",
       "        text-align: right;\n",
       "    }\n",
       "</style>\n",
       "<table border=\"1\" class=\"dataframe\">\n",
       "  <thead>\n",
       "    <tr style=\"text-align: right;\">\n",
       "      <th></th>\n",
       "      <th>countrycode</th>\n",
       "      <th>year</th>\n",
       "      <th>SP_URB_TOTL_IN_ZS</th>\n",
       "    </tr>\n",
       "  </thead>\n",
       "  <tbody>\n",
       "    <tr>\n",
       "      <th>0</th>\n",
       "      <td>ARM</td>\n",
       "      <td>2012</td>\n",
       "      <td>NaN</td>\n",
       "    </tr>\n",
       "    <tr>\n",
       "      <th>1</th>\n",
       "      <td>ARM</td>\n",
       "      <td>2011</td>\n",
       "      <td>NaN</td>\n",
       "    </tr>\n",
       "    <tr>\n",
       "      <th>2</th>\n",
       "      <td>AUT</td>\n",
       "      <td>2013</td>\n",
       "      <td>65.884</td>\n",
       "    </tr>\n",
       "    <tr>\n",
       "      <th>3</th>\n",
       "      <td>AUT</td>\n",
       "      <td>2012</td>\n",
       "      <td>NaN</td>\n",
       "    </tr>\n",
       "    <tr>\n",
       "      <th>4</th>\n",
       "      <td>AUT</td>\n",
       "      <td>2014</td>\n",
       "      <td>65.919</td>\n",
       "    </tr>\n",
       "  </tbody>\n",
       "</table>\n",
       "</div>"
      ],
      "text/plain": [
       "  countrycode  year  SP_URB_TOTL_IN_ZS\n",
       "0         ARM  2012                NaN\n",
       "1         ARM  2011                NaN\n",
       "2         AUT  2013             65.884\n",
       "3         AUT  2012                NaN\n",
       "4         AUT  2014             65.919"
      ]
     },
     "execution_count": 20,
     "metadata": {},
     "output_type": "execute_result"
    }
   ],
   "source": [
    "df[[\"countrycode\", \"year\", \"SP_URB_TOTL_IN_ZS\"]].head(5)"
   ]
  },
  {
   "cell_type": "code",
   "execution_count": 21,
   "id": "51fd7013a7",
   "metadata": {},
   "outputs": [
    {
     "data": {
      "text/html": [
       "<div>\n",
       "<style scoped>\n",
       "    .dataframe tbody tr th:only-of-type {\n",
       "        vertical-align: middle;\n",
       "    }\n",
       "\n",
       "    .dataframe tbody tr th {\n",
       "        vertical-align: top;\n",
       "    }\n",
       "\n",
       "    .dataframe thead th {\n",
       "        text-align: right;\n",
       "    }\n",
       "</style>\n",
       "<table border=\"1\" class=\"dataframe\">\n",
       "  <thead>\n",
       "    <tr style=\"text-align: right;\">\n",
       "      <th></th>\n",
       "      <th>countrycode</th>\n",
       "      <th>year</th>\n",
       "      <th>SP_URB_TOTL_IN_ZS</th>\n",
       "    </tr>\n",
       "  </thead>\n",
       "  <tbody>\n",
       "    <tr>\n",
       "      <th>1</th>\n",
       "      <td>ARM</td>\n",
       "      <td>2011</td>\n",
       "      <td>NaN</td>\n",
       "    </tr>\n",
       "    <tr>\n",
       "      <th>0</th>\n",
       "      <td>ARM</td>\n",
       "      <td>2012</td>\n",
       "      <td>NaN</td>\n",
       "    </tr>\n",
       "    <tr>\n",
       "      <th>7</th>\n",
       "      <td>AUT</td>\n",
       "      <td>2011</td>\n",
       "      <td>65.858</td>\n",
       "    </tr>\n",
       "    <tr>\n",
       "      <th>3</th>\n",
       "      <td>AUT</td>\n",
       "      <td>2012</td>\n",
       "      <td>NaN</td>\n",
       "    </tr>\n",
       "    <tr>\n",
       "      <th>2</th>\n",
       "      <td>AUT</td>\n",
       "      <td>2013</td>\n",
       "      <td>65.884</td>\n",
       "    </tr>\n",
       "  </tbody>\n",
       "</table>\n",
       "</div>"
      ],
      "text/plain": [
       "  countrycode  year  SP_URB_TOTL_IN_ZS\n",
       "1         ARM  2011                NaN\n",
       "0         ARM  2012                NaN\n",
       "7         AUT  2011             65.858\n",
       "3         AUT  2012                NaN\n",
       "2         AUT  2013             65.884"
      ]
     },
     "execution_count": 21,
     "metadata": {},
     "output_type": "execute_result"
    }
   ],
   "source": [
    "df_new = df.copy().sort_values([\"countrycode\", \"year\"])\n",
    "df_new[[\"countrycode\", \"year\", \"SP_URB_TOTL_IN_ZS\"]].head(5)"
   ]
  },
  {
   "cell_type": "code",
   "execution_count": 22,
   "id": "2a30c98910",
   "metadata": {},
   "outputs": [
    {
     "data": {
      "text/html": [
       "<div>\n",
       "<style scoped>\n",
       "    .dataframe tbody tr th:only-of-type {\n",
       "        vertical-align: middle;\n",
       "    }\n",
       "\n",
       "    .dataframe tbody tr th {\n",
       "        vertical-align: top;\n",
       "    }\n",
       "\n",
       "    .dataframe thead th {\n",
       "        text-align: right;\n",
       "    }\n",
       "</style>\n",
       "<table border=\"1\" class=\"dataframe\">\n",
       "  <thead>\n",
       "    <tr style=\"text-align: right;\">\n",
       "      <th></th>\n",
       "      <th>countrycode</th>\n",
       "      <th>year</th>\n",
       "      <th>SP_URB_TOTL_IN_ZS</th>\n",
       "    </tr>\n",
       "  </thead>\n",
       "  <tbody>\n",
       "    <tr>\n",
       "      <th>1</th>\n",
       "      <td>ARM</td>\n",
       "      <td>2011</td>\n",
       "      <td>NaN</td>\n",
       "    </tr>\n",
       "    <tr>\n",
       "      <th>0</th>\n",
       "      <td>ARM</td>\n",
       "      <td>2012</td>\n",
       "      <td>NaN</td>\n",
       "    </tr>\n",
       "    <tr>\n",
       "      <th>7</th>\n",
       "      <td>AUT</td>\n",
       "      <td>2011</td>\n",
       "      <td>65.858</td>\n",
       "    </tr>\n",
       "    <tr>\n",
       "      <th>3</th>\n",
       "      <td>AUT</td>\n",
       "      <td>2012</td>\n",
       "      <td>65.884</td>\n",
       "    </tr>\n",
       "    <tr>\n",
       "      <th>2</th>\n",
       "      <td>AUT</td>\n",
       "      <td>2013</td>\n",
       "      <td>65.884</td>\n",
       "    </tr>\n",
       "  </tbody>\n",
       "</table>\n",
       "</div>"
      ],
      "text/plain": [
       "  countrycode  year  SP_URB_TOTL_IN_ZS\n",
       "1         ARM  2011                NaN\n",
       "0         ARM  2012                NaN\n",
       "7         AUT  2011             65.858\n",
       "3         AUT  2012             65.884\n",
       "2         AUT  2013             65.884"
      ]
     },
     "execution_count": 22,
     "metadata": {},
     "output_type": "execute_result"
    }
   ],
   "source": [
    "# Without groupby, we would produce unwanted results for Armenia and Austria in 2012, for example (need to sort and groupby!)\n",
    "df_new[\"SP_URB_TOTL_IN_ZS\"] = df_new.groupby(\"countrycode\")[\"SP_URB_TOTL_IN_ZS\"].bfill()\n",
    "df_new[[\"countrycode\", \"year\", \"SP_URB_TOTL_IN_ZS\"]].head(5)"
   ]
  },
  {
   "cell_type": "markdown",
   "id": "0f2bfc79ec",
   "metadata": {},
   "source": [
    "## 2. Create a copy of the DataFrame, filling missing values in the column *SP_URB_TOTL_IN_ZS* using the forwards method."
   ]
  },
  {
   "cell_type": "code",
   "execution_count": 23,
   "id": "a2b4f79129",
   "metadata": {},
   "outputs": [
    {
     "name": "stdout",
     "output_type": "stream",
     "text": [
      "Missing before ffill: 36\n",
      "Missing after ffill: 15\n"
     ]
    },
    {
     "data": {
      "text/html": [
       "<div>\n",
       "<style scoped>\n",
       "    .dataframe tbody tr th:only-of-type {\n",
       "        vertical-align: middle;\n",
       "    }\n",
       "\n",
       "    .dataframe tbody tr th {\n",
       "        vertical-align: top;\n",
       "    }\n",
       "\n",
       "    .dataframe thead th {\n",
       "        text-align: right;\n",
       "    }\n",
       "</style>\n",
       "<table border=\"1\" class=\"dataframe\">\n",
       "  <thead>\n",
       "    <tr style=\"text-align: right;\">\n",
       "      <th></th>\n",
       "      <th>countrycode</th>\n",
       "      <th>year</th>\n",
       "      <th>SP_URB_TOTL_IN_ZS</th>\n",
       "    </tr>\n",
       "  </thead>\n",
       "  <tbody>\n",
       "    <tr>\n",
       "      <th>1</th>\n",
       "      <td>ARM</td>\n",
       "      <td>2011</td>\n",
       "      <td>NaN</td>\n",
       "    </tr>\n",
       "    <tr>\n",
       "      <th>0</th>\n",
       "      <td>ARM</td>\n",
       "      <td>2012</td>\n",
       "      <td>NaN</td>\n",
       "    </tr>\n",
       "    <tr>\n",
       "      <th>7</th>\n",
       "      <td>AUT</td>\n",
       "      <td>2011</td>\n",
       "      <td>65.858</td>\n",
       "    </tr>\n",
       "    <tr>\n",
       "      <th>3</th>\n",
       "      <td>AUT</td>\n",
       "      <td>2012</td>\n",
       "      <td>65.858</td>\n",
       "    </tr>\n",
       "    <tr>\n",
       "      <th>2</th>\n",
       "      <td>AUT</td>\n",
       "      <td>2013</td>\n",
       "      <td>65.884</td>\n",
       "    </tr>\n",
       "  </tbody>\n",
       "</table>\n",
       "</div>"
      ],
      "text/plain": [
       "  countrycode  year  SP_URB_TOTL_IN_ZS\n",
       "1         ARM  2011                NaN\n",
       "0         ARM  2012                NaN\n",
       "7         AUT  2011             65.858\n",
       "3         AUT  2012             65.858\n",
       "2         AUT  2013             65.884"
      ]
     },
     "execution_count": 23,
     "metadata": {},
     "output_type": "execute_result"
    }
   ],
   "source": [
    "# Without groupby, we would produce unwanted results for Armenia and Austria in 2012, for example (need to sort and groupby!)\n",
    "df_new = df.sort_values([\"countrycode\", \"year\"]).copy()\n",
    "print(f\"Missing before ffill: {df_new['SP_URB_TOTL_IN_ZS'].isna().sum()}\")\n",
    "df_new[\"SP_URB_TOTL_IN_ZS\"] = df_new.groupby(\"countrycode\")[\"SP_URB_TOTL_IN_ZS\"].ffill()\n",
    "print(f\"Missing after ffill: {df_new['SP_URB_TOTL_IN_ZS'].isna().sum()}\")\n",
    "df_new[[\"countrycode\", \"year\", \"SP_URB_TOTL_IN_ZS\"]].head(5)"
   ]
  },
  {
   "cell_type": "markdown",
   "id": "a89eccf0ff",
   "metadata": {},
   "source": [
    "## 3. Create a copy of the DataFrame, filling missing values in the column *SP_URB_TOTL_IN_ZS* with the grand mean."
   ]
  },
  {
   "cell_type": "code",
   "execution_count": 24,
   "id": "b1a5416e2f",
   "metadata": {},
   "outputs": [
    {
     "data": {
      "text/html": [
       "<div>\n",
       "<style scoped>\n",
       "    .dataframe tbody tr th:only-of-type {\n",
       "        vertical-align: middle;\n",
       "    }\n",
       "\n",
       "    .dataframe tbody tr th {\n",
       "        vertical-align: top;\n",
       "    }\n",
       "\n",
       "    .dataframe thead th {\n",
       "        text-align: right;\n",
       "    }\n",
       "</style>\n",
       "<table border=\"1\" class=\"dataframe\">\n",
       "  <thead>\n",
       "    <tr style=\"text-align: right;\">\n",
       "      <th></th>\n",
       "      <th>countrycode</th>\n",
       "      <th>year</th>\n",
       "      <th>SP_URB_TOTL_IN_ZS</th>\n",
       "    </tr>\n",
       "  </thead>\n",
       "  <tbody>\n",
       "    <tr>\n",
       "      <th>0</th>\n",
       "      <td>ARM</td>\n",
       "      <td>2012</td>\n",
       "      <td>73.425025</td>\n",
       "    </tr>\n",
       "    <tr>\n",
       "      <th>1</th>\n",
       "      <td>ARM</td>\n",
       "      <td>2011</td>\n",
       "      <td>73.425025</td>\n",
       "    </tr>\n",
       "    <tr>\n",
       "      <th>2</th>\n",
       "      <td>AUT</td>\n",
       "      <td>2013</td>\n",
       "      <td>65.884000</td>\n",
       "    </tr>\n",
       "    <tr>\n",
       "      <th>3</th>\n",
       "      <td>AUT</td>\n",
       "      <td>2012</td>\n",
       "      <td>73.425025</td>\n",
       "    </tr>\n",
       "    <tr>\n",
       "      <th>4</th>\n",
       "      <td>AUT</td>\n",
       "      <td>2014</td>\n",
       "      <td>65.919000</td>\n",
       "    </tr>\n",
       "  </tbody>\n",
       "</table>\n",
       "</div>"
      ],
      "text/plain": [
       "  countrycode  year  SP_URB_TOTL_IN_ZS\n",
       "0         ARM  2012          73.425025\n",
       "1         ARM  2011          73.425025\n",
       "2         AUT  2013          65.884000\n",
       "3         AUT  2012          73.425025\n",
       "4         AUT  2014          65.919000"
      ]
     },
     "execution_count": 24,
     "metadata": {},
     "output_type": "execute_result"
    }
   ],
   "source": [
    "df_new = df.copy()\n",
    "df_new[\"SP_URB_TOTL_IN_ZS\"] = df[\"SP_URB_TOTL_IN_ZS\"].fillna(df[\"SP_URB_TOTL_IN_ZS\"].mean())\n",
    "df_new[[\"countrycode\", \"year\", \"SP_URB_TOTL_IN_ZS\"]].head(5)"
   ]
  },
  {
   "cell_type": "markdown",
   "id": "1f85ee6dfe",
   "metadata": {},
   "source": [
    "## 4. Create a copy of the DataFrame, filling missing values in the column *SP_URB_TOTL_IN_ZS* with the country-specific median."
   ]
  },
  {
   "cell_type": "code",
   "execution_count": 25,
   "id": "be79489635",
   "metadata": {},
   "outputs": [
    {
     "data": {
      "text/html": [
       "<div>\n",
       "<style scoped>\n",
       "    .dataframe tbody tr th:only-of-type {\n",
       "        vertical-align: middle;\n",
       "    }\n",
       "\n",
       "    .dataframe tbody tr th {\n",
       "        vertical-align: top;\n",
       "    }\n",
       "\n",
       "    .dataframe thead th {\n",
       "        text-align: right;\n",
       "    }\n",
       "</style>\n",
       "<table border=\"1\" class=\"dataframe\">\n",
       "  <thead>\n",
       "    <tr style=\"text-align: right;\">\n",
       "      <th></th>\n",
       "      <th>countrycode</th>\n",
       "      <th>year</th>\n",
       "      <th>SP_URB_TOTL_IN_ZS</th>\n",
       "    </tr>\n",
       "  </thead>\n",
       "  <tbody>\n",
       "    <tr>\n",
       "      <th>0</th>\n",
       "      <td>ARM</td>\n",
       "      <td>2012</td>\n",
       "      <td>NaN</td>\n",
       "    </tr>\n",
       "    <tr>\n",
       "      <th>1</th>\n",
       "      <td>ARM</td>\n",
       "      <td>2011</td>\n",
       "      <td>NaN</td>\n",
       "    </tr>\n",
       "    <tr>\n",
       "      <th>2</th>\n",
       "      <td>AUT</td>\n",
       "      <td>2013</td>\n",
       "      <td>65.884</td>\n",
       "    </tr>\n",
       "    <tr>\n",
       "      <th>3</th>\n",
       "      <td>AUT</td>\n",
       "      <td>2012</td>\n",
       "      <td>65.919</td>\n",
       "    </tr>\n",
       "    <tr>\n",
       "      <th>4</th>\n",
       "      <td>AUT</td>\n",
       "      <td>2014</td>\n",
       "      <td>65.919</td>\n",
       "    </tr>\n",
       "  </tbody>\n",
       "</table>\n",
       "</div>"
      ],
      "text/plain": [
       "  countrycode  year  SP_URB_TOTL_IN_ZS\n",
       "0         ARM  2012                NaN\n",
       "1         ARM  2011                NaN\n",
       "2         AUT  2013             65.884\n",
       "3         AUT  2012             65.919\n",
       "4         AUT  2014             65.919"
      ]
     },
     "execution_count": 25,
     "metadata": {},
     "output_type": "execute_result"
    }
   ],
   "source": [
    "df_new = df.copy()\n",
    "df_new[\"SP_URB_TOTL_IN_ZS\"] = df[\"SP_URB_TOTL_IN_ZS\"].fillna(\n",
    "    df.groupby(\"countrycode\")[\"SP_URB_TOTL_IN_ZS\"].transform(\"median\")\n",
    ")\n",
    "df_new[[\"countrycode\", \"year\", \"SP_URB_TOTL_IN_ZS\"]].head(5)"
   ]
  }
 ],
 "metadata": {
  "jupytext": {
   "text_representation": {
    "extension": ".py",
    "format_name": "percent",
    "format_version": "1.3",
    "jupytext_version": "1.17.2"
   }
  },
  "kernelspec": {
   "display_name": "venv",
   "language": "python",
   "name": "python3"
  },
  "language_info": {
   "codemirror_mode": {
    "name": "ipython",
    "version": 3
   },
   "file_extension": ".py",
   "mimetype": "text/x-python",
   "name": "python",
   "nbconvert_exporter": "python",
   "pygments_lexer": "ipython3",
   "version": "3.13.6"
  }
 },
 "nbformat": 4,
 "nbformat_minor": 5
}
